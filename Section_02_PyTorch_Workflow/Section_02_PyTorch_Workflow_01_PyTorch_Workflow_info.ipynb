{
 "cells": [
  {
   "cell_type": "markdown",
   "metadata": {},
   "source": [
    "# Pytorch Workflow info"
   ]
  },
  {
   "attachments": {},
   "cell_type": "markdown",
   "metadata": {},
   "source": [
    "Atunci când ne referim la un `workflow de PyTorch` (la unul dintre ele, deoarece pot fi mai multe), facem referire la imaginea de mai jos prin care se explică cum arată de obicei un workflow din PyTorch și cum ar trebuie să abordăm situația atunci când dorim să creem un model de Deep Learning cu PyTorch."
   ]
  },
  {
   "attachments": {},
   "cell_type": "markdown",
   "metadata": {},
   "source": [
    "<img src='../SS/section_02_image_01.png'>"
   ]
  },
  {
   "attachments": {},
   "cell_type": "markdown",
   "metadata": {},
   "source": [
    "1. Primul pas este să ne procurăm datele cu care o să lucrăm, pe baza căruia o să construim un model de Deep Learning. Aceste date după o să fim  nevoiți să le transformăm în tenosri, tensori cu care o să lucrăm pe parcursul proiectului.\n",
    "\n",
    "2. Pasul următor este fie să ne construim un model de la 0, fie să ne folosim de un model care există deja și care este antrenat (în funcție de ce problemă dorim să rezolvăm). Există extrem de multe modele deja antrenate pe internet care ar putea să ne rezolve din probleme, trebuie doar să le căutăm pe internet și ne putem folosi de ele dacă ne ajută. După asta, o să trebuiască să ne alegem un `loss function` și un `optimizer` (o să vedem mai încolo ce anume reprezintă acestea) și o să ne creem o buclă prin care o să antrenăm modelul respectiv\n",
    "\n",
    "3. Pasul trei este să antrenăm modelul cu datele pe care le avem și să facem primele predicții\n",
    "\n",
    "4. În funcție de predicțiile pe care le face o să învățăm să ne evaluăm modelul\n",
    "\n",
    "5. O să vedem cum putem să ne îmbunătățim modelul prin partea de experimentare\n",
    "\n",
    "6. La final o să ne salăm modelul ce l-am antrenat"
   ]
  },
  {
   "cell_type": "markdown",
   "metadata": {},
   "source": []
  }
 ],
 "metadata": {
  "kernelspec": {
   "display_name": "venv",
   "language": "python",
   "name": "python3"
  },
  "language_info": {
   "codemirror_mode": {
    "name": "ipython",
    "version": 3
   },
   "file_extension": ".py",
   "mimetype": "text/x-python",
   "name": "python",
   "nbconvert_exporter": "python",
   "pygments_lexer": "ipython3",
   "version": "3.9.12"
  },
  "orig_nbformat": 4
 },
 "nbformat": 4,
 "nbformat_minor": 2
}
