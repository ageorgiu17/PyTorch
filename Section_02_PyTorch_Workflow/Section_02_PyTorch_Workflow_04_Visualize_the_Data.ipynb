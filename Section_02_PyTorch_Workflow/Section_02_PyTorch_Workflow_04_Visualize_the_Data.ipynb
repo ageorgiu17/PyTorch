{
 "cells": [
  {
   "attachments": {},
   "cell_type": "markdown",
   "metadata": {},
   "source": [
    "# Visualize the data"
   ]
  },
  {
   "attachments": {},
   "cell_type": "markdown",
   "metadata": {},
   "source": [
    "În secțiunea curentă până în acest moment am creat un set de date pe care ulterior l-am împărțit în **training set** și **test set**. O să refacem acești pași"
   ]
  },
  {
   "cell_type": "code",
   "execution_count": 4,
   "metadata": {},
   "outputs": [
    {
     "name": "stdout",
     "output_type": "stream",
     "text": [
      "Lenght of train set Features: 40\n",
      "Lenght of train set labels: 40\n",
      "Lenght of test set Features: 10\n",
      "Lenght of test set labels: 10\n"
     ]
    }
   ],
   "source": [
    "# importing the libraries\n",
    "import torch\n",
    "\n",
    "# creating the variables\n",
    "start = 0\n",
    "end = 1\n",
    "step = 0.02\n",
    "\n",
    "weight = 0.7\n",
    "bias = 0.7\n",
    "\n",
    "# creating a tensor that represents the Features\n",
    "X = torch.arange(start, end, step).unsqueeze(dim=1)\n",
    "\n",
    "# creating the labels using Linear Regression Formula\n",
    "y = weight * X + bias\n",
    "\n",
    "# Splitting the data into train set and test set\n",
    "train_split = int(0.8 * len(X))\n",
    "X_train ,y_train = X[:train_split], y[:train_split]\n",
    "X_test, y_test = X[train_split:], y[train_split:]\n",
    "\n",
    "# printing the lenght of the train set and test set\n",
    "print(f'Lenght of train set Features: {len(X_train)}')\n",
    "print(f'Lenght of train set labels: {len(y_train)}')\n",
    "\n",
    "print(f'Lenght of test set Features: {len(X_test)}')\n",
    "print(f'Lenght of test set labels: {len(y_test)}')\n"
   ]
  },
  {
   "attachments": {},
   "cell_type": "markdown",
   "metadata": {},
   "source": [
    "După cum spuneam, partea aceasta de împărțire a setului de date în **training set** și **test set** este una dintre cele mai importante concepte din Machine Learning. Pe viitor o să folosim Scikit-Learn care o să adauge și o parte aleatorie pentru această funcționalitate. Acum că avem datele împărțite, cum am putea să le vizualizăm mai bine? Pentru asta o să ne folosim de librăria `Matplotlib`, librărie care se ocupă de partea de vizualizare de date. O să ne creem o funcție pe care o să o denumim **plot_predictions()** cu ajutorul căreia o să putem să vizualizăm atât setul de antrenare, setul de date de testare și predicțiile pe care o să le facă modelul."
   ]
  },
  {
   "cell_type": "code",
   "execution_count": 6,
   "metadata": {},
   "outputs": [],
   "source": [
    "# importing matplotlib\n",
    "import matplotlib.pyplot as plt"
   ]
  },
  {
   "cell_type": "code",
   "execution_count": 9,
   "metadata": {},
   "outputs": [],
   "source": [
    "# creating the function\n",
    "def plot_predictions(\n",
    "        train_data=X_train,\n",
    "        train_labels=y_train,\n",
    "        test_data=X_test,\n",
    "        test_labels=y_test,\n",
    "        predictions=None,\n",
    "        ):\n",
    "    \"\"\" \n",
    "    Method that plot training data, test data and predictions\n",
    "    \"\"\"\n",
    "\n",
    "    # creating a figure\n",
    "    plt.figure(figsize=(10, 7))\n",
    "\n",
    "    # plotting training data\n",
    "    plt.scatter(train_data, train_labels, c=\"b\", s=5, label=\"Traing Data\")\n",
    "\n",
    "    # plotting test data\n",
    "    plt.scatter(test_data, test_labels, c=\"g\", s=5, label=\"Test Data\")\n",
    "\n",
    "    # checking if we have predictions\n",
    "    if predictions:\n",
    "        # plotting the predictions\n",
    "        plt.scatter(test_data, predictions, c=\"r\", s=5, label=\"Predictions\")\n",
    "\n",
    "    # displaying the Legend\n",
    "    plt.legend()\n"
   ]
  },
  {
   "cell_type": "code",
   "execution_count": 10,
   "metadata": {},
   "outputs": [
    {
     "data": {
      "image/png": "[encoded data removed]",
      "text/plain": [
       "<Figure size 1000x700 with 1 Axes>"
      ]
     },
     "metadata": {},
     "output_type": "display_data"
    }
   ],
   "source": [
    "plot_predictions()"
   ]
  },
  {
   "attachments": {},
   "cell_type": "markdown",
   "metadata": {},
   "source": [
    "În graficul de mai sus avem o reprezentare a datelor cu care am tot lucrat și cu care o să mai lucrăm pe parcursul acestei secțiuni. Deoarece momentan nu avem predicții (deoarece nu ne-am creat modelul încă), nu apar punctele roșii pe acest grafic (puncte roșii care reprezintă predicțiile). Se poate observa că avem o lini dreaptă, nu putem să avem un set de date mai simplu de atât (Linear Regression, există o regresie liniară, ceea ce avem și noi, o linie). \n",
    "\n",
    "Datele de antrenare sunt prezente cu albastru, iar cele de testare sunt cu culoarea verde. Ideea după care o să ne construim un model de Machine Learning, o să luăm datele de antrenare (cele cu albastru), și se poate observa că în aceste date de antrenare există un anumit pattern, există ceva relație între X și y. O să ne construim un model care o să încerce să învețe acest pattern, acea relație care există între X și y din datele de antrenare (punctele cu albastru), iar cu acel pattern pe care îl învață o să facă predicții pentru datele de testare (adică punctele cu verde). Un model perfect o să suprapună punctele roșii (predicțiile pe care o să le facă) peste punctele verzi (adevărata valoare a label-ului pentru datele de testare) în graficul de mai sus \n",
    "\n",
    "Noi cunoaște relația care există între X și y, deoarece noi am definit acea relație prin formula regresiei liniare (y = weight * X + bias), dar modelul nu știe asta, el trebuie să deducă această relație din datele de antrenare. În următoarea lecție o să creem primul model din PyTorch"
   ]
  },
  {
   "attachments": {},
   "cell_type": "markdown",
   "metadata": {},
   "source": [
    "## Recapitulare"
   ]
  },
  {
   "attachments": {},
   "cell_type": "markdown",
   "metadata": {},
   "source": [
    "În această lecție am creat o funcție prin care putem să vizualizăm datele de antrenare, de testare și predicțiile într-un singur grafic\n",
    "\n",
    "```python\n",
    "import matplotlib.pyplot as plt\n",
    "\n",
    "def plot_predictions(\n",
    "        train_data=X_train,\n",
    "        train_labels=y_train,\n",
    "        test_data=X_test,\n",
    "        test_labels=y_test,\n",
    "        predictions=None,\n",
    "        ):\n",
    "\n",
    "    plt.figure(figsize=(10, 7))\n",
    "    plt.scatter(train_data, train_labels, c=\"b\", s=5, label=\"Traing Data\")\n",
    "    plt.scatter(test_data, test_labels, c=\"g\", s=5, label=\"Test Data\")\n",
    "\n",
    "    if predictions:\n",
    "        plt.scatter(test_data, predictions, c=\"r\", s=5, label=\"Predictions\")\n",
    "\n",
    "    plt.legend()\n",
    "```"
   ]
  }
 ],
 "metadata": {
  "kernelspec": {
   "display_name": "venv",
   "language": "python",
   "name": "python3"
  },
  "language_info": {
   "codemirror_mode": {
    "name": "ipython",
    "version": 3
   },
   "file_extension": ".py",
   "mimetype": "text/x-python",
   "name": "python",
   "nbconvert_exporter": "python",
   "pygments_lexer": "ipython3",
   "version": "3.9.12"
  },
  "orig_nbformat": 4
 },
 "nbformat": 4,
 "nbformat_minor": 2
}
