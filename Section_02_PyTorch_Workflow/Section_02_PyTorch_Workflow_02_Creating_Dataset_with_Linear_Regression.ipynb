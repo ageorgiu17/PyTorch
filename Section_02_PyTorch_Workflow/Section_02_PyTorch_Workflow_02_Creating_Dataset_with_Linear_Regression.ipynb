{
 "cells": [
  {
   "attachments": {},
   "cell_type": "markdown",
   "metadata": {},
   "source": [
    "# Creating a Dataset with Linear Regression"
   ]
  },
  {
   "attachments": {},
   "cell_type": "markdown",
   "metadata": {},
   "source": [
    "O să începem această secțiune cu prima parte a ceea ce consistă un Workflow de PyTorch și acuma cu secțiunea de `Data`. Cum putem să ne procurăm datele cu care lucrăm într-un tensor. După cum am spus, orice poate fi transformat în date în Machine Learning:\n",
    "\n",
    "- fișiere csv\n",
    "\n",
    "- imaginie\n",
    "\n",
    "- videoclipuri\n",
    "\n",
    "- fișiere audio\n",
    "\n",
    "- ADN\n",
    "\n",
    "- text"
   ]
  },
  {
   "attachments": {},
   "cell_type": "markdown",
   "metadata": {},
   "source": [
    "În mare parte Machine Learning și Deep Learning este construit din două părți mari:\n",
    "\n",
    "1. Reprezentarea datelor în format numeric\n",
    "\n",
    "2. Crearea unui model pentru ca acesta să învețe anumite pattern-uri din datele respective"
   ]
  },
  {
   "attachments": {},
   "cell_type": "markdown",
   "metadata": {},
   "source": [
    "Pentru început o să ne creem un set de date numeric folosind formula de la **linear regression**, formulă care arată așa:\n",
    "\n",
    "Y = b * X + a\n",
    "\n",
    "where Y is the response (dependent) variable, X is the predictor (independent) variable, m is the estimated slope, and b is the estimated intercept.\n",
    "\n",
    "Ceea ce este mai sus este definiția pentru formula de la linear regression. Ceea ce o să creem noi este o linie dreaptă care conține **parametrii** cunoscuți (termenul de parametrii o să îl mai tot auzim în cadrul acestui curs, dar în mare parte reprezintă ceea ce folosește modelul pentru a învăța)"
   ]
  },
  {
   "cell_type": "code",
   "execution_count": 2,
   "metadata": {},
   "outputs": [],
   "source": [
    "# importing the libraries\n",
    "import torch"
   ]
  },
  {
   "cell_type": "code",
   "execution_count": 1,
   "metadata": {},
   "outputs": [],
   "source": [
    "# create a linear regression formula\n",
    "weight = 0.7 # equivalent of b\n",
    "bias = 0.3 # equivalennt of a\n"
   ]
  },
  {
   "attachments": {},
   "cell_type": "markdown",
   "metadata": {},
   "source": [
    "Termenii de `weight` și `bias` sunt alți doi termeni de care o să ne tot batem atunci când avem de-a face cu Machine Learning și Deep Learning"
   ]
  },
  {
   "attachments": {},
   "cell_type": "markdown",
   "metadata": {},
   "source": [
    "Noi cunoaștem acele numere (weight și bias), dar scopul este să construim un model care să facă o estimare la acele numere. Cum anume ar putea face asta? Pentru asta o să ne uităm la exemple diferite. Pentru început o să creem un range de valori între 0 și 1 cu un step de 0.02. Aceste valori o să le creem într-un tensor, tensor pe care o să îl denumim `X`. Această noțiune de obicei vine de la denumirea de Matrix sau Tensor, denumiri care în Machine Learning și Deep Learning se trec cu majusculă (**X** reprezintă `Features` din ML)"
   ]
  },
  {
   "cell_type": "code",
   "execution_count": 14,
   "metadata": {},
   "outputs": [],
   "source": [
    "start = 0\n",
    "end = 1\n",
    "step = 0.02\n",
    "\n",
    "X = torch.arange(start, end, step).unsqueeze(dim=1)"
   ]
  },
  {
   "cell_type": "code",
   "execution_count": 15,
   "metadata": {},
   "outputs": [],
   "source": [
    "y = weight * X + bias"
   ]
  },
  {
   "attachments": {},
   "cell_type": "markdown",
   "metadata": {},
   "source": [
    "În cadrul variabile **y** am salvat rezultatele formulei regresiei liniare. Acuma o să aruncăm o privire la datele pe care le-am creat pentru a putea să înțelegem un pic mai bine ceea ce am realizat până în acest moment"
   ]
  },
  {
   "cell_type": "code",
   "execution_count": 16,
   "metadata": {},
   "outputs": [
    {
     "data": {
      "text/plain": [
       "(tensor([[0.0000],\n",
       "         [0.0200],\n",
       "         [0.0400],\n",
       "         [0.0600],\n",
       "         [0.0800],\n",
       "         [0.1000],\n",
       "         [0.1200],\n",
       "         [0.1400],\n",
       "         [0.1600],\n",
       "         [0.1800]]),\n",
       " tensor([[0.3000],\n",
       "         [0.3140],\n",
       "         [0.3280],\n",
       "         [0.3420],\n",
       "         [0.3560],\n",
       "         [0.3700],\n",
       "         [0.3840],\n",
       "         [0.3980],\n",
       "         [0.4120],\n",
       "         [0.4260]]))"
      ]
     },
     "execution_count": 16,
     "metadata": {},
     "output_type": "execute_result"
    }
   ],
   "source": [
    "X[:10], y[:10]"
   ]
  },
  {
   "cell_type": "code",
   "execution_count": 13,
   "metadata": {},
   "outputs": [
    {
     "data": {
      "text/plain": [
       "(50, 50)"
      ]
     },
     "execution_count": 13,
     "metadata": {},
     "output_type": "execute_result"
    }
   ],
   "source": [
    "len(X), len(y)"
   ]
  },
  {
   "attachments": {},
   "cell_type": "markdown",
   "metadata": {},
   "source": [
    "Ceea ce trebuie să facem este să creem un model care să învețe din valorile care sunt prezente în X, să se uite peste acele numere, să găsească anumite pattern-uri și să învețe care sunt valorile asociate din y pentru datele care sunt prezente în X. Ceea ce trebuie să facă modelul este să găsească relația care există între valorile din X și valorile din y. Noi ca și utilizator, în cadrul acestui exemplu știm care este relația dintre X și y, deoarece am creat-o mai sus (y = weight * X + bias). În cazurile din viața reală, nu o să știm care este acea formulă, iar premisa din Machine Learning, respectiv Deep Learning este să găsească acea relație"
   ]
  },
  {
   "attachments": {},
   "cell_type": "markdown",
   "metadata": {},
   "source": [
    "Cam acestea sunt datele cu care o să lucrăm acuma. Poate pare un pic confuz la început ce sunt aceste date, dar o să continuăm să lucrăm cu aceste date și o să înțelegem până la urmă ce reprezintă acestea."
   ]
  },
  {
   "attachments": {},
   "cell_type": "markdown",
   "metadata": {},
   "source": [
    "## Recapitulare"
   ]
  },
  {
   "attachments": {},
   "cell_type": "markdown",
   "metadata": {},
   "source": [
    "În cadrul acestei secțiuni am învățat următoarele:\n",
    "\n",
    "1. Care este formula pentru Regresia Liniară\n",
    "\n",
    "Y = b * X + a\n",
    "\n",
    "2. Cum putem să ne folosim de aceată formulă pentru a crea un set de date\n",
    "\n",
    "```python\n",
    "import torch\n",
    "\n",
    "weight = 0.7 # equivalent of b\n",
    "bias = 0.3 # equivalent of a\n",
    "\n",
    "start = 0\n",
    "end = 1\n",
    "step = 0.02\n",
    "\n",
    "X = torch.arange(start, end, step).unsqueeze(dim=1)\n",
    "y = weight * X + bias\n",
    "```\n"
   ]
  }
 ],
 "metadata": {
  "kernelspec": {
   "display_name": "venv",
   "language": "python",
   "name": "python3"
  },
  "language_info": {
   "codemirror_mode": {
    "name": "ipython",
    "version": 3
   },
   "file_extension": ".py",
   "mimetype": "text/x-python",
   "name": "python",
   "nbconvert_exporter": "python",
   "pygments_lexer": "ipython3",
   "version": "3.9.12"
  },
  "orig_nbformat": 4
 },
 "nbformat": 4,
 "nbformat_minor": 2
}
