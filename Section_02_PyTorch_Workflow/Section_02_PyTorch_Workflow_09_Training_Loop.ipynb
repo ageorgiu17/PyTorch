{
 "cells": [
  {
   "attachments": {},
   "cell_type": "markdown",
   "metadata": {},
   "source": [
    "# Trainig Loop"
   ]
  },
  {
   "attachments": {},
   "cell_type": "markdown",
   "metadata": {},
   "source": [
    "Ceea ce am învățat anterior este cum să ne creem o funcție de **loss function** și un **optimizer** și la ce anume ne ajută aceste două concepte. Conceptele respective în mare ne ajută la antrenare unui model de Deep Learning. După ce am setat aceste componente, putem să creem o buclă de antrenare a unui model de PyTorch. Pentru a crea o astfel de buclă este nevoie să parcurgem câțiva pași"
   ]
  },
  {
   "attachments": {},
   "cell_type": "markdown",
   "metadata": {},
   "source": [
    "0. Trebuie să trecem prin setul de date (Loop through the data)\n",
    "\n",
    "1. În momentul în care parcurgem setul de date trebuie să ducem aceste date prin metoda forward (forward pass, sau mai poartă denumirea și de 'forward propagation') (Prin acestă metodă facem predicții la date)\n",
    "\n",
    "2. Calculăm performanța modelului (Calculate the loss) (comparăm predicțiile făcute de către funcția 'forward()' cu label-urile din setul de testare )\n",
    "\n",
    "3. Optimizer zero grad\n",
    "\n",
    "4. Trebuie să mutăm din nou datele. Metoda forward() duce datele din input prin rețeaua neuronală către partea de output (unde se fac predicții). Prin pasul acesta ducem înapoi datele din layer-ul de output către layer-ul de input. În acest pas se și calculează gradientul pentru fiecare dintre parametrii modelului (Loss backward) (**backpropagation**)\n",
    "\n",
    "5. Ajustăm parametrii modelului utilizând optimizatorul (Optimizer step) (**gradient descent**)"
   ]
  },
  {
   "attachments": {},
   "cell_type": "markdown",
   "metadata": {},
   "source": [
    "Acești pași sunt pașii care trebuie urmați pentru a antrena un model de Deep Learning cu PyTorch. O să începem să scriem codul pentru fiecare pas în parte. Înainte a scrie codul trebuie să refacem setul de date și modelul. "
   ]
  },
  {
   "cell_type": "code",
   "execution_count": 5,
   "metadata": {},
   "outputs": [],
   "source": [
    "# importing the librarie\n",
    "import torch\n",
    "from torch import nn\n",
    "import matplotlib.pyplot as plt\n"
   ]
  },
  {
   "cell_type": "code",
   "execution_count": 4,
   "metadata": {},
   "outputs": [
    {
     "name": "stdout",
     "output_type": "stream",
     "text": [
      "Lenght of train set Features: 40\n",
      "Lenght of train set labels: 40\n",
      "Lenght of test set Features: 10\n",
      "Lenght of test set labels: 10\n"
     ]
    }
   ],
   "source": [
    "# creating the dataset\n",
    "start = 0\n",
    "end = 1\n",
    "step = 0.02\n",
    "\n",
    "# creating the 'known' parameters\n",
    "weight = 0.7\n",
    "bias = 0.3\n",
    "\n",
    "# creating the features represented as a tensor\n",
    "X = torch.arange(start, end, step).unsqueeze(dim=-1)\n",
    "\n",
    "# creating the lables\n",
    "y = weight * X + bias\n",
    "\n",
    "# splitting the data into train and test sets\n",
    "train_split = int(0.8 * len(X))\n",
    "\n",
    "X_train, y_train = X[:train_split], y[:train_split]\n",
    "X_test, y_test = X[train_split:], y[train_split:]\n",
    "\n",
    "# printing the lenght of the train set and test set\n",
    "print(f'Lenght of train set Features: {len(X_train)}')\n",
    "print(f'Lenght of train set labels: {len(y_train)}')\n",
    "\n",
    "print(f'Lenght of test set Features: {len(X_test)}')\n",
    "print(f'Lenght of test set labels: {len(y_test)}')\n"
   ]
  },
  {
   "cell_type": "code",
   "execution_count": 8,
   "metadata": {},
   "outputs": [],
   "source": [
    "# visualize the data with a help of a function and matplotlib\n",
    "\n",
    "def plot_predictions(\n",
    "    train_data=X_train,\n",
    "    train_labels=y_train,\n",
    "    test_data=X_test,\n",
    "    test_labels=y_test,\n",
    "    predictions=None,\n",
    "    ):\n",
    "    # creating a figure\n",
    "    plt.figure(figsize=(10, 7))\n",
    "\n",
    "    # plotting the training data in blue\n",
    "    plt.scatter(train_data, train_labels, c=\"b\", s=5, label=\"Training Data\")\n",
    "\n",
    "    # plotting the test data in green\n",
    "    plt.scatter(test_data, test_labels, c=\"g\", s=5, label=\"Test Data\")\n",
    "\n",
    "    # checking if we have predictions\n",
    "    if predictions is not None:\n",
    "        # plotting the predictions in red\n",
    "        plt.scatter(test_data, predictions, c=\"r\", s=5, label=\"Predictions\")\n",
    "\n",
    "    # displaying the legend\n",
    "    plt.legend() "
   ]
  },
  {
   "cell_type": "code",
   "execution_count": 9,
   "metadata": {},
   "outputs": [
    {
     "data": {
      "image/png": "[encoded data removed]",
      "text/plain": [
       "<Figure size 1000x700 with 1 Axes>"
      ]
     },
     "metadata": {},
     "output_type": "display_data"
    }
   ],
   "source": [
    "plot_predictions()"
   ]
  },
  {
   "cell_type": "code",
   "execution_count": 10,
   "metadata": {},
   "outputs": [],
   "source": [
    "# creating a model\n",
    "class LinearRegressionModel(nn.Module):\n",
    "    # all models must inherite the nn.Module modul from torch\n",
    "\n",
    "    # creating the constructor of the class\n",
    "    def __init__(self):\n",
    "        # it also must inherit the constructor of the class interited\n",
    "        super().__init__()\n",
    "\n",
    "        # creating the parameters\n",
    "        self.weight = nn.Parameter(torch.randn(1, requires_grad=True, dtype=torch.float32))\n",
    "        self.bias = nn.Parameter(torch.randn(1, requires_grad=True, dtype=torch.float32))\n",
    "\n",
    "    # overwriting the forward() method\n",
    "    def forward(self, x: torch.Tensor) -> torch.Tensor:\n",
    "        # all models should overwrite the forward() method\n",
    "        # this is where we specify what computation need to be made by the model\n",
    "        return self.weight * x + self.bias"
   ]
  },
  {
   "cell_type": "code",
   "execution_count": 11,
   "metadata": {},
   "outputs": [],
   "source": [
    "# setting the random seed when creating the model\n",
    "torch.manual_seed(42)\n",
    "\n",
    "model_0 = LinearRegressionModel()"
   ]
  },
  {
   "cell_type": "code",
   "execution_count": 12,
   "metadata": {},
   "outputs": [
    {
     "data": {
      "text/plain": [
       "OrderedDict([('weight', tensor([0.3367])), ('bias', tensor([0.1288]))])"
      ]
     },
     "execution_count": 12,
     "metadata": {},
     "output_type": "execute_result"
    }
   ],
   "source": [
    "# checking the model parameters\n",
    "model_0.state_dict()"
   ]
  },
  {
   "cell_type": "code",
   "execution_count": 13,
   "metadata": {},
   "outputs": [],
   "source": [
    "# making predictions without training the model\n",
    "with torch.inference_mode():\n",
    "    y_preds = model_0(X_test)\n"
   ]
  },
  {
   "cell_type": "code",
   "execution_count": 15,
   "metadata": {},
   "outputs": [
    {
     "data": {
      "image/png": "[encoded data removed]",
      "text/plain": [
       "<Figure size 1000x700 with 1 Axes>"
      ]
     },
     "metadata": {},
     "output_type": "display_data"
    }
   ],
   "source": [
    "# plotting the predictions\n",
    "plot_predictions(predictions=y_preds)"
   ]
  },
  {
   "cell_type": "code",
   "execution_count": 16,
   "metadata": {},
   "outputs": [],
   "source": [
    "# setting up a loss_function and an optimizer\n",
    "loss_fn = nn.L1Loss()\n",
    "\n",
    "optimizer = torch.optim.SGD(params=model_0.parameters(), lr=0.001)"
   ]
  },
  {
   "attachments": {},
   "cell_type": "markdown",
   "metadata": {},
   "source": [
    "Începem cu pasul 0, cel prin care trecem prin setul de date. Fiecare trecere prin setul de date o să poarte denumirea de **epocă** (`epochs`). Aceasta o să fie numele variabile pe care trebuie să o definim, iar ca și valoare pentru acestă variabilă o să îi oferim un număr integer ce o să reprezinte cât de multe treceri prin setul de date dorim să avem. După ce stabilim acest număr o să fie nevoie să ne creem o buclă prin care parcurgem acel număr de epoci"
   ]
  },
  {
   "cell_type": "code",
   "execution_count": 18,
   "metadata": {},
   "outputs": [],
   "source": [
    "# training loop for model training\n",
    "\n",
    "epochs = 1\n",
    "\n",
    "for epoch in range(epochs):\n",
    "    pass"
   ]
  },
  {
   "attachments": {},
   "cell_type": "markdown",
   "metadata": {},
   "source": [
    "Valoare pe careo să i-o oferim variabilelei *epochs* o să fie 1 pentru început, deși aceasta ar putea fi orice valoare. Din moment ce am setat această valoare la 1 înseamnă că o să treacă o singură dată prin setul de date de antrenare al modelului. Următorul pas pe care trebuie să îl facem este să setăm modelul în modul de 'antrenare' (acest pas nu este trecut în lista de mai sus). Modele din PyTorch au diferite moduri pe care le putem accesa. Atunci când antrenăm un model trebuie să îi trecem în modul de antrenare, iar asta se face prin comanda `model_0.train()`. Se trece numele modelului urmat de metoda **.train()**"
   ]
  },
  {
   "cell_type": "code",
   "execution_count": 23,
   "metadata": {},
   "outputs": [],
   "source": [
    "# training loop for model training\n",
    "\n",
    "# an epoch is one loop through the data\n",
    "epochs = 1\n",
    "\n",
    "for epoch in range(epochs):\n",
    "\n",
    "    # set the model in training mode\n",
    "    model_0.train()\n"
   ]
  },
  {
   "attachments": {},
   "cell_type": "markdown",
   "metadata": {},
   "source": [
    "Metoda model_0.train() setează toți parametrii modelului care au fost creați specificând să țină cont de gradient (requires_grad=True) să aibă din nou această valoare. Acest lucru se face deoarece atunci când facem predicții cu un model se dezactivează această funcție, prin urmare trebuie să o reactivăm. Acum putem să revenim la pașii din antrenarea modelului. Urmărul pas este să trecem datele prin metoda forward (*forward pass*). Datele pe care le pasăm în această metodă sunt datele de testare (X_test)"
   ]
  },
  {
   "cell_type": "code",
   "execution_count": 24,
   "metadata": {},
   "outputs": [],
   "source": [
    "# training loop for model trraining\n",
    "\n",
    "# an epoch is one loop through the data\n",
    "epochs = 1\n",
    "\n",
    "# Step 0. Loop through the data\n",
    "for epoch in range(epochs):\n",
    "\n",
    "    # set the model to training mode\n",
    "    model_0.train()\n",
    "\n",
    "    # Step 1. Forward pass\n",
    "    y_preds = model_0(X_test)\n"
   ]
  },
  {
   "attachments": {},
   "cell_type": "markdown",
   "metadata": {},
   "source": [
    "Acum după ce am dus datele prin metoda forward() (metodă care defapt face predicții), trebuie să calculăm acel **loss function**, adică să vedem care este performața modelului. Să comparăm predicții cu label-urile de la datele de testare (y_preds comparat cu y_test). Metoda de de loss function pe care am setat-o ia ca și argumente cele două label-uri, label-urile care au fost prezise de către model (y_preds) și label-urile de testare, cele adevărate (y_test) (în ordinea aceasta)"
   ]
  },
  {
   "cell_type": "code",
   "execution_count": null,
   "metadata": {},
   "outputs": [],
   "source": [
    "# training loop for PyTroch model\n",
    "# an epoch is one loop through the data\n",
    "\n",
    "epochs = 1\n",
    "\n",
    "# Step 0. Looping through the data\n",
    "for epoch in range(epochs):\n",
    "\n",
    "    # set the model in training mode\n",
    "    model_0.train()\n",
    "\n",
    "    # Step 1. Forward pass\n",
    "    y_preds = model_0(X_test)\n",
    "\n",
    "    # Step 2. Calculate the loss\n",
    "    loss = loss_fn(y_preds, y_test)"
   ]
  },
  {
   "attachments": {},
   "cell_type": "markdown",
   "metadata": {},
   "source": [
    "Următorul pas este cel de *optimizer zero grad*. Pasul respectiv nu l-am discutat mai sus. După cum spuneam un model de PyTorch de Deep Learning este îmbunătățit prim modificare parametrilor modelului. Modificarea acestoor parametrii se face cu un optimizator prin acel learning rate pe care îl stabilim. Din moment ce antrenarea se face într-o buclă, de fiecare dată când se trece prin bucla respectivă valoarea cu care se modifică parametrii modelului crește (așa este implementat în PyTorch). De exemplu, dacă specificăm să se modifice valorile parametriilor cu valoare 1, atunci la prima trecere prin buclă o să se modifice cu 1, dar pentru a doua trecere, valoarea aceasta de 1 este reținută de către model și la aceasta se adaugă iar valoare 1 pe care am stabilit-0, prin urmare acuma o să se modifice valoarea parametriilor cu valoarea 2, și acest comportament se repretă tot crescând valoare optimizatorului. Din acest motiv trebuie să setăm valoarea optimizatorului pentru gradient descent la 0 după ce am făcut predicțiile."
   ]
  },
  {
   "attachments": {},
   "cell_type": "markdown",
   "metadata": {},
   "source": [
    "Pentru o mai bună înțelegere:\n",
    "\n",
    "1. Nefolosind zero grad\n",
    "\n",
    "    ex_model_param1 = 0.5\n",
    "\n",
    "    learning rate = 1\n",
    "\n",
    "    - prima buclă (se modifică valoare parametrului cu 1)\n",
    "\n",
    "        learning rate = 1\n",
    "\n",
    "        ex_model_param1 = 1.5\n",
    "\n",
    "    - a doua buclă (la acel learning rate se adaugă din nou valoare 1)\n",
    "\n",
    "        learning rate = 2\n",
    "\n",
    "        ex_model_param1 = 3.5 \n",
    "\n",
    "etc ..\n",
    "\n",
    "1. Folosind zero grad\n",
    "\n",
    "    ex_model_param1 = 0.5\n",
    "\n",
    "    learning rate = 1\n",
    "\n",
    "    - prima buclă (se modifică valoare parametrului cu 1)\n",
    "\n",
    "        se aplică optimizer zero grad\n",
    "\n",
    "        learning rate = 1\n",
    "\n",
    "        ex_model_param1 = 1.5\n",
    "\n",
    "    - a doua buclă (la acel learning rate se adaugă din nou valoare 1)\n",
    "\n",
    "        se aplică optimizer zero grad\n",
    "\n",
    "        learning rate = 1\n",
    "\n",
    "        ex_model_param1 = 2.5 \n",
    "\n",
    "etc .."
   ]
  },
  {
   "cell_type": "code",
   "execution_count": 25,
   "metadata": {},
   "outputs": [],
   "source": [
    "# training loop for PyTorch model\n",
    "# an epoch is one loop through the data\n",
    "\n",
    "epochs = 1\n",
    "\n",
    "# Step 0. Looping through the data\n",
    "for epoch in range(epochs):\n",
    "\n",
    "    # set the model to training model\n",
    "    model_0.train()\n",
    "\n",
    "    # Step 1. Forward pass\n",
    "    y_preds = model_0(X_test)\n",
    "\n",
    "    # Step 2. Calculate the loss\n",
    "    loss = loss_fn(y_preds, y_test)\n",
    "\n",
    "    # Step 3. Optimizer zero grad\n",
    "    optimizer.zero_grad()"
   ]
  },
  {
   "attachments": {},
   "cell_type": "markdown",
   "metadata": {},
   "source": [
    "Pasul care o să se facă acuma este cel prin care aducem datele din layer-ul de output înapoi în layer-ul de input, procedeu care se realizează prin conceptul de backpropagation. Acest procedeu se aplică pentru acel **loss** care a fost caluclat în Step 2, iar acesta se face prin utilizarea metodei `backward()` pe care o aplicăm loss-ului modelului"
   ]
  },
  {
   "cell_type": "code",
   "execution_count": 26,
   "metadata": {},
   "outputs": [],
   "source": [
    "# training loop for PyTorch model\n",
    "# an epoch is one loop through the data\n",
    "\n",
    "epochs = 1\n",
    "\n",
    "# Step 0. Looping through the data\n",
    "for epoch in range(epochs):\n",
    "\n",
    "    # setting the model to training mode\n",
    "    model_0.train()\n",
    "\n",
    "    # Step 1. Forward pass\n",
    "    y_preds = model_0(X_test)\n",
    "\n",
    "    # Step 2. Calculate the loss\n",
    "    loss = loss_fn(y_preds, y_test)\n",
    "\n",
    "    # Step 3. Optimizer zero grad\n",
    "    optimizer.zero_grad()\n",
    "\n",
    "    # Step 4. Backpropagation\n",
    "    loss.backward()"
   ]
  },
  {
   "attachments": {},
   "cell_type": "markdown",
   "metadata": {},
   "source": [
    "Ultimul pas este cel prin care o să modificăm parametrii modelului utilizând optimizatorul, iar această modificare se face prin aplicarea valorii ce există în learning rate în optimizator asupra parametrilor modelului. Acest procedeu se realizează cu ajutorul metodei `step()`, metodă care trebuie aplicată asupra optimizatorului. (**optimizer.step()**)"
   ]
  },
  {
   "cell_type": "code",
   "execution_count": 27,
   "metadata": {},
   "outputs": [],
   "source": [
    "# training loop for PyTorch model\n",
    "# an epoch is one loop through the data\n",
    "\n",
    "epochs = 1\n",
    "\n",
    "# Step 1. Looping through the data\n",
    "for epoch in range(epochs):\n",
    "\n",
    "    # setting the model to training mode\n",
    "    model_0.train()\n",
    "\n",
    "    # Step 1. Forward pass\n",
    "    y_preds = model_0(X_test)\n",
    "\n",
    "    # Step 2. Calculate the loss\n",
    "    loss = loss_fn(y_preds, y_test)\n",
    "\n",
    "    # Step 3. Optimizer zero grad\n",
    "    optimizer.zero_grad()\n",
    "\n",
    "    # Step 4. Backpropagation\n",
    "    loss.backward()\n",
    "\n",
    "    # Step 5. Optimizer step\n",
    "    optimizer.step()"
   ]
  },
  {
   "attachments": {},
   "cell_type": "markdown",
   "metadata": {},
   "source": [
    "Acești sunt toți pașii care trebuie urmați pentru a crea o buclă de antrenare a unui model de Deep Learning din PyTorch. Există și o explicare a antrenării unui model pentru fiecare linie în parte și arată cam așa:"
   ]
  },
  {
   "attachments": {},
   "cell_type": "markdown",
   "metadata": {},
   "source": [
    "<img src='../SS/section_02_image_03.png' width=700>"
   ]
  },
  {
   "attachments": {},
   "cell_type": "markdown",
   "metadata": {},
   "source": [
    "## Recapitulare\n",
    "\n",
    "În cadrul secțiunii curente am învățat cum să creem o buclă prin care putem să antrenăm un model de PyTorch"
   ]
  },
  {
   "attachments": {},
   "cell_type": "markdown",
   "metadata": {},
   "source": [
    "1. Pașii care trebuie urmați pentru a antrena un model de PyTorch sunt următorii:\n",
    "\n",
    "    - Loop through the data\n",
    "\n",
    "    - Forward pass\n",
    "\n",
    "    - Calculate the loss\n",
    "\n",
    "    - Optimizer zero grad\n",
    "\n",
    "    - Backpropagation\n",
    "\n",
    "    - Optimizer step\n",
    "\n",
    "2. Bucla de a antrena un model de PyTorch arată așa\n",
    "```python\n",
    "# asumming that the model is created with optimizer and loss function\n",
    "\n",
    "# an epoch represents one loop through the data\n",
    "epochs = 1 \n",
    "\n",
    "# Step 0. Looping through the data\n",
    "for epoch in range(epochs):\n",
    "\n",
    "    # set the model to training mode\n",
    "    model.train()\n",
    "\n",
    "    # Step 1. Forward pass\n",
    "    y_preds = model(X_test)\n",
    "\n",
    "    # Step 2. Calculate the loss\n",
    "    loss = loss_fn(y_preds, y_test)\n",
    "\n",
    "    # Step 3. Optimizer zero grad\n",
    "    optimizer.zero_grad()\n",
    "\n",
    "    # Step 4. Backpropagation\n",
    "    loss.backward()\n",
    "\n",
    "    # Step 5. Optimizer step\n",
    "    optimizer.step()\n",
    "\n",
    "```"
   ]
  },
  {
   "cell_type": "markdown",
   "metadata": {},
   "source": []
  }
 ],
 "metadata": {
  "kernelspec": {
   "display_name": "venv",
   "language": "python",
   "name": "python3"
  },
  "language_info": {
   "codemirror_mode": {
    "name": "ipython",
    "version": 3
   },
   "file_extension": ".py",
   "mimetype": "text/x-python",
   "name": "python",
   "nbconvert_exporter": "python",
   "pygments_lexer": "ipython3",
   "version": "3.9.12"
  },
  "orig_nbformat": 4
 },
 "nbformat": 4,
 "nbformat_minor": 2
}
