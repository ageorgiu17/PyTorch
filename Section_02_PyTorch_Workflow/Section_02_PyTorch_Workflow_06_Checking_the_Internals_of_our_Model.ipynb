{
 "cells": [
  {
   "attachments": {},
   "cell_type": "markdown",
   "metadata": {},
   "source": [
    "# Checking the internals of our model"
   ]
  },
  {
   "attachments": {},
   "cell_type": "markdown",
   "metadata": {},
   "source": [
    "Am reușit să creem și primul model din PyTorch pentru datele cu care lucrăm. Din nou o să recapitulăm acești pași pentru a ne intra în obișnuință a crea un astfel de model"
   ]
  },
  {
   "cell_type": "code",
   "execution_count": 1,
   "metadata": {},
   "outputs": [],
   "source": [
    "# importing the libraries\n",
    "import torch\n",
    "import matplotlib.pyplot as plt\n",
    "from torch import nn"
   ]
  },
  {
   "cell_type": "code",
   "execution_count": 5,
   "metadata": {},
   "outputs": [
    {
     "name": "stdout",
     "output_type": "stream",
     "text": [
      "Lenght of train set Features: 40\n",
      "Lenght of train set labels: 40\n",
      "Lenght of test set Features: 10\n",
      "Lenght of test set labels: 10\n"
     ]
    }
   ],
   "source": [
    "# creating the data\n",
    "\n",
    "# creating the variables\n",
    "start = 0\n",
    "end = 1\n",
    "step = 0.02\n",
    "\n",
    "# creating the 'known' parameters\n",
    "weight = 0.7\n",
    "bias = 0.3\n",
    "\n",
    "# creating the Features data\n",
    "X = torch.arange(start, end, step).unsqueeze(dim=-1)\n",
    "\n",
    "# creating the labesl using Linear Regression formula\n",
    "y = weight * X + bias\n",
    "\n",
    "# splitting the date into training set and test set\n",
    "train_split = int(0.8 * len(X))\n",
    "X_train, y_train = X[:train_split], y[:train_split]\n",
    "X_test, y_test = X[train_split:], y[train_split:]\n",
    "\n",
    "# printing the lenght of the train set and test set\n",
    "print(f'Lenght of train set Features: {len(X_train)}')\n",
    "print(f'Lenght of train set labels: {len(y_train)}')\n",
    "\n",
    "print(f'Lenght of test set Features: {len(X_test)}')\n",
    "print(f'Lenght of test set labels: {len(y_test)}')"
   ]
  },
  {
   "cell_type": "code",
   "execution_count": 6,
   "metadata": {},
   "outputs": [],
   "source": [
    "# creating a function to display the data\n",
    "def plot_predictions(\n",
    "        train_data=X_train,\n",
    "        train_labels=y_train,\n",
    "        test_data=X_test,\n",
    "        test_labels=y_test,\n",
    "        predictions=None,\n",
    "        ):\n",
    "    # creating a figure\n",
    "    plt.figure(figsize=(10, 7))\n",
    "\n",
    "    # plotting the training data in blue\n",
    "    plt.scatter(train_data, train_labels, c='b', s=5, label=\"Trainig Data\")\n",
    "\n",
    "    # plotting the test data in green\n",
    "    plt.scatter(test_data, test_labels, c='g', s=5, label=\"Test Data\")\n",
    "\n",
    "    # checking to see if we have predictions\n",
    "    if predictions:\n",
    "        # plotting the predictions in red\n",
    "        plt.scatter(test_data, predictions, c='r', s=5, label=\"Predictions\")\n",
    "\n",
    "    # displaying the legend\n",
    "    plt.legend()"
   ]
  },
  {
   "cell_type": "code",
   "execution_count": 7,
   "metadata": {},
   "outputs": [
    {
     "data": {
      "image/png": "[encoded data removed]",
      "text/plain": [
       "<Figure size 1000x700 with 1 Axes>"
      ]
     },
     "metadata": {},
     "output_type": "display_data"
    }
   ],
   "source": [
    "plot_predictions()"
   ]
  },
  {
   "cell_type": "code",
   "execution_count": 12,
   "metadata": {},
   "outputs": [],
   "source": [
    "# creaing the Linear Regression PyTorch model\n",
    "\n",
    "class LinearRegressionModel(nn.Module):\n",
    "    # each model must inherite the 'nn.Module'\n",
    "\n",
    "    # creating the constructor\n",
    "    def __init__(self):\n",
    "        super().__init__()\n",
    "\n",
    "        # creating the Parameters\n",
    "        self.weight = nn.Parameter(torch.randn(1, requires_grad=True, dtype=torch.float32))\n",
    "        self.bias = nn.Parameter(torch.randn(1, requires_grad=True, dtype=torch.float32))\n",
    "\n",
    "    # overwriting the forward() method\n",
    "    def forward(self, x: torch.Tensor) -> torch.Tensor:\n",
    "        # each model shoud overwrite the forward() method\n",
    "        # this is where we specify what computation is being made\n",
    "        return self.weight * x + self.bias"
   ]
  },
  {
   "attachments": {},
   "cell_type": "markdown",
   "metadata": {},
   "source": [
    "Acum că ne-am creat primul model, să vedem ce conține acest model. Pentru început putem să ne dăm seama că acesta conține atributele de **weight** (*self.weight*) și **bias** (*self.bias*) precum și metoda de **forward()** (*self.forward()*). Acele atribute de weight și bias sunt defapt Parametrii acestui model pe care i-am creat manual. La anumite modele acești Parametrii o să ne fie creați automat de către PyTorch, iar pentru a vedea care sunt acești Parametrii putem să utilizăm metoda `.parameters()`\n",
    "\n",
    "Pentru a accesa însă toate aceste elemente care sunt prezente în model, pentru început trebuie să ne creem un model. Înainte de a ne crea un model o să setăm un seed în PyTorch deoarece după cum am văzut creem doi Parametrii cu valori random și dorim ca aceste valori să nu fie chiar așa de random pentru a putea reface acest model dacă este cazul. O să setăm valoare de random seed la 42"
   ]
  },
  {
   "cell_type": "code",
   "execution_count": 13,
   "metadata": {},
   "outputs": [],
   "source": [
    "# setting the random seed (which is manual_seed() in PyTorch)\n",
    "torch.manual_seed(42)\n",
    "\n",
    "# creating an instance of the model\n",
    "model_0 = LinearRegressionModel()"
   ]
  },
  {
   "attachments": {},
   "cell_type": "markdown",
   "metadata": {},
   "source": [
    "Să verificăm acuma Parametrii pe care îi are acest model"
   ]
  },
  {
   "cell_type": "code",
   "execution_count": 14,
   "metadata": {},
   "outputs": [
    {
     "data": {
      "text/plain": [
       "<generator object Module.parameters at 0x7f8691d1edd0>"
      ]
     },
     "execution_count": 14,
     "metadata": {},
     "output_type": "execute_result"
    }
   ],
   "source": [
    "model_0.parameters()"
   ]
  },
  {
   "attachments": {},
   "cell_type": "markdown",
   "metadata": {},
   "source": [
    "Metoda `.parameters()` ne retunrează un **generator**, prin urmare trebuie să convertim rezultatul într-o **listă**"
   ]
  },
  {
   "cell_type": "code",
   "execution_count": 15,
   "metadata": {},
   "outputs": [
    {
     "data": {
      "text/plain": [
       "[Parameter containing:\n",
       " tensor([0.3367], requires_grad=True),\n",
       " Parameter containing:\n",
       " tensor([0.1288], requires_grad=True)]"
      ]
     },
     "execution_count": 15,
     "metadata": {},
     "output_type": "execute_result"
    }
   ],
   "source": [
    "list(model_0.parameters())"
   ]
  },
  {
   "attachments": {},
   "cell_type": "markdown",
   "metadata": {},
   "source": [
    "Putem vedea că list conține doi parametrii, fiecare cu câte o valoare random diferită. Aceste valori reprezintă valorile pentru Parametrii de 'weight' și 'bias' pe care i-am creat, dar metoda *.parameters()* nu ne spune care valoare este pentru care parametru. De asemenea, acești parametrii au fost creați manual, iar de multe ori PyTorch o să se ocupe cu crarea de parametrii și o să avem mult mai mulți parametrii. Din aceast motiv, pentru a vedea valoarea fiecărui parametru împreună cu numele pe care îl care putem să ne folosim de metoda `.named_parameters()`, metodă care de asemenea ne retunrează un generator. O altă metodă pe care o putem folosi ca să aflăm denumirea parametrilor împreună cu valoarea acestora este să folosim metoda `.state_dict()`, metodă care returnează un dicționar (după numele pe care îl are)"
   ]
  },
  {
   "cell_type": "code",
   "execution_count": 21,
   "metadata": {},
   "outputs": [
    {
     "data": {
      "text/plain": [
       "[('weight',\n",
       "  Parameter containing:\n",
       "  tensor([0.3367], requires_grad=True)),\n",
       " ('bias',\n",
       "  Parameter containing:\n",
       "  tensor([0.1288], requires_grad=True))]"
      ]
     },
     "execution_count": 21,
     "metadata": {},
     "output_type": "execute_result"
    }
   ],
   "source": [
    "list(model_0.named_parameters())"
   ]
  },
  {
   "cell_type": "code",
   "execution_count": 22,
   "metadata": {},
   "outputs": [
    {
     "data": {
      "text/plain": [
       "OrderedDict([('weight', tensor([0.3367])), ('bias', tensor([0.1288]))])"
      ]
     },
     "execution_count": 22,
     "metadata": {},
     "output_type": "execute_result"
    }
   ],
   "source": [
    "model_0.state_dict()"
   ]
  },
  {
   "attachments": {},
   "cell_type": "markdown",
   "metadata": {},
   "source": [
    "Prin aceste metode putem să vedem care este denumirea parametrilor și care este valoarea acestora. Atunci când ne-am creat setul de date am utilizat acei 'known' parameters (weight și bias) cărora le-am stabilit anumite valori"
   ]
  },
  {
   "cell_type": "code",
   "execution_count": 23,
   "metadata": {},
   "outputs": [
    {
     "data": {
      "text/plain": [
       "(0.7, 0.3)"
      ]
     },
     "execution_count": 23,
     "metadata": {},
     "output_type": "execute_result"
    }
   ],
   "source": [
    "weight, bias"
   ]
  },
  {
   "attachments": {},
   "cell_type": "markdown",
   "metadata": {},
   "source": [
    "Modelul are aceste valori random create pentru Parametrii de 'weight' (0.3367) și 'bias' (0.1288), iar prin antrenarea modelului, acesta trebuie să ajungă cât mai aproape de valorile reale ale parametrilor (weight=0.7, bias=0.3). Acesta este conceptul fundamental din Deep Learning. Începem cu anumite valori random pentru anumiți Parametrii, iar utilizând Gradient Descent și Backpropagation trebuie să ajungem la valori cât mai aproapiate de valoarea adevărată a parametrilor respectivi. O altă mențiune este faptul că nu o să știm care sunt aceste valori adevărate sau ideale ale parametrilor respectivi (știm acest lucru în acest caz simplu doar)"
   ]
  },
  {
   "attachments": {},
   "cell_type": "markdown",
   "metadata": {},
   "source": [
    "## Recapitulare"
   ]
  },
  {
   "attachments": {},
   "cell_type": "markdown",
   "metadata": {},
   "source": [
    "În lecția curentă am învățat următoarele lucuri:\n",
    "\n",
    "1. Cum să creem o instanță a modelului creat\n",
    "\n",
    "```python\n",
    "\n",
    "model_0 = LinearRegressionModel()\n",
    "```"
   ]
  },
  {
   "attachments": {},
   "cell_type": "markdown",
   "metadata": {},
   "source": [
    "2. Care sunt atributele prin care putem afla care sunt Parametrii acestui model și ce valori au acești Parametri (valorile au fost create utilizând metoda **randn()** din PyTorch (**torch.randn()**)). Există trei metode pe care le putem apela pentru a afla aceste valori:\n",
    "\n",
    "```python\n",
    "# returnează un generator, trebuie transformat în listă\n",
    "# nu returneză numele Parametrilor, doar valoarea pe care o au aceștia\n",
    "model_0.parameters()\n",
    "list(model_0.parameters())\n",
    "\n",
    "# returnează un generator, trebuie transformat în listă\n",
    "# returnează atât valoarea pentru Parametrii cât și numele acestora\n",
    "model_0.named_parameters()\n",
    "list(model_0.named_parameteres())\n",
    "\n",
    "# returnează un dicționar\n",
    "# returnează atât numele cât și valoarea Parametrilor\n",
    "model_0.state_dict()\n",
    "\n",
    "```"
   ]
  },
  {
   "cell_type": "markdown",
   "metadata": {},
   "source": []
  }
 ],
 "metadata": {
  "kernelspec": {
   "display_name": "venv",
   "language": "python",
   "name": "python3"
  },
  "language_info": {
   "codemirror_mode": {
    "name": "ipython",
    "version": 3
   },
   "file_extension": ".py",
   "mimetype": "text/x-python",
   "name": "python",
   "nbconvert_exporter": "python",
   "pygments_lexer": "ipython3",
   "version": "3.9.12"
  },
  "orig_nbformat": 4
 },
 "nbformat": 4,
 "nbformat_minor": 2
}
