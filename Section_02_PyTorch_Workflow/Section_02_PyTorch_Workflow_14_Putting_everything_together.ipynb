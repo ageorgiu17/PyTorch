{
 "cells": [
  {
   "attachments": {},
   "cell_type": "markdown",
   "metadata": {},
   "source": [
    "# Putting Everything together"
   ]
  },
  {
   "attachments": {},
   "cell_type": "markdown",
   "metadata": {},
   "source": [
    "În ultima lecție din această secțiune o să refacem tot codul din secțiunea curentă, însă cu unele modificări. Pentru început o să utilizăm și partea de device agnostic code, prin care setăm device-ul pe care să ruleze codul (GPU dacă avem la dispoziție pentru a face computațiile mai rapide). De asemenea o să facem unele modificări și în ceea ce privește crearea modelului, și anume crearea de parametrii ai modelului. O să structurăm acest notebook pe părți pentru a putea fi ușor diferențiat"
   ]
  },
  {
   "attachments": {},
   "cell_type": "markdown",
   "metadata": {},
   "source": [
    "## 1. Setting up device agnostic code"
   ]
  },
  {
   "cell_type": "code",
   "execution_count": 1,
   "metadata": {},
   "outputs": [],
   "source": [
    "import torch\n",
    "from torch import nn\n",
    "import matplotlib.pyplot as plt\n"
   ]
  },
  {
   "cell_type": "code",
   "execution_count": 2,
   "metadata": {},
   "outputs": [
    {
     "name": "stdout",
     "output_type": "stream",
     "text": [
      "Working on a cpu\n"
     ]
    }
   ],
   "source": [
    "device = 'cuda' if torch.cuda.is_available() else 'cpu'\n",
    "print(f'Working on a {device}')"
   ]
  },
  {
   "attachments": {},
   "cell_type": "markdown",
   "metadata": {},
   "source": [
    "## 2. Creating the data"
   ]
  },
  {
   "cell_type": "code",
   "execution_count": 3,
   "metadata": {},
   "outputs": [],
   "source": [
    "start = 0\n",
    "end = 1\n",
    "step = 0.02\n",
    "\n",
    "X = torch.arange(start, end, step).unsqueeze(dim=-1)\n",
    "\n",
    "weight = 0.7\n",
    "bias = 0.3\n",
    "\n",
    "y = weight * X + bias\n",
    "\n",
    "train_step = int(0.8 * len(X))\n",
    "X_train, y_train = X[:train_step], y[:train_step]\n",
    "X_test, y_test = X[train_step:], y[train_step:]"
   ]
  },
  {
   "attachments": {},
   "cell_type": "markdown",
   "metadata": {},
   "source": [
    "## 3. Visualize the data"
   ]
  },
  {
   "cell_type": "code",
   "execution_count": 4,
   "metadata": {},
   "outputs": [],
   "source": [
    "def plot_predictions(\n",
    "        train_data=X_train,\n",
    "        train_labels=y_train,\n",
    "        test_data=X_test,\n",
    "        test_labels=y_test,\n",
    "        predictions=None,\n",
    "        ):\n",
    "    \n",
    "    plt.figure(figsize=(10, 6))\n",
    "\n",
    "    plt.scatter(train_data, train_labels, c='b', s=5, label=\"Train Data\")\n",
    "    plt.scatter(test_data, test_labels, c='g', s=5, label=\"Test Data\")\n",
    "\n",
    "    if predictions is not None:\n",
    "        plt.scatter(predictions, test_labels, c='r', s=5, label=\"Predictions\")\n",
    "\n",
    "    plt.legend()"
   ]
  },
  {
   "cell_type": "code",
   "execution_count": 5,
   "metadata": {},
   "outputs": [
    {
     "data": {
      "image/png": "[encoded data removed]",
      "text/plain": [
       "<Figure size 1000x600 with 1 Axes>"
      ]
     },
     "metadata": {},
     "output_type": "display_data"
    }
   ],
   "source": [
    "plot_predictions()"
   ]
  },
  {
   "attachments": {},
   "cell_type": "markdown",
   "metadata": {},
   "source": [
    "## 4. Create a LinearRegressionModel"
   ]
  },
  {
   "cell_type": "code",
   "execution_count": 6,
   "metadata": {},
   "outputs": [],
   "source": [
    "class LinearRegressionModel(nn.Module):\n",
    "\n",
    "    def __init__(self):\n",
    "        super().__init__()"
   ]
  },
  {
   "attachments": {},
   "cell_type": "markdown",
   "metadata": {},
   "source": [
    "Până în acest moment am creat parametrii modelului manual, utilizând comanda `nn.Parameter()`, dar după cum precizam de cele mai multe ori nu o să trebuiască să creem noi acești parametrii (deoarece nici nu știm exact numărul total de parametrii), o să trebuiască să creem anumite layere în rețeaua neuronală care o să fie între layer-ul de input și layer-ul de ouptut (acestea mai poartă și denumirea de hidden layers). Ceea ce o să creem este un layer liniar (deoarece avem parte de o problemă liniară). Pentru a crea asta o să ne folosim de comanda `nn.Linear()`"
   ]
  },
  {
   "cell_type": "code",
   "execution_count": 9,
   "metadata": {},
   "outputs": [],
   "source": [
    "class LinearRegressionModel(nn.Module):\n",
    "\n",
    "    def __init__(self):\n",
    "        super().__init__()\n",
    "\n",
    "        self.linear_layer = nn.Linear(in_features=1, out_features=1)\n",
    "\n",
    "    def forward(self, x: torch.Tensor) -> torch.Tensor:\n",
    "        return self.linear_layer(x)"
   ]
  },
  {
   "attachments": {},
   "cell_type": "markdown",
   "metadata": {},
   "source": [
    "Codul prin care se creează un layer liniar este cel de sus. Metoda `nn.Linear()` are nevoie de doi parametrii importanți și anume **in_features** și **out_features**. Ce anume reprezintă acești parameterii și de ce am ales valoare 1 pentru aceștia?"
   ]
  },
  {
   "attachments": {},
   "cell_type": "markdown",
   "metadata": {},
   "source": [
    "Applies a linear transformation to the incoming data: y = weight * x + bias\n",
    "\n",
    "This module supports TensorFloat32. On certain ROCm devices, when using float16 inputs this module will use different precision for backward.\n",
    "\n",
    "Parameters:\n",
    "\n",
    "    - in_features (int) – size of each input sample\n",
    "\n",
    "    - out_features (int) – size of each output sample\n",
    "\n",
    "    - bias (bool) – If set to False, the layer will not learn an additive bias. Default: True"
   ]
  },
  {
   "attachments": {},
   "cell_type": "markdown",
   "metadata": {},
   "source": [
    "Asta este trecut pe site-ul celor de la PyTorch. Acestea sunt informațiile de la `torch.nn.Linear()`. Se poate observa că acest layer aplică o transformare de tipul Linear Regression, tocmai acesta este și motivul pentru care în metoda *forward()* am returnat acuma acest layer, deoarece acesta se ocupă cu partea de computație, de transformare de date. Partea de 'in_features' și 'out_features' face referire la câte features intră în acest layer și câte ies din acesta. În cazul de față intră doar un singur feature (deoarece în cadrul setului de date (X) avem un singur feature), iar ca și output ne interesează să ne returneze tot un singur feature, acel feature care reprezintă defapt estimarea modelului. Pentru a înțelege mai bine cum funcționează asta o să fim nevoiți să lucrăm cu alte seturi de date pentru a putea înțelege."
   ]
  },
  {
   "cell_type": "code",
   "execution_count": 29,
   "metadata": {},
   "outputs": [
    {
     "data": {
      "text/plain": [
       "LinearRegressionModel(\n",
       "  (linear_layer): Linear(in_features=1, out_features=1, bias=True)\n",
       ")"
      ]
     },
     "execution_count": 29,
     "metadata": {},
     "output_type": "execute_result"
    }
   ],
   "source": [
    "torch.manual_seed(42)\n",
    "\n",
    "model_1 = LinearRegressionModel()\n",
    "model_1.to(device)"
   ]
  },
  {
   "cell_type": "code",
   "execution_count": 30,
   "metadata": {},
   "outputs": [
    {
     "data": {
      "text/plain": [
       "OrderedDict([('linear_layer.weight', tensor([[0.7645]])),\n",
       "             ('linear_layer.bias', tensor([0.8300]))])"
      ]
     },
     "execution_count": 30,
     "metadata": {},
     "output_type": "execute_result"
    }
   ],
   "source": [
    "model_1.state_dict()"
   ]
  },
  {
   "attachments": {},
   "cell_type": "markdown",
   "metadata": {},
   "source": [
    "După cum se poate observa, deși am creat un layer liniar doar, acesta ne-a creat automat cei doi parametrii (weight și bias) cu valori stabilite random. Urmează partea de antrenare a modelului"
   ]
  },
  {
   "attachments": {},
   "cell_type": "markdown",
   "metadata": {},
   "source": [
    "## 5. Train the model"
   ]
  },
  {
   "cell_type": "code",
   "execution_count": 47,
   "metadata": {},
   "outputs": [
    {
     "name": "stdout",
     "output_type": "stream",
     "text": [
      "Epoch: 0 | Train loss: 0.0007765017217025161 | Test loss: 0.0006200253847055137\n",
      "Epoch: 20 | Train loss: 0.0007765017217025161 | Test loss: 0.0006200253847055137\n",
      "Epoch: 40 | Train loss: 0.0007765017217025161 | Test loss: 0.0006200253847055137\n",
      "Epoch: 60 | Train loss: 0.0007765017217025161 | Test loss: 0.0006200253847055137\n",
      "Epoch: 80 | Train loss: 0.0007765017217025161 | Test loss: 0.0006200253847055137\n",
      "Epoch: 100 | Train loss: 0.0007765017217025161 | Test loss: 0.0006200253847055137\n",
      "Epoch: 120 | Train loss: 0.0007765017217025161 | Test loss: 0.0006200253847055137\n",
      "Epoch: 140 | Train loss: 0.0007765017217025161 | Test loss: 0.0006200253847055137\n",
      "Epoch: 160 | Train loss: 0.0007765017217025161 | Test loss: 0.0006200253847055137\n",
      "Epoch: 180 | Train loss: 0.0007765017217025161 | Test loss: 0.0006200253847055137\n",
      "OrderedDict([('linear_layer.weight', tensor([[0.6999]])), ('linear_layer.bias', tensor([0.3008]))])\n"
     ]
    }
   ],
   "source": [
    "epochs = 200\n",
    "loss_fn = nn.L1Loss()\n",
    "optimizer = torch.optim.SGD(params=model_1.parameters(), lr=0.001)\n",
    "\n",
    "for epoch in range(epochs):\n",
    "    model_1.train()\n",
    "\n",
    "    train_preds = model_1(X_train)\n",
    "\n",
    "    loss = loss_fn(train_preds, y_train)\n",
    "\n",
    "    optimizer.zero_grad()\n",
    "\n",
    "    loss.backward()\n",
    "\n",
    "    optimizer.step()\n",
    "\n",
    "    model_1.eval()\n",
    "\n",
    "    with torch.inference_mode():\n",
    "        y_preds = model_1(X_test)\n",
    "\n",
    "        loss_test = loss_fn(y_preds, y_test)\n",
    "\n",
    "    if epoch % 20 == 0:\n",
    "        print(f\"Epoch: {epoch} | Train loss: {loss} | Test loss: {loss_test}\")\n",
    "\n",
    "print(model_1.state_dict())   "
   ]
  },
  {
   "attachments": {},
   "cell_type": "markdown",
   "metadata": {},
   "source": [
    "## 6. Making predictions with the model"
   ]
  },
  {
   "cell_type": "code",
   "execution_count": 48,
   "metadata": {},
   "outputs": [],
   "source": [
    "with torch.inference_mode():\n",
    "    y_preds_new = model_1(X_test)"
   ]
  },
  {
   "cell_type": "code",
   "execution_count": 49,
   "metadata": {},
   "outputs": [
    {
     "data": {
      "image/png": "[encoded data removed]",
      "text/plain": [
       "<Figure size 1000x600 with 1 Axes>"
      ]
     },
     "metadata": {},
     "output_type": "display_data"
    }
   ],
   "source": [
    "plot_predictions(predictions=y_preds_new)"
   ]
  },
  {
   "attachments": {},
   "cell_type": "markdown",
   "metadata": {},
   "source": [
    "## 7. Saving and loading the model"
   ]
  },
  {
   "cell_type": "code",
   "execution_count": 46,
   "metadata": {},
   "outputs": [],
   "source": [
    "torch.save(model_1.state_dict, './models/01_PyTorch_Workflow_model_02.pth')"
   ]
  }
 ],
 "metadata": {
  "kernelspec": {
   "display_name": "venv",
   "language": "python",
   "name": "python3"
  },
  "language_info": {
   "codemirror_mode": {
    "name": "ipython",
    "version": 3
   },
   "file_extension": ".py",
   "mimetype": "text/x-python",
   "name": "python",
   "nbconvert_exporter": "python",
   "pygments_lexer": "ipython3",
   "version": "3.9.12"
  },
  "orig_nbformat": 4
 },
 "nbformat": 4,
 "nbformat_minor": 2
}
