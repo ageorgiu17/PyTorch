{
 "cells": [
  {
   "attachments": {},
   "cell_type": "markdown",
   "metadata": {},
   "source": [
    "# Classification with PyTorch"
   ]
  },
  {
   "attachments": {},
   "cell_type": "markdown",
   "metadata": {},
   "source": [
    "În această secțiune o să ne ocupăm de partea de clasificare în PyTorch. În ceea ce privește Machine Learning și Deep Learning există două mari concepte, cel de Regresie și cel de Clasificare. Peste conceptul de Regresie ne-am uitat secțiunea precedentă, concept princ are putem să prezicem o valoare, un număr continuu. În ceea ce privește partea de Clasificare, aici se încearcă să se estimeze din ce categorie (dintr-un număr de categorii) face parte un anumit element în funcție de ceva features pe care le are. Peste ce anume o să ne uităm în cadrul acestei secțiuni?\n",
    "\n",
    "1. Arhitectura unui model de Neural Network pentru clasificare\n",
    "\n",
    "2. Datele de input și de output pentru un model de clasificare (features and labels)\n",
    "\n",
    "3. Crearea unui set de date\n",
    "\n",
    "4. Crearea unui model, setarea unui loss și a unui optimizator, antrenarea și validarea unui model\n",
    "\n",
    "5. O să valorificăm puterea unui set de date non liniar\n",
    "\n",
    "6. Diferite metode de a evalua un model de clasificare"
   ]
  },
  {
   "attachments": {},
   "cell_type": "markdown",
   "metadata": {},
   "source": []
  }
 ],
 "metadata": {
  "language_info": {
   "name": "python"
  },
  "orig_nbformat": 4
 },
 "nbformat": 4,
 "nbformat_minor": 2
}
