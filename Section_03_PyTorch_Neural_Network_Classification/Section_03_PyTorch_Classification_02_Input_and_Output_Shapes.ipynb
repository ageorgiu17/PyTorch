{
 "cells": [
  {
   "attachments": {},
   "cell_type": "markdown",
   "metadata": {},
   "source": [
    "# Input Shapes and Output Shapes"
   ]
  },
  {
   "attachments": {},
   "cell_type": "markdown",
   "metadata": {},
   "source": [
    "În această lecție o să ne uităm peste datele de input și de output de la un model de Neural Network de Clasificare. O să vedem mai bine cum sunt structurate datele de input și cele de output. O să luăm un exemplu în care unui model o să îi oferim ca și input ceva poză, iar acesta o să returneze estimarea lui în legătură cu faptul dacă în imaginea respectivă se găsește o poză de Sushi, o Friptură sau o Pizza. Asta știe să facă modelul respectiv, să decidă din care categorie  (din acestea 3) face partea o imagine (atenție, modelul nu poate spune că nu face parte din nicio categori, o să aleagă una dintre ele)."
   ]
  },
  {
   "attachments": {},
   "cell_type": "markdown",
   "metadata": {},
   "source": [
    "<img src='../SS/section_03_image_01.png' width=700>"
   ]
  },
  {
   "attachments": {},
   "cell_type": "markdown",
   "metadata": {},
   "source": [
    "Imaginea de mai sus reprezintă exemplul cu care o să lucrăm. Avem acele imagini pe care o să le oferim ca și input, iar modelul ca și output o să prezică din care categorie fac parte. În ceea ce prinvește partea de Input, nu putem să îi oferim unui model de Deep Learning o simplă imagine, deoarece acesta nu recunoaște imagini. Un model recunoaște doar numere. Cum putem să reprezentăm o imgine în numere? Fiecare poză are dimensiunea de 224 de pixeli pe 224. O imagine reprezentată în numere o să aibă trei dimensiun. Prima dimensiune reprezintă lățimea pozei, a doua reprezintă înălțimea, iar ultima reprezintă canalele de culori (RGB). Valoare pentru dimeniunea de înățime și lățime o să fi un array care cuprinde atâtea elemente câți pixeli are imaginea. Dacă imaginea de mai sus are dimensiunea de 224x224, atunci o să avem două array-uri cu dimensiunea de 224 de elemnte (un array pentru lățime și un array pentru înălțime), iar ultimul array o să fie acel color chanel, și o să aibă valoare 3 (3 deoarece canalul de culori RBG are 3 componente, Red, Green și Blue)"
   ]
  },
  {
   "attachments": {},
   "cell_type": "markdown",
   "metadata": {},
   "source": [
    "Având acele valori numerice care reprezintă o imagine, o să oferim aceste valori ca și input la model, iar ca și output o să fie tot un set de numere, de valori care reprezintă probabilitatea, predicțiile modelului, estimările făcute de către acest model"
   ]
  },
  {
   "attachments": {},
   "cell_type": "markdown",
   "metadata": {},
   "source": [
    "<img src='../SS/section_03_image_02.png' width=800>"
   ]
  },
  {
   "attachments": {},
   "cell_type": "markdown",
   "metadata": {},
   "source": [
    "Ceea ce este returnat de către un model de clasificare nu reprezintă niciodată ceva concret, ci doar o probabilitate a acestuia. De asemenea, atunci când avem mai multe clase, un model ne retunrează probabilitatea de a aparține fiecărei clase. În primul exemplu de mai sus modelul prezice faptul că prima poză rerpezintă 97% sushi, 0% friptură și 3% pizza. Valoarea care este returnată de către model este un număr între 0 și 1, iar cu cât valoarea este mai apropiată de 1, atunci modelul are o încredere mai mare că a ales valoarea cea mai optimă."
   ]
  },
  {
   "attachments": {},
   "cell_type": "markdown",
   "metadata": {},
   "source": [
    "Cum anume arată shape-ul unei imagini pe care o să o folosim ca și input pentru un astfel de model?\n",
    "\n",
    "Shape = [None, 3, 224, 224]\n",
    "\n",
    "Shape = [32, 3, 224, 224]\n",
    "\n",
    "Ce anume reprezintă datele din acel array? Structura pe care o are o imagine atunci când o oferim unui model de Machine Learning este următoarea:\n",
    "\n",
    "[batch_size, color_channels, width, height]\n",
    "\n",
    "Ordinea poate să mai difere, în ideea că dimensiunea de color_channels poate să fie ori după batch_size, ori la final, după height și width (height și width trebuie să fie împreună, alăturate). Default, PyTorch acceptă ordinea pe care am scris-o mai sus, dar dacă este necesar se poate să se transforme ordinea în ternsori."
   ]
  },
  {
   "attachments": {},
   "cell_type": "markdown",
   "metadata": {},
   "source": [
    "Din array-ul de mai sus, nu ne este cunoscut termenul de 'batch_size'. De cele mai multe ori, acesta are valoarea fie None, fie 32. Valoarea de 32 înseamnă că modelul nostru se poate uita la 32 de imagini deodată, iar asta se recomandă a fi o valoare destul de bună pentru acest parametru. Mai jos o să avem o imagine care reprezintă ceea ce am discutat mai sus"
   ]
  },
  {
   "attachments": {},
   "cell_type": "markdown",
   "metadata": {},
   "source": [
    "<img src='../SS/section_03_image_03.png' width=800>"
   ]
  },
  {
   "attachments": {},
   "cell_type": "markdown",
   "metadata": {},
   "source": [
    "În ceea ce privește output-ul o să fie un tensor de trei elemente, câte o valaorea care reprezintă probabilitatea aparteneței la una dintre cele trei clase. În funcție de numărul total de clase o să se stabilească numărul de valori din tensor-ul de output, câte clase avem, tot atâtea valori o să avem în tensor."
   ]
  },
  {
   "attachments": {},
   "cell_type": "markdown",
   "metadata": {},
   "source": []
  }
 ],
 "metadata": {
  "language_info": {
   "name": "python"
  },
  "orig_nbformat": 4
 },
 "nbformat": 4,
 "nbformat_minor": 2
}
