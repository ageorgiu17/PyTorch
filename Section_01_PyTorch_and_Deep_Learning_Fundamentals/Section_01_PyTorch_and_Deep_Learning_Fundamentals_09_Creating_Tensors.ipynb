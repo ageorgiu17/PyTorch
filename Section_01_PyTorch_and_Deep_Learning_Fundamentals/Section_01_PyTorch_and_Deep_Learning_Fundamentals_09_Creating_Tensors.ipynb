{
 "cells": [
  {
   "cell_type": "markdown",
   "metadata": {},
   "source": [
    "# Creating Tensors"
   ]
  },
  {
   "attachments": {},
   "cell_type": "markdown",
   "metadata": {},
   "source": [
    "În lectura precedentă am învățat care sunt diferitele tipuri de tensori din PyTorch, care e diferența dintre acestea și cum le putem crea. O să trecem printr-o scurtă recapitulare a acestora"
   ]
  },
  {
   "cell_type": "code",
   "execution_count": 3,
   "metadata": {},
   "outputs": [
    {
     "name": "stdout",
     "output_type": "stream",
     "text": [
      "---------SCALAR--------\n",
      "tensor(7)\n",
      "0\n",
      "torch.Size([])\n",
      "---------VECTOR--------\n",
      "tensor([7, 8])\n",
      "1\n",
      "torch.Size([2])\n",
      "---------MATRIX--------\n",
      "tensor([[ 7,  8],\n",
      "        [ 9, 10]])\n",
      "2\n",
      "torch.Size([2, 2])\n",
      "---------TENSOR--------\n",
      "tensor([[[1, 2, 3],\n",
      "         [4, 5, 6],\n",
      "         [7, 8, 9]]])\n",
      "3\n",
      "torch.Size([1, 3, 3])\n"
     ]
    }
   ],
   "source": [
    "# importing PyTorch\n",
    "import torch\n",
    "\n",
    "# creating a scalar tensor\n",
    "print('---------SCALAR--------')\n",
    "scalar = torch.tensor(7)\n",
    "print(scalar)\n",
    "# printing the scalar tensor attributes\n",
    "print(scalar.ndim)\n",
    "print(scalar.shape)\n",
    "\n",
    "# creating a vector tensor\n",
    "print('---------VECTOR--------')\n",
    "vector = torch.tensor([7, 8])\n",
    "print(vector)\n",
    "# printing the vector tensor attributes\n",
    "print(vector.ndim)\n",
    "print(vector.shape)\n",
    "\n",
    "# creating a matrix tensor\n",
    "print('---------MATRIX--------')\n",
    "matrix = torch.tensor([[7, 8], [9, 10]])\n",
    "print(matrix)\n",
    "# printing the matrix tensor attributes\n",
    "print(matrix.ndim)\n",
    "print(matrix.shape)\n",
    "\n",
    "# creating a tensor\n",
    "print('---------TENSOR--------')\n",
    "tensor = torch.tensor([[[1, 2, 3],\n",
    "                        [4, 5, 6],\n",
    "                        [7, 8, 9]]])\n",
    "print(tensor)\n",
    "# printing the tensor attributes\n",
    "print(tensor.ndim)\n",
    "print(tensor.shape)\n"
   ]
  },
  {
   "attachments": {},
   "cell_type": "markdown",
   "metadata": {},
   "source": [
    "În continuare o să învățăm cum putem să creem `random tensors`. De ce trebuie să creem astfel de tensori? După cum am văzut, ca să creem un tensor trebuie să fim atenți la modul în care punem seturile de paranteze drepre și totodată trebuie ca fiecare elemente din matrice să aibă același număr de valori, iar fiecare matrice dintr-un tensor să aibă același număr de valori, ceea ce uneori poate fi destul de solicitant dacă nu suntem atenți atenți când creem acest tensor"
   ]
  },
  {
   "attachments": {},
   "cell_type": "markdown",
   "metadata": {},
   "source": [
    "De asemenea, `random tensors` sunt importanți deoarece modul prin care foarte multe rețele neuronale învață, aceste încep cu anumiți tensori care conțin valori random (numere) și în momentul în care o rețea neuronală învață ele ajustează acele numere pentru a putea reprezenta cât mai bine datele respective. Modul în care cele mai multe rețele neuronale funcționează este următorul:\n",
    "\n",
    "`Încep cu date random  -> se uită peste date -> updatează datele -> se uită peste date -> updatează datele ...`"
   ]
  },
  {
   "attachments": {},
   "cell_type": "markdown",
   "metadata": {},
   "source": [
    "După cum spuneam, nu trebuie să creem noi manual acei tensori (uneori sunt extrem de complicați și de mari), PyTorch se ocupă de partea de generare de tensori din anumite date. Un mod prin care putem genera astfel de tensori este prin folosirea comenzii `torch.rand()` ce o să returneze un tensor random. Această metodă ia ca și input valori pentru shape-ul pe care dorim să îl aibă. Numărul de valori pe care îl oferim o să ne returneze diferite tipuri de tensori. Dacă oferim o singură valoare o să ne genereze un tensor de tip vector (deoarece un tensor de tip vector are o singură dimensiune, iar din moment ce am oferit doar o valoare, ne poate crea un tensor cu o singură dimensiune). O să creem un tensor de tip matrice"
   ]
  },
  {
   "cell_type": "code",
   "execution_count": 4,
   "metadata": {},
   "outputs": [
    {
     "data": {
      "text/plain": [
       "tensor([[0.0575, 0.9054, 0.0655, 0.7526],\n",
       "        [0.0454, 0.0762, 0.4338, 0.0785],\n",
       "        [0.5706, 0.5184, 0.1153, 0.6791]])"
      ]
     },
     "execution_count": 4,
     "metadata": {},
     "output_type": "execute_result"
    }
   ],
   "source": [
    "# creating a tensor with random values\n",
    "random_tensor = torch.rand(3, 4)\n",
    "random_tensor"
   ]
  },
  {
   "attachments": {},
   "cell_type": "markdown",
   "metadata": {},
   "source": [
    "Datele care sunt create în cadrul acestui tensor sunt valori cuprinse între 0 și 1, valori de tip float. Utilizând valorile (3, 4) în momentul în care am creat acest tensor random, asta înseamnă că o să ne creeze un tensor de tip matrice cu 3 rânduri în care fiecare rând o să aibă câte 4 valori. Putem să verificăm ce dimensiune și ce formă are acest tensor"
   ]
  },
  {
   "cell_type": "code",
   "execution_count": 5,
   "metadata": {},
   "outputs": [
    {
     "data": {
      "text/plain": [
       "2"
      ]
     },
     "execution_count": 5,
     "metadata": {},
     "output_type": "execute_result"
    }
   ],
   "source": [
    "# getting the dimensions of a tensor\n",
    "random_tensor.ndim"
   ]
  },
  {
   "cell_type": "code",
   "execution_count": 6,
   "metadata": {},
   "outputs": [
    {
     "data": {
      "text/plain": [
       "torch.Size([3, 4])"
      ]
     },
     "execution_count": 6,
     "metadata": {},
     "output_type": "execute_result"
    }
   ],
   "source": [
    "# getting the shape of a tensor\n",
    "random_tensor.shape"
   ]
  },
  {
   "attachments": {},
   "cell_type": "markdown",
   "metadata": {},
   "source": [
    "Cu ajutorul acestei metode putem să creem un tensor care are forma unei imagini. O imagine are o formă de tipul (color channels, height, width), unde:\n",
    "\n",
    " - color channels: reprezintă numărul de canale de culori (o imagine de obicei are următoarele canale Red-Green-Blue)\n",
    "\n",
    " - height: înălțimea imaginii\n",
    "\n",
    " - width: lățimea imaginii respective"
   ]
  },
  {
   "cell_type": "code",
   "execution_count": 7,
   "metadata": {},
   "outputs": [],
   "source": [
    "# creating a tensor wiht a shape of an image\n",
    "random_image_size = torch.rand(size=(3, 1024, 712))"
   ]
  },
  {
   "attachments": {},
   "cell_type": "markdown",
   "metadata": {},
   "source": [
    "Comanda de mai sus creează un tensor care are 3 dimensiuni (câte o dimensiune pentru fiecare canal de culori), iar ca și formă, fiecare dimensiune este de 1024x712 (care defapt reprezintă pixelii imaginii)."
   ]
  },
  {
   "attachments": {},
   "cell_type": "markdown",
   "metadata": {},
   "source": [
    "O altă metodă prin care putem să creem un tensor de dimensiuni mai mari, reprezintă crearea de tensori care au doar valoarea 0 sau doar valoarea 1. De cele mai multe ori, dintre acestea, cel mai des este folosit tensor-ul care are valoarea 0, deoarece acesta poate fi utilizat ca și un mask în procesarea imaginilor. Pentru a crea un tensor de valori 0 să folosim metoda `torch.zeros()` căruia îi oferim paramterul de size care este o tuplă ce reprezintă dimensiunea acestui tensor. "
   ]
  },
  {
   "cell_type": "code",
   "execution_count": 8,
   "metadata": {},
   "outputs": [
    {
     "data": {
      "text/plain": [
       "tensor([[0., 0., 0., 0., 0., 0., 0.],\n",
       "        [0., 0., 0., 0., 0., 0., 0.],\n",
       "        [0., 0., 0., 0., 0., 0., 0.],\n",
       "        [0., 0., 0., 0., 0., 0., 0.],\n",
       "        [0., 0., 0., 0., 0., 0., 0.]])"
      ]
     },
     "execution_count": 8,
     "metadata": {},
     "output_type": "execute_result"
    }
   ],
   "source": [
    "# creating a tensor of all zeros\n",
    "zeros_tensor = torch.zeros(size=(5, 7))\n",
    "zeros_tensor"
   ]
  },
  {
   "attachments": {},
   "cell_type": "markdown",
   "metadata": {},
   "source": [
    "Un alt atribut important al unui tensor este `tensor.dtype`. Prin acest atribut se retunrează tipul de date ce este stocat în cadrul unui tensor. La crearea unui tensor, dacă nu se specifică tipul de date, acesta o să fie mereu float32"
   ]
  },
  {
   "cell_type": "code",
   "execution_count": 10,
   "metadata": {},
   "outputs": [
    {
     "data": {
      "text/plain": [
       "torch.float32"
      ]
     },
     "execution_count": 10,
     "metadata": {},
     "output_type": "execute_result"
    }
   ],
   "source": [
    "zeros_tensor.dtype"
   ]
  },
  {
   "attachments": {},
   "cell_type": "markdown",
   "metadata": {},
   "source": [
    "După cum putem crea un tensor cu valori doar de 0, există și o modalitate prin care putem crea un tensor cu valori doar de 1 folosind metoda `torch.ones()`"
   ]
  },
  {
   "cell_type": "code",
   "execution_count": 11,
   "metadata": {},
   "outputs": [
    {
     "data": {
      "text/plain": [
       "tensor([[1., 1., 1.],\n",
       "        [1., 1., 1.],\n",
       "        [1., 1., 1.],\n",
       "        [1., 1., 1.]])"
      ]
     },
     "execution_count": 11,
     "metadata": {},
     "output_type": "execute_result"
    }
   ],
   "source": [
    "ones_tensor = torch.ones(size=(4, 3))\n",
    "ones_tensor"
   ]
  },
  {
   "attachments": {},
   "cell_type": "markdown",
   "metadata": {},
   "source": [
    "Alte două concepte destul de des întâlnite atunci când lucrăm cu PyTorch reprezintă crearea unui tensor folosind un range (`torch.arange()`) sau crearea a ceea ce poartă denumirea de `tensors-like`. O să începem cu un crearea unui tensor folosind metoda `torch.arange()` (care ne creează un tensor în funcție de un range)"
   ]
  },
  {
   "cell_type": "code",
   "execution_count": 13,
   "metadata": {},
   "outputs": [
    {
     "data": {
      "text/plain": [
       "tensor([1, 2, 3, 4, 5, 6, 7, 8, 9])"
      ]
     },
     "execution_count": 13,
     "metadata": {},
     "output_type": "execute_result"
    }
   ],
   "source": [
    "# creating a range tensor\n",
    "range_tensor = torch.arange(1, 10)\n",
    "range_tensor"
   ]
  },
  {
   "attachments": {},
   "cell_type": "markdown",
   "metadata": {},
   "source": [
    "Metoda `torch.arange()` are trei parametrii importanți, și anume 'start', 'end' și 'step'. 'start' reprezintă valoarea de la care să înceapă acest range, 'end', valoarea la care să se oprească (nu include valoarea care este atribuită acestui parametru), iar 'step' reprezintă valoarea acelui step, adică din cât în cât să sară peste numerele dintre start și end"
   ]
  },
  {
   "cell_type": "code",
   "execution_count": 20,
   "metadata": {},
   "outputs": [
    {
     "data": {
      "text/plain": [
       "tensor([ 0.,  2.,  4.,  6.,  8., 10., 12., 14., 16., 18.], dtype=torch.float64)"
      ]
     },
     "execution_count": 20,
     "metadata": {},
     "output_type": "execute_result"
    }
   ],
   "source": [
    "# creatig a range tensor with a step\n",
    "range_step_tensor = torch.arange(start=0, end=20, step=2, dtype=float)\n",
    "range_step_tensor"
   ]
  },
  {
   "attachments": {},
   "cell_type": "markdown",
   "metadata": {},
   "source": [
    "Conceptul de `tensors like` face referile la crearea unui tensor de anumite valori (zero, unu, random) după forma unui alt tensor. Pentru a crea acești tensor există metodele :\n",
    "\n",
    "- `torch.zeros_like()`\n",
    "\n",
    "- `torch.ones_like()`\n",
    "\n",
    "- `torch.rand_like()`"
   ]
  },
  {
   "cell_type": "code",
   "execution_count": 21,
   "metadata": {},
   "outputs": [
    {
     "data": {
      "text/plain": [
       "tensor([0.0247, 0.2258, 0.6461, 0.2649, 0.2872, 0.5210, 0.7848, 0.3192, 0.8036,\n",
       "        0.6086], dtype=torch.float64)"
      ]
     },
     "execution_count": 21,
     "metadata": {},
     "output_type": "execute_result"
    }
   ],
   "source": [
    "rand_like_tensor = torch.rand_like(input=range_step_tensor)\n",
    "rand_like_tensor"
   ]
  },
  {
   "cell_type": "code",
   "execution_count": 22,
   "metadata": {},
   "outputs": [
    {
     "data": {
      "text/plain": [
       "tensor([0., 0., 0., 0., 0., 0., 0., 0., 0., 0.], dtype=torch.float64)"
      ]
     },
     "execution_count": 22,
     "metadata": {},
     "output_type": "execute_result"
    }
   ],
   "source": [
    "zeros_like_tensor = torch.zeros_like(input=range_step_tensor)\n",
    "zeros_like_tensor"
   ]
  },
  {
   "cell_type": "code",
   "execution_count": 24,
   "metadata": {},
   "outputs": [
    {
     "name": "stdout",
     "output_type": "stream",
     "text": [
      "1\n",
      "1\n",
      "torch.Size([10])\n",
      "torch.Size([10])\n"
     ]
    }
   ],
   "source": [
    "print(zeros_like_tensor.ndim)\n",
    "print(range_step_tensor.ndim)\n",
    "print(zeros_like_tensor.shape)\n",
    "print(range_step_tensor.shape)"
   ]
  },
  {
   "attachments": {},
   "cell_type": "markdown",
   "metadata": {},
   "source": [
    "După cum se poate observa mai sus, atunci când creem un `tensor like` acesta se creează utilizând aceeași dimensiune și formă ca și tensor-ul pe care l-am folosit ca și input. Este foarte important totuși să fim siguri că tipul de date care este în tensor-ul de început să poată fi introdus în tensor-ul care se creează. De exemplu, dacă creem un tensor cu metoda 'torch.arange()' această metodă creează un tensor ce are date de tip integer în interiorul acestui, iar dacă dorim să utilizăm metoda `torch.rand_like()` unde introducem ca și input acel tensor creat de metoda 'torch.arange()' atunci o să primim o eroare deoarece când creem un 'tensor like' acesta copiază și tipul de date din tensor-ul de input, iar atunci când creem un tensor cu valori random, acesta creează valori float cuprinse între 0 și 1"
   ]
  },
  {
   "cell_type": "code",
   "execution_count": 25,
   "metadata": {},
   "outputs": [
    {
     "name": "stdout",
     "output_type": "stream",
     "text": [
      "tensor([ 0,  1,  2,  3,  4,  5,  6,  7,  8,  9, 10])\n",
      "torch.int64\n"
     ]
    },
    {
     "ename": "RuntimeError",
     "evalue": "\"check_uniform_bounds\" not implemented for 'Long'",
     "output_type": "error",
     "traceback": [
      "\u001b[0;31m---------------------------------------------------------------------------\u001b[0m",
      "\u001b[0;31mRuntimeError\u001b[0m                              Traceback (most recent call last)",
      "Cell \u001b[0;32mIn[25], line 4\u001b[0m\n\u001b[1;32m      2\u001b[0m \u001b[39mprint\u001b[39m(arange_tensor)\n\u001b[1;32m      3\u001b[0m \u001b[39mprint\u001b[39m(arange_tensor\u001b[39m.\u001b[39mdtype)\n\u001b[0;32m----> 4\u001b[0m arange_like_tensor \u001b[39m=\u001b[39m torch\u001b[39m.\u001b[39;49mrand_like(\u001b[39minput\u001b[39;49m\u001b[39m=\u001b[39;49marange_tensor)\n",
      "\u001b[0;31mRuntimeError\u001b[0m: \"check_uniform_bounds\" not implemented for 'Long'"
     ]
    }
   ],
   "source": [
    "arange_tensor = torch.arange(0, 11)\n",
    "print(arange_tensor)\n",
    "print(arange_tensor.dtype)\n",
    "arange_like_tensor = torch.rand_like(input=arange_tensor)"
   ]
  },
  {
   "attachments": {},
   "cell_type": "markdown",
   "metadata": {},
   "source": [
    "Dacă dorim să creem un 'tensor-like' cu valori de 0 sau 1, atunci eroarea respectivă nu o să mai apară deoarece putem crea valori de 0 sau de 1 fie integer, fie float"
   ]
  },
  {
   "cell_type": "code",
   "execution_count": 27,
   "metadata": {},
   "outputs": [
    {
     "name": "stdout",
     "output_type": "stream",
     "text": [
      "tensor([ 0,  1,  2,  3,  4,  5,  6,  7,  8,  9, 10])\n",
      "torch.int64\n"
     ]
    },
    {
     "data": {
      "text/plain": [
       "tensor([0, 0, 0, 0, 0, 0, 0, 0, 0, 0, 0])"
      ]
     },
     "execution_count": 27,
     "metadata": {},
     "output_type": "execute_result"
    }
   ],
   "source": [
    "arange_tensor = torch.arange(0, 11)\n",
    "print(arange_tensor)\n",
    "print(arange_tensor.dtype)\n",
    "arange_like_tensor_zeros = torch.zeros_like(input=arange_tensor)\n",
    "arange_like_tensor_zeros"
   ]
  },
  {
   "attachments": {},
   "cell_type": "markdown",
   "metadata": {},
   "source": [
    "# Recapitulare"
   ]
  },
  {
   "attachments": {},
   "cell_type": "markdown",
   "metadata": {},
   "source": [
    "În cadrul acestei secțiuni am învățat următoarele:\n",
    "\n",
    "1. Cum să creem un tensor cu valori random. Acest tip de tensori este extrem de des utilizat cu PyTorch deoarece există foarte multe rețele neuronale care încep că astfle de tensori ce sunt alcătuiți din valori random\n",
    "\n",
    "```python\n",
    "import torch\n",
    "\n",
    "random_tensor = torch.rand(size=(4, 3))\n",
    "```\n",
    "\n",
    "2. Cum să creem tensori de o structură specificată cu valori de 0 sau de 1. Tensorii cu valori de 0 sunt cei mai des utilizați, aceștia pot fi utilizați pentru a crea un mask\n",
    "\n",
    "```python\n",
    "import torch\n",
    "\n",
    "ones_tensor = torch.ones(size=(2, 4, 6))\n",
    "zeros_tensor = torch.zeros(size=(5, 8))\n",
    "```\n",
    "\n",
    "3. Cum să creem tensori folosind un range\n",
    "\n",
    "```python\n",
    "import torch\n",
    "\n",
    "arange_tensor = torch.arnage(start=0, end=100, step=13)\n",
    "```\n",
    "\n",
    "4. Cum să creem tensori de tipul tensor-like. Acești tip de tensori copiază structura unui alt tensor (dimensiunea, forma, tipul de date stocat)\n",
    "\n",
    "```python\n",
    "import torch\n",
    "\n",
    "arange_tensor = torch.arange(start=0, end=11)\n",
    "# creating a tensor with the structure of 'arange_tensor' but full with zeros\n",
    "arange_like_zeros_tensor = torch.zeros_like(input=arange_tensor)\n",
    "```\n",
    "\n"
   ]
  },
  {
   "cell_type": "markdown",
   "metadata": {},
   "source": []
  }
 ],
 "metadata": {
  "kernelspec": {
   "display_name": "venv",
   "language": "python",
   "name": "python3"
  },
  "language_info": {
   "codemirror_mode": {
    "name": "ipython",
    "version": 3
   },
   "file_extension": ".py",
   "mimetype": "text/x-python",
   "name": "python",
   "nbconvert_exporter": "python",
   "pygments_lexer": "ipython3",
   "version": "3.9.12"
  },
  "orig_nbformat": 4
 },
 "nbformat": 4,
 "nbformat_minor": 2
}
