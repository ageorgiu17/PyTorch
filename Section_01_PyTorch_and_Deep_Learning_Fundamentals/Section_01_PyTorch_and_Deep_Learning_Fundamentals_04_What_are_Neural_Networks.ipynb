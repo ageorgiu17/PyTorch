{
 "cells": [
  {
   "attachments": {},
   "cell_type": "markdown",
   "metadata": {},
   "source": [
    "# What are Neural Networks"
   ]
  },
  {
   "attachments": {},
   "cell_type": "markdown",
   "metadata": {},
   "source": [
    "Există o mulțime de definiții pe internet la Neural Networks (rețele neuronale), dar în mare măsură reprezintă o metodă în Artificial Intelligence care învață calculatoarele să proceseze date într-un mod inspirat de creierul uman."
   ]
  },
  {
   "attachments": {},
   "cell_type": "markdown",
   "metadata": {},
   "source": [
    "Cum o să definim o rețea neuronală?\n",
    "\n",
    "Avem anumite date care sunt nestructurate (imagini, texte, înregistrare audio), iar înainte de a putea utiliza aceste date cu o rețea neuronală o să trebuiască să convertim aceste date în numere. Ființele umane pot să se uite la o imagine și sp zică că reprezintă ceva spaghete, dar pentru ca un calculator să înțeleagă aceste date trebuie să le convertească în numere (acest concept poartă denumirea de Numerical Encoding), iar abia apoi acele numere putem să le trimitem mai departe la o rețea neuronală. Ce rețea neuronală ar trebui să folosim? În funcție de problema pe care o avem putem fie să ne creem o rețea neuronală proprie (în care să creem fiecare nod din acea rețea), fie să utilizăm o rețea neuronală care a fost folosită pentru probleme asemănătoare. De exemplu, pentru procesarea de imagini putem să folosim un Convolutional Neural Network (CNNs). Ideea de bază este că toate folosesc aceeași structură. Au un layer de input (care primește valori numerice), anumite layere de manipulare a datelor și un layer de output."
   ]
  },
  {
   "attachments": {},
   "cell_type": "markdown",
   "metadata": {},
   "source": [
    "<img src='../SS/02.png' width=500>"
   ]
  },
  {
   "attachments": {},
   "cell_type": "markdown",
   "metadata": {},
   "source": [
    "Anatomia unei rețele neuronale arată de cele mai multe ori ca și în imaginea de mai sus. Datele pe care le avem o să meargă în layer-ul de input (în imginea de mai sus există doi neuroni pentru layer-ul de input), urmează layer-ul ascuns. În cazul de față există un singur layer ascuns ce are un număr de trei neuroni. Partea de 'Deep' din Deep Learning provine de la faptul că putem avea un model ce are o mulțime de layere ascunse (un exemplu este resnet152 care are 152 de layere ascunse). La final avem layer-ul de output unde sunt prezente predicțiile/probabilitățiile. Un model se poate customatiza, putem să customatizăm ce date să intre în layer-ul de input, câți neuroni să aibă layer-ul de input, putem să selectăm câte layere ascunse, output-ul se poate de asemenea customatiza"
   ]
  },
  {
   "attachments": {},
   "cell_type": "markdown",
   "metadata": {},
   "source": [
    "Fiecare layer este o combinație între o funcție liniară și non-liniară. Ca să ne putem da seama ce reprezintă aceste funcții, dacă ni-i se cere să desenăm orice dorim cu un număr limitat de linii drepte și linii care nu sunt drepte, ce pattern-uri am putea desena?. La un nivel fundamental, asta face o rețea neuronală, utilizează acele funcții liniare și non-liniare pentru a 'desena' anumite pattern-uri în datele cu care se lucrează"
   ]
  },
  {
   "cell_type": "markdown",
   "metadata": {},
   "source": []
  }
 ],
 "metadata": {
  "language_info": {
   "name": "python"
  },
  "orig_nbformat": 4
 },
 "nbformat": 4,
 "nbformat_minor": 2
}
