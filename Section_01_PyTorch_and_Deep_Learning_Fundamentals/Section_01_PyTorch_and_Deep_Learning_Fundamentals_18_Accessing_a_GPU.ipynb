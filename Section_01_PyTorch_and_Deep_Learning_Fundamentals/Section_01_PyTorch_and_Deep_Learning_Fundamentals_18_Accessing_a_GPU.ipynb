{
 "cells": [
  {
   "attachments": {},
   "cell_type": "markdown",
   "metadata": {},
   "source": [
    "# Accessing a GPU"
   ]
  },
  {
   "attachments": {},
   "cell_type": "markdown",
   "metadata": {},
   "source": [
    "Deoarece există situații în care dorim să reproducem o anumită rețea neuronală, este necesar să putem să creem tensori 'random' pe care putem să îi reproducem. Aici intră în acțiune conceptul de **random seed**"
   ]
  },
  {
   "cell_type": "code",
   "execution_count": 2,
   "metadata": {},
   "outputs": [
    {
     "name": "stdout",
     "output_type": "stream",
     "text": [
      "Creating 2 random tensors without the random seed and comparing them\n",
      "tensor([0.3904, 0.6009, 0.2566, 0.7936])\n",
      "tensor([0.9408, 0.1332, 0.9346, 0.5936])\n",
      "tensor([False, False, False, False])\n",
      "\n",
      "Creating 2 random tensors with random seed and comparing them\n",
      "tensor([0.8823, 0.9150, 0.3829, 0.9593])\n",
      "tensor([0.8823, 0.9150, 0.3829, 0.9593])\n",
      "tensor([True, True, True, True])\n"
     ]
    }
   ],
   "source": [
    "# importing the library\n",
    "import torch\n",
    "\n",
    "# creating 2 random tensors without the random seed\n",
    "print('Creating 2 random tensors without the random seed and comparing them')\n",
    "tensor1 = torch.rand(4)\n",
    "tensor2 = torch.rand(4)\n",
    "print(tensor1)\n",
    "print(tensor2)\n",
    "print(tensor1 == tensor2)\n",
    "\n",
    "# creating the constant for random seed\n",
    "RANDOM_SEED = 42\n",
    "\n",
    "# setting the random seed in PyTorch\n",
    "torch.manual_seed(RANDOM_SEED)\n",
    "\n",
    "# creating 2 random tensors with random seed\n",
    "print('\\nCreating 2 random tensors with random seed and comparing them')\n",
    "tensor3 = torch.rand(4)\n",
    "\n",
    "# we need to set again the seed after using 'torch.rand()'\n",
    "torch.manual_seed(RANDOM_SEED)\n",
    "tensor4 = torch.rand(4)\n",
    "print(tensor3)\n",
    "print(tensor4)\n",
    "print(tensor3 == tensor4)"
   ]
  },
  {
   "attachments": {},
   "cell_type": "markdown",
   "metadata": {},
   "source": [
    "La începutul acestui curs spuneam că o rețea neuronală poate fi alcătuită din o mulțime de tensori, iar între acești tensori există numeroase calcule, numeroase computații. Aceste calcule sunt mult mai rapide pe un GPU (placă grafică) deoarece acestea sunt special concepute pentru a realiza calcule numerice extrem de rapid. Din acest motiv, PyTorch ne permite să rulăm cod pe un `GPU` pentru a face un improvement de speed la funcționalitatea codului."
   ]
  },
  {
   "cell_type": "code",
   "execution_count": 3,
   "metadata": {},
   "outputs": [
    {
     "data": {
      "text/plain": [
       "False"
      ]
     },
     "execution_count": 3,
     "metadata": {},
     "output_type": "execute_result"
    }
   ],
   "source": [
    "torch.cuda.is_available()"
   ]
  },
  {
   "cell_type": "code",
   "execution_count": null,
   "metadata": {},
   "outputs": [],
   "source": []
  }
 ],
 "metadata": {
  "kernelspec": {
   "display_name": "venv",
   "language": "python",
   "name": "python3"
  },
  "language_info": {
   "codemirror_mode": {
    "name": "ipython",
    "version": 3
   },
   "file_extension": ".py",
   "mimetype": "text/x-python",
   "name": "python",
   "nbconvert_exporter": "python",
   "pygments_lexer": "ipython3",
   "version": "3.9.12"
  },
  "orig_nbformat": 4
 },
 "nbformat": 4,
 "nbformat_minor": 2
}
