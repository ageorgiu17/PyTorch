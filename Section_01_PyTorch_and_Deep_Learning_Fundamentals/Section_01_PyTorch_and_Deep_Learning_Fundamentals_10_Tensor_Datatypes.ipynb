{
 "cells": [
  {
   "cell_type": "markdown",
   "metadata": {},
   "source": [
    "# Tensor Datatypes"
   ]
  },
  {
   "attachments": {},
   "cell_type": "markdown",
   "metadata": {},
   "source": [
    "În lectura precedentă am învățat cum putem să creem anumiți tensori cu anumite valori (fie random, fie valori de zero sau de unu după o anumită formă, fie tensori utilizând un range, sau am copiat forma și dimensiunea unui tensor și am creat alt tensor de aceleași dimensiuni, dar cu valori diferite). Să trecem printr-o scurtă recapitulare"
   ]
  },
  {
   "cell_type": "code",
   "execution_count": 6,
   "metadata": {},
   "outputs": [
    {
     "name": "stdout",
     "output_type": "stream",
     "text": [
      "-----------RANDOM TENSOR-----------\n",
      "tensor([[0.4295, 0.4979, 0.7254, 0.6707, 0.3265, 0.0519, 0.7054],\n",
      "        [0.5358, 0.6878, 0.6996, 0.9209, 0.5300, 0.2607, 0.3156],\n",
      "        [0.9201, 0.1525, 0.6802, 0.4229, 0.0771, 0.3907, 0.0996],\n",
      "        [0.9955, 0.4534, 0.2535, 0.7997, 0.5326, 0.9519, 0.8974],\n",
      "        [0.9459, 0.9276, 0.6233, 0.6689, 0.6704, 0.1344, 0.0447]])\n",
      "-----------ZEROS TENSOR-----------\n",
      "tensor([[0., 0., 0.],\n",
      "        [0., 0., 0.]])\n",
      "-----------ONES TENSOR-----------\n",
      "tensor([[[1., 1., 1.],\n",
      "         [1., 1., 1.],\n",
      "         [1., 1., 1.],\n",
      "         [1., 1., 1.],\n",
      "         [1., 1., 1.]],\n",
      "\n",
      "        [[1., 1., 1.],\n",
      "         [1., 1., 1.],\n",
      "         [1., 1., 1.],\n",
      "         [1., 1., 1.],\n",
      "         [1., 1., 1.]]])\n",
      "-----------RANGE TENSOR-----------\n",
      "tensor([ 0, 17, 34, 51, 68, 85])\n",
      "-----------TENSOR-LIKE-----------\n",
      "tensor([[[0.3764, 0.3727, 0.2625],\n",
      "         [0.2416, 0.3206, 0.1826],\n",
      "         [0.3291, 0.3458, 0.3324],\n",
      "         [0.8831, 0.8865, 0.5221],\n",
      "         [0.4974, 0.5794, 0.1142]],\n",
      "\n",
      "        [[0.9351, 0.4362, 0.5895],\n",
      "         [0.3045, 0.7778, 0.3141],\n",
      "         [0.4524, 0.7335, 0.4286],\n",
      "         [0.1102, 0.2530, 0.0649],\n",
      "         [0.4302, 0.1503, 0.8567]]], dtype=torch.float64)\n"
     ]
    }
   ],
   "source": [
    "# importing PyTorch\n",
    "import torch\n",
    "\n",
    "# creating a tensor with random values\n",
    "print('-----------RANDOM TENSOR-----------')\n",
    "random_tensor = torch.rand(size=(5, 7))\n",
    "print(random_tensor)\n",
    "\n",
    "# creating a tensor full of zeros\n",
    "print('-----------ZEROS TENSOR-----------')\n",
    "zeros_tensor = torch.zeros(size=(2, 3))\n",
    "print(zeros_tensor)\n",
    "\n",
    "# creating a tensor full of ones\n",
    "print('-----------ONES TENSOR-----------')\n",
    "ones_tensor = torch.ones(size=(2, 5, 3))\n",
    "print(ones_tensor)\n",
    "\n",
    "# creating a tensor from a range\n",
    "print('-----------RANGE TENSOR-----------')\n",
    "arange_tensor = torch.arange(start=0, end=100, step=17)\n",
    "print(arange_tensor)\n",
    "\n",
    "# creating a tensor-like\n",
    "print('-----------TENSOR-LIKE-----------')\n",
    "tensor_like = torch.rand_like(input=ones_tensor, dtype=float)\n",
    "print(tensor_like)\n",
    "\n"
   ]
  },
  {
   "attachments": {},
   "cell_type": "markdown",
   "metadata": {},
   "source": [
    "Din ce se poate vedea mai sus, toate datele din fiecare tensor sunt de tip `float`. Acest lucru se întâmplă deoarece în modeul default, un tensor returnează date de tip float (în cazul în care nu se specifică alt tip de date). Pentru a specifica ce tip de date să fie o să utilizăm parametrul `dtype`. În continuare o să creem un tensor căruia o să îi atribuim valori float, dar ca și valoare pentru parametrul 'dtype' o să îi oferim valoarea None"
   ]
  },
  {
   "cell_type": "code",
   "execution_count": 7,
   "metadata": {},
   "outputs": [
    {
     "data": {
      "text/plain": [
       "torch.float32"
      ]
     },
     "execution_count": 7,
     "metadata": {},
     "output_type": "execute_result"
    }
   ],
   "source": [
    "# creating a tensor with dtype=None\n",
    "test_tensor = torch.tensor(data=[3.0, 6.0, 9.0], dtype=None)\n",
    "test_tensor.dtype"
   ]
  },
  {
   "attachments": {},
   "cell_type": "markdown",
   "metadata": {},
   "source": [
    "Deși am specificat ca tipul de date din acest tensor să fie 'None', atunci când accesăm atributul care ne returnează tipul de date stocat de către un tensor (`tensor.dtype`) acesta ne retunează 'torch.float32'. Chiar dacă s-a specificat dtype=None, tipul de date este tot float32, acesta este comportamentul prestabilit din PyTorch"
   ]
  },
  {
   "attachments": {},
   "cell_type": "markdown",
   "metadata": {},
   "source": [
    "De cele mai multe ori o să avem de-a face cu tipurile de date de float32 și float16. Diferența dintre acestea este modul în care calculatorul stochează numerele, și anume pe câți biți (float32 pe 32 de biți și float16 pe 16 biți). Diferențele dintre valorile stocate sunt prezenta la precizia stocării acestor numere, numerele stocate pe 32 de biți fiind mai precise, dar ocupând o memorie mai mare. Diferența de memorie dintre float32 și float16 face ca operațiile care se rulează pe tipuri de date float16 să fie mai rapide. De ce amintim aceste tipuri de date, deoarece unele dintre cele mai comune erori care apar în momentul în care lucrăm cu tensori face referire la tipul de date care este stocat în acești tensori. Dacă dorim să facem operații între mai mulți tensori și nu au același tip de date, atunci o să apară o eroare"
   ]
  },
  {
   "attachments": {},
   "cell_type": "markdown",
   "metadata": {},
   "source": [
    "Foarte important de menționat faptul că atunci când pentru un tensor dorim să specificăm tipul de date să utilizăm sintaxa `dtype=torch.float_x` (unde '_x' reprezintă numărul de biți). Mai multe informații despre tipul de date stocat într-un tensor se pot găsi pe pagina oficială de la PyTorch în documentație (https://pytorch.org/docs/stable/tensors.html) "
   ]
  },
  {
   "attachments": {},
   "cell_type": "markdown",
   "metadata": {},
   "source": [
    "Tensorul pe care l-am creat mai sus (test_tensor) are ca și tip de date float32. Dacă se întâmplă să mai lucrăm cu un alt tensor și acesta să aibă float16 ca și tip de date, operațiile între acești doi tensori nu se pot face decât în momentul în care cei doi au același tip de date. Pentru a crea un tensor cu aceleași valori (aprozimativ, deoarece precizia diferă) dar un tip de date diferit o să utilizăm comanda `tensor.type(torch.float_x)`"
   ]
  },
  {
   "cell_type": "code",
   "execution_count": 8,
   "metadata": {},
   "outputs": [
    {
     "data": {
      "text/plain": [
       "tensor([3., 6., 9.], dtype=torch.float16)"
      ]
     },
     "execution_count": 8,
     "metadata": {},
     "output_type": "execute_result"
    }
   ],
   "source": [
    "test_tensor.type(torch.float16)"
   ]
  },
  {
   "attachments": {},
   "cell_type": "markdown",
   "metadata": {},
   "source": [
    "Ceea ce returnează codul de mai sus putem să îl savăm ca și un nou tensor, acesta având aceleași valori, dar tipul de date este diferit."
   ]
  },
  {
   "cell_type": "code",
   "execution_count": 9,
   "metadata": {},
   "outputs": [
    {
     "data": {
      "text/plain": [
       "tensor([3., 6., 9.], dtype=torch.float16)"
      ]
     },
     "execution_count": 9,
     "metadata": {},
     "output_type": "execute_result"
    }
   ],
   "source": [
    "test_tensor_16 = test_tensor.type(torch.float16)\n",
    "test_tensor_16"
   ]
  },
  {
   "attachments": {},
   "cell_type": "markdown",
   "metadata": {},
   "source": [
    "De cele mai multe ori atunci când o să creem un tensor o să specificăm și tipul de date. De asemenea, foarte des mai apar doi parametri atunci când se creează un tensor, aceștia fiind `device` și `requires_grad`. Momentan o să le setăm la None, respectiv False, dar pe parcurs o să modificăm și aceste valori"
   ]
  },
  {
   "cell_type": "code",
   "execution_count": 10,
   "metadata": {},
   "outputs": [
    {
     "data": {
      "text/plain": [
       "tensor([3., 6., 9.], dtype=torch.float16)"
      ]
     },
     "execution_count": 10,
     "metadata": {},
     "output_type": "execute_result"
    }
   ],
   "source": [
    "new_tensor = torch.tensor([3.0, 6.0, 9.0], dtype=torch.float16, device=None, requires_grad=False)\n",
    "new_tensor"
   ]
  },
  {
   "attachments": {},
   "cell_type": "markdown",
   "metadata": {},
   "source": [
    "Prin parametrul de `device` specificăm pe care dintre componentele de procesare să se stocheze acel tensor. Ca și variante putem să avem 'cpu' sau 'cuda' ('cuda' reprezintă placa grafică). Din nou, dacă dorim să facem anumite operații între doi tensori care se află pe device-uri diferite, atunci o să ne apară o eroare. Parametrul de `required_grads` îi spune programului dacă să înregistreze sau nu parametrii de gradient (o să vedem ce anume înseamnă asta)"
   ]
  },
  {
   "attachments": {},
   "cell_type": "markdown",
   "metadata": {},
   "source": [
    "Într-un workflow de PyTorch, cel mai mult o să ne lovim de următoarele erori:\n",
    "\n",
    "1. Tensors not right datatype\n",
    "\n",
    "2. Tensors not right shape\n",
    "\n",
    "3. Tensor not on the right device"
   ]
  },
  {
   "attachments": {},
   "cell_type": "markdown",
   "metadata": {},
   "source": [
    "În funcție și de aceste trei erori, avem și trei atribute ale unui tensor pentru a verifica tipul de date, forma pe care o are un tensor și de asemenea pe ce device este prezent acel tensor."
   ]
  },
  {
   "cell_type": "code",
   "execution_count": 11,
   "metadata": {},
   "outputs": [
    {
     "name": "stdout",
     "output_type": "stream",
     "text": [
      "tensor([[0.4438, 0.5659, 0.6982, 0.5825, 0.6060, 0.7085],\n",
      "        [0.3003, 0.4956, 0.2935, 0.9121, 0.2524, 0.5596],\n",
      "        [0.1099, 0.2656, 0.1582, 0.6143, 0.9707, 0.3247]], dtype=torch.float16)\n",
      "Datatype of tensor is: torch.float16\n",
      "Shape of tensor is: torch.Size([3, 6])\n",
      "Tensor is on device: cpu\n"
     ]
    }
   ],
   "source": [
    "# creating a random tensor\n",
    "random_tensor = torch.rand(size=(3, 6), dtype=torch.float16, device=None, requires_grad=False)\n",
    "\n",
    "# accessing the attributes from the tensor\n",
    "print(random_tensor)\n",
    "print(f'Datatype of tensor is: {random_tensor.dtype}')\n",
    "print(f'Shape of tensor is: {random_tensor.shape}')\n",
    "print(f'Tensor is on device: {random_tensor.device}')"
   ]
  },
  {
   "attachments": {},
   "cell_type": "markdown",
   "metadata": {},
   "source": [
    "## Recapitulare"
   ]
  },
  {
   "attachments": {},
   "cell_type": "markdown",
   "metadata": {},
   "source": [
    "În această parte am învățat următoarele lucruri:\n",
    "\n",
    "1. Care sunt diferitele tipuri de date cu care o să lucrăm cel mai mult în PyTorch\n",
    "\n",
    "    - torch.float32\n",
    "\n",
    "    - torch.float16\n",
    "\n",
    "    Diferența dintre ele este reprezentată de memoria pe care sunt stocate și precizia cu care sunt stocate\n",
    "\n",
    "2. Cum să creem un tensor la care să îi stabilim tipul de date\n",
    "\n",
    "```python\n",
    "import torch\n",
    "\n",
    "tensor = torch.tensor([3.0, 6.0, 9.0], dtype=torch.float16)\n",
    "```\n",
    "\n",
    "3. Cum să modificăm tipul de date pentru un tensor deja creat\n",
    "\n",
    "```python\n",
    "import torch\n",
    "\n",
    "# creating a tensor with float32 datatype\n",
    "tensor_32 = torch.tensor([3.0, 6.0, 9.0], dtype=torch.float32)\n",
    "\n",
    "# changing the datatype from float32 to float16\n",
    "tensor_16 = tensor_32.type(torch.float16)\n",
    "```\n",
    "\n",
    "4. Cum se creează de cele mai multe ori un tensor, care sunt noii parametrii pe care i-am adăugat\n",
    "\n",
    "```python\n",
    "import torch\n",
    "\n",
    "tensor = torch.tensor([3.0, 6.0, 9.0], dtype=torch.float16, device=None, requires_grad=False)\n",
    "```\n",
    "\n",
    "5. Cum să accesăm atributele unui tensor care ne oferă informații referitoare la tipul de date din tensor, forma acestuia și pe ce device se găsește tensor-ul respectiv\n",
    "\n",
    "```python\n",
    "import torch\n",
    "\n",
    "# creating a random tensor\n",
    "random_tensor = torch.rand(size=(3, 5), dtype=torch.float16, device=None, requires_grad=False)\n",
    "\n",
    "# accessing the tensor attributes\n",
    "random_tensor.dtype # datatype of tensor\n",
    "random_tensor.shape # shape of tensor\n",
    "random_tensor.device # device tensor is on"
   ]
  }
 ],
 "metadata": {
  "kernelspec": {
   "display_name": "venv",
   "language": "python",
   "name": "python3"
  },
  "language_info": {
   "codemirror_mode": {
    "name": "ipython",
    "version": 3
   },
   "file_extension": ".py",
   "mimetype": "text/x-python",
   "name": "python",
   "nbconvert_exporter": "python",
   "pygments_lexer": "ipython3",
   "version": "3.9.12"
  },
  "orig_nbformat": 4
 },
 "nbformat": 4,
 "nbformat_minor": 2
}
