{
 "cells": [
  {
   "cell_type": "markdown",
   "metadata": {},
   "source": [
    "# What is Deep Learning?"
   ]
  },
  {
   "attachments": {},
   "cell_type": "markdown",
   "metadata": {},
   "source": [
    "Deep Learning este un subset din categoria Machine Learning. Ce este Machine Learning? Machine Learning reprezintă procesul prin care putem să transformăm date (orice tip de date, imagini, video, texte) în numere și să găsim anumite pattern-uri în aceste date. Cum se găsesc aceste pattern-uri? Partea de Machine Learning și de Deep Learning se ocupă cu această secțiune de a găsi aceste pattern-uri. Cum anume se face acest procedeu? Prin cod și matematică. Cel mai mult o să ne concentrăm pe partea de cod în cadrul acestui curs. Codul pe care o să îl scriem o să declanșeze anumite calcule matematice ce o să descopere aceste pattern-uri în date."
   ]
  }
 ],
 "metadata": {
  "language_info": {
   "name": "python"
  },
  "orig_nbformat": 4
 },
 "nbformat": 4,
 "nbformat_minor": 2
}
