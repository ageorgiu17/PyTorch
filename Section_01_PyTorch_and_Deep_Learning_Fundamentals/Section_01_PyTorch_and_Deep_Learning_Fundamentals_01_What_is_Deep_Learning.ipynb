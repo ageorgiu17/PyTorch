{
 "cells": [
  {
   "cell_type": "markdown",
   "metadata": {},
   "source": [
    "# What is Deep Learning?"
   ]
  },
  {
   "attachments": {},
   "cell_type": "markdown",
   "metadata": {},
   "source": [
    "Deep Learning este un subset din categoria Machine Learning. Ce este Machine Learning? Machine Learning reprezintă procesul prin care putem să transformăm date (orice tip de date, imagini, video, texte) în numere și să găsim anumite pattern-uri în aceste date. Cum se găsesc aceste pattern-uri? Partea de Machine Learning și de Deep Learning se ocupă cu această secțiune de a găsi aceste pattern-uri. Cum anume se face acest procedeu? Prin cod și matematică. Cel mai mult o să ne concentrăm pe partea de cod în cadrul acestui curs. Codul pe care o să îl scriem o să declanșeze anumite calcule matematice ce o să descopere aceste pattern-uri în date."
   ]
  },
  {
   "cell_type": "markdown",
   "metadata": {},
   "source": [
    "## Machine Learning vs Deep Learning"
   ]
  },
  {
   "attachments": {},
   "cell_type": "markdown",
   "metadata": {},
   "source": [
    "<img src='../SS/ai_ml_dl.png' width=400>"
   ]
  },
  {
   "attachments": {},
   "cell_type": "markdown",
   "metadata": {},
   "source": [
    "Aveam această sferă unde intră secțiunea de Artificial Intellingence. Din acestă categorie putem să ne imaginăm că poate face parte orice ține de acest concept de AI. În cadrul acestei secțiuni se găsește și conceptul de Machine Learning, iar în cadrul conceptului de Machine Learning se găsește conceptul de Deep Learning (pe care o să ne concetrăm în cadrul acestui curs). O să scriem cod de PyTorch pentru secțiunea de Deep Learning (deși putem utiliza PyTorch și pentru secțiunea de Machine Learning)"
   ]
  },
  {
   "attachments": {},
   "cell_type": "markdown",
   "metadata": {},
   "source": [
    "<img src='../SS/01.png' width=500>"
   ]
  },
  {
   "attachments": {},
   "cell_type": "markdown",
   "metadata": {},
   "source": [
    "Dacă cunoaștem conceptul de Machine Learning suntem familiari cu paradigma de mai sus. Dacă luăm în calcul programarea tradițională și am dori să avem un program care ne-ar putea recrea o anumită rețetă o să avem ca și secțiuni importante partea de input, unde avem acele legume plus puiul. Urmează partea în care creem anumite reguli (cum ar fi să tăiem legumele, să condimentăm puiul, să încălzim cuptorul, etc) care pot să fie ori mai simple, ori mai complexe. Partea de input plus acele reguli creează acel output (care reprezintă rețeta finală)"
   ]
  },
  {
   "attachments": {},
   "cell_type": "markdown",
   "metadata": {},
   "source": [
    "În ceea ce privește Machine Learning, acesta începe cu un input (adică ceea ce avem, ceva legume plus acel pui), input căruia i se atribuie un output dorit. Adică știm că ca și date avem acele legume și puiul, iar ca și rezultat avem puiul gătit. Conceptul de Machine Learning trebuie să își dea seama de regulile care ar trebuie să fie prezente pentru ca din acel input să ajungem la output-ul dorit. Cam acestea sunt diferențele dintre programarea clasică și machine learning"
   ]
  },
  {
   "attachments": {},
   "cell_type": "markdown",
   "metadata": {},
   "source": [
    "## Why use Machine Learning (or Deep Learnig)?"
   ]
  },
  {
   "attachments": {},
   "cell_type": "markdown",
   "metadata": {},
   "source": [
    "Acuma apare întrebarea de ce am vrea să folosim aceste concepte de Machine Learning sau Deep Learning în locul programării clasice? Dacă am avea de scris mereu acele reguli pentru a crea o simplă rețetă treaba ar deveni destul de greoaie. Problema de mai sus este una destul de simplă, dar tot pentru a ne gândi la toate acele rules care ar trebui urmate este destul de greu să nu ratăm ceva anume. Să luăm acuma în calcul și ideea unei probleme mult mai grele. Să presupunem că dorim să creem o mașină folosing 'self-driving'. Poate că o persoană învață să conducă o mașină undeva la 100 de ore. Ca și o idee, imaginați-vă că trebuie să scrieți pe o foaie de hârtie fiecare regulă de circulație care există pentru a nu face un accident. Pentru probleme așa de complexe este imposibil să ne gândim la toate regulile care ar putea exista pentru a putea rezolva problema respectivă utilizând programarea clasică. Aici intră în discuție partea de Machine Learning și Deep Learning. Atâta timp cât reșim să convertim datele cu care lucrăm în numere (deoarece Machine Learning, Deep Learning și calculatoarele percep cel mai bine numere) putem să utilizăm Machine Learning la aproape orice."
   ]
  },
  {
   "attachments": {},
   "cell_type": "markdown",
   "metadata": {},
   "source": [
    "Totuși, chiar dacă am putea utiliza Machine Learning la aproape orice, asta nu înseamnă că și trebuie să facem asta. Dacă putem să creem un set de reguli necesare pentru a ne crea propgramul de care avem nevoie fără Machine Learning, atunci probabil este mai indicat să facem asta."
   ]
  }
 ],
 "metadata": {
  "language_info": {
   "name": "python"
  },
  "orig_nbformat": 4
 },
 "nbformat": 4,
 "nbformat_minor": 2
}
