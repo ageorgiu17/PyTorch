{
 "cells": [
  {
   "attachments": {},
   "cell_type": "markdown",
   "metadata": {},
   "source": [
    "# What are Tensors?"
   ]
  },
  {
   "attachments": {},
   "cell_type": "markdown",
   "metadata": {},
   "source": [
    "Am mai auzit termenul de tensor în această introducere a cursului. Ce anume reprezintă defapt un tensor? Ce este acesta?"
   ]
  },
  {
   "attachments": {},
   "cell_type": "markdown",
   "metadata": {},
   "source": [
    "După cum spuneam, la o rețea neuronală o să avem un anumit input (o imagine, un text, o înregistrare), input pe care trebuie să îl transformăm în date numerice, aceste date le trimitem mai departe la acea rețea neuronală pentru a descoperi anumite pattern-uri în cadrul acelor date numerice, iar la final este creată o reprezentare a acelor pattern-uri, reprezentare pe care o putem converti în ceva ce poate fi înțeles de către o anumită persoană. "
   ]
  },
  {
   "attachments": {},
   "cell_type": "markdown",
   "metadata": {},
   "source": [
    "<img src='../SS/03.png' width=500>"
   ]
  },
  {
   "attachments": {},
   "cell_type": "markdown",
   "metadata": {},
   "source": [
    "Flow-ul pentru un model de Deep Learning este cel prezent de mai sus. După cum se poate observa, ceea ce primește și returnează o rețea neuronală sunt niște numere, cifre dispunse sub formă ca și de listă. Ceea ce primește ca și input și retunrează ca și output o rețea neuronașă reprezintă un tensor defapt. Prin urmare, un tensor poate fi orice deoarece acele numere pot reprezenta imagini, texte, videoclipuri, înregistrări, etc. "
   ]
  },
  {
   "attachments": {},
   "cell_type": "markdown",
   "metadata": {},
   "source": [
    "Ca și o recapitulare, luăm un input, relizăm partea de Numerical Encoding, parte prin care defapt transformăm setul de date într-un anumit tip de tensor (există mai multe tipuri de tensori și aceștia sunt diferențiați în funcție de problema la care lucrăm și pe care dorim să o rezolvăm), acest tensor o să îl oferim ca și input  pentru rețeaua neuronală, rețea care o să realizeze anumite calcule matematice pe acel tensor. Acele calcule matematice sunt realizate de către framewor-ul PyTorch, iar după ce aceste calcule s-au terminat, rețeaua o să returneze alt tensor, similar cu cel de input, dar totuși care a fost manipulat într-un anumit mod pe care l-am programat (în funcție de rețeaua neuronală creată sau aleasă). La final, putem să luăm acel tensor rezultat și să îl transformăm în ceva ce poate fi înțeles de către o persoană"
   ]
  },
  {
   "cell_type": "markdown",
   "metadata": {},
   "source": []
  }
 ],
 "metadata": {
  "language_info": {
   "name": "python"
  },
  "orig_nbformat": 4
 },
 "nbformat": 4,
 "nbformat_minor": 2
}
