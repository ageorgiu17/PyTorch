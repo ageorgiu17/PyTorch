{
 "cells": [
  {
   "cell_type": "markdown",
   "metadata": {},
   "source": [
    "# What is Deep Learning and Machine Learning good for?"
   ]
  },
  {
   "attachments": {},
   "cell_type": "markdown",
   "metadata": {},
   "source": [
    "Prima regulă de la Google în ceea ce privește Machine Learning sună cam așa: \"If you can build a simple rule-based system that doesn't require machine learning, do that\". Această regulă ne spune că atunci când avem o problemă destul de simplă, nu ar trebuie să folosim Machine Learning pentru a rezolva acea problemă. Atunci pentru ce am putea utiliza Machine Learning și Deep Learning?\n",
    "\n",
    "Atunci când avem o problemă ce necesită o listă extrem de mare de reguli, iar abordarea cu programarea tradițională nu face parte, aici este un bun caz de a folosi Machine Learnig sau Deep Learning. De asemenea în situațiile în care la o anumită problemă se schimă extrem de des 'environment-ul' acesteia, un sistem de Machine Learning și Deep Learning se poate adapta și învăța de la scenarii noi. Să luăm din nou exemplu cu self-driving cars. Fiecare persoană cunoaște mult mai bine cartierul sau orașul în care conduc cel mai des, dar atunci când se merge într-un oraș nou trebuie să ne adaptăm la noua situație. Machine Learning și Deep Learning reușesc să facă această parte, să se adapteze la noile situații care apar și pot învăța din acele situații. Un alt exemplu pentru situațiile în care putem folosi aceste concepte este atunci când avem un set extrem de mare de date. Luăm din nou exemplul cu acea rețetă. Poate reușim să scriem regulile necesare pentru a crea o singură rețetă, dar ce facem atunci când avem mult mai multe rețete? Să zicem că dorim să creem o aplicație căruia să îi oferim ca și input o imagine cu anumite alimente și să ne ofere o listă de posibile rețete. Ca să facem asta cu abordarea tradițională ar trebui să avem câte o listă de reguli pentru feicare rețetă. De asemenea, ar trebuie să îi spunem aplicației (utilizând programarea clasică) ce este să zicem o banană, cum arată aceasta și la ce se poate folosi. De asemenea trebuie să îi zicem programului tot ce nu reprezintă o banană, ceea ce ar fi extrem de complicat."
   ]
  },
  {
   "attachments": {},
   "cell_type": "markdown",
   "metadata": {},
   "source": [
    "La ce nu este bine să folosim aceste concepte? Sau când nu este bine să le folosim?\n",
    "\n",
    "Atunci când dorim să avem explicație pentru rezultatele obținute. Acele pattern-uri descoperite de un model de Deep Learning sunt doar numere (care poartă denuimirea de bias și weights) nu pot fi interpretabile de către oameni. Anumite modele au sute, mii, zeci de mii, milioane, unele chiar miliarde de parametrii (de pattern-uri), atunci este imposibil să ne uităm la atâtea numere și să înțelegem ceva din ele. De asemenea, atunci când abordarea tradițională reprezintă o opțiune mai bună. O altă situație ar fi atunci când nu am dori să avem erori, deoarece un model de Deep Learning face o asumpție bazată pe probabilistică, ceea ce nu tot timpul este corect, din acest motiv pot să apară anumite erori în acest proces de predicție. Un alt moment în care nu ar trebui să utilizăm Deep Learning este atunci când nu avem suficiente date. Pentru ca un model să funcționeze relativ ok, acesta are nevoie de un număr destul de mare de date cu care să lucreze (totuți există anumite tehnici pe care le putem utiliza pentru a avea rezultate bune chiar și cu un număr de date mai mic.)"
   ]
  },
  {
   "cell_type": "markdown",
   "metadata": {},
   "source": []
  }
 ],
 "metadata": {
  "language_info": {
   "name": "python"
  },
  "orig_nbformat": 4
 },
 "nbformat": 4,
 "nbformat_minor": 2
}
