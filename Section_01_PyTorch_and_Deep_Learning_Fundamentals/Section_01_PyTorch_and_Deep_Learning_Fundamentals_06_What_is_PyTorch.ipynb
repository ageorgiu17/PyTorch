{
 "cells": [
  {
   "attachments": {},
   "cell_type": "markdown",
   "metadata": {},
   "source": [
    "# What is PyTorch?"
   ]
  },
  {
   "attachments": {},
   "cell_type": "markdown",
   "metadata": {},
   "source": [
    "PyTorch este un framework de Deep Learning care ne permite să scriem în Python foarte rapid, cod care poate rula pe CPU-uri sau pe una sau mai multe GPU-uri. Utilizând framework-ul PyTorch avem posibilitatea să accesăm modele deja antrenate aflate în hub-ul de la framework (Torch Hub). De asemenea, acesta ne pune la dispoziție un întreg arsenal de date pentru Machine Learning, de la partea de pre-proceare de date (transformarea datelor în tensori, transformarea unor imagini în numere), crearea de modele pentru a procesa datele respective și include și partea de deployare a modelelor în producție"
   ]
  },
  {
   "attachments": {},
   "cell_type": "markdown",
   "metadata": {},
   "source": [
    "Un alt argument pentru a folosi PyTorch este faptul că ne permite să rulăm codul (să îl accelerăm) pe un GPU. Un GPU este defapt o placă grafică, placă care este extrem de rapidă în procesarea munerelor. A fost creată inițial pentru jocurile video deoarece grafica acestora necesită extrem de multe calcule de numere pentru a putea fi afișată în timp real. PyTorch ne permite să ne folosim de această parte de hardware printr-o interfață denumită CUDA"
   ]
  },
  {
   "attachments": {},
   "cell_type": "markdown",
   "metadata": {},
   "source": [
    "În plus, PyTorch este folosit de cele mai mari și mai puternice companii din lume (Tesla, Microsoft, Facebook). Un sistem creat în PyTorch poate funcționa aproape pe orice dispozitiv, de exemplu sunt sisteme create în PyTorch care funcționează în agricultură pe anumite tractoare, tractoare care parcurc câmpuri uriașe de plantații, iar având un sistem de detecții, detectează anumite specii de plante care ar putea fi dăunătoare pentru recolte și le distrug în timp real."
   ]
  },
  {
   "attachments": {},
   "cell_type": "markdown",
   "metadata": {},
   "source": [
    "Acestea sunt printre cele mai importante motive de ce să alegem să utilizâm PyTorch. În plus, în majoritatea lucrărilor știinfice despre Deep Learning, o bună partea din repo-urile acestea sunt scrise utilizând framework-ul de PyTorch"
   ]
  },
  {
   "cell_type": "markdown",
   "metadata": {},
   "source": []
  }
 ],
 "metadata": {
  "language_info": {
   "name": "python"
  },
  "orig_nbformat": 4
 },
 "nbformat": 4,
 "nbformat_minor": 2
}
