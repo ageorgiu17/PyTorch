{
 "cells": [
  {
   "attachments": {},
   "cell_type": "markdown",
   "metadata": {},
   "source": [
    "# Types of Learning"
   ]
  },
  {
   "attachments": {},
   "cell_type": "markdown",
   "metadata": {},
   "source": [
    "În partea trecută ne-am uitat la ce reprezintă o rețea neuronală, de asemenea în lecția despre Machine Learning vs. Deep Learning am și văzut care sunt diferitele modele de Deep Learning. Exită și paradigme diferite despre cum o rețea neuronală poate să învețe. Există trei mai categorii de tipuri de învățare:\n",
    "\n",
    "- Supervised Learning\n",
    "\n",
    "- Unsupervised & Self-Supervised Leraning\n",
    "\n",
    "- Transfer Learning"
   ]
  },
  {
   "attachments": {},
   "cell_type": "markdown",
   "metadata": {},
   "source": [
    "Categoria de Transfer Learning este un subiect extrem de important în Deep Learning prin care ia acele pattern-uri pe care un model le-a aflat/învățat dintr-un set de date și le transferă către alt model. În acest curs o să ne concetrăm destul de mult pe partea de Supervised Learning și Transfer Learning.\n",
    "\n",
    "Mai există o secțiune de Reinforcement Learning, secțiune care este un pic separată de aceste trei secțiuni listate mai sus."
   ]
  },
  {
   "attachments": {},
   "cell_type": "markdown",
   "metadata": {},
   "source": [
    "## What can Deep Learning be used for?"
   ]
  },
  {
   "attachments": {},
   "cell_type": "markdown",
   "metadata": {},
   "source": [
    "Pentru ce probleme putem utiliza Deep Learning pentru a rezolva acele probleme? Dacă reușim să transformăm tipurile de date de intrare (imagini, text, înregistrări, etc.) în numere, Deep Learning și Machine Learning pot fi folosite în a rezolva orice problemă din orice domeniu. Totuși, după cum știm, dacă o problemă poate fi rezolvată cu metoda tradițională de programere se recomandă să se utilizeze acea metodă. Care sunt anumite situații în care totuși se recomandă să se utilizeze Deep Learning?\n",
    "\n",
    "- Recommandation (recomandare de video-uri pe YouTube)\n",
    "\n",
    "- Transcription (traducere de texte dintr-o limbă în alta)\n",
    "\n",
    "- Speec recognition (recunoașterea cuvintelor rostite de persoane - Siri, Alexa)\n",
    "\n",
    "- Computer Vision (procesarea de imagini, detecții pe imagini)\n",
    "\n",
    "- NLP (Natural Language Processing - detectarea email-urilor fiind ca spam sau nu)"
   ]
  },
  {
   "attachments": {},
   "cell_type": "markdown",
   "metadata": {},
   "source": [
    "Cele de sus pot fi grupate în categorii mai generale. Spre exemplu, utilizarea Deep Learning în Transcription și Speech Recognition fac parte din categoria 'SequenceToSequence'. Această categorie poartă denumirea aceasta deoarece avem o secvență de date ca și input (fraza pe care dorim să o traducem) și o secvență de date și la output (fraza rezultată după traducere). O altă categorie mai mare este cea de 'Regression/Classification'. Din această categorie face partea Computer Vision (partea de detecție intră în Regression) și NLP (detectarea email-urilor dacă sunt spam sau nu este în categoria de Classification)"
   ]
  },
  {
   "cell_type": "markdown",
   "metadata": {},
   "source": []
  }
 ],
 "metadata": {
  "language_info": {
   "name": "python"
  },
  "orig_nbformat": 4
 },
 "nbformat": 4,
 "nbformat_minor": 2
}
