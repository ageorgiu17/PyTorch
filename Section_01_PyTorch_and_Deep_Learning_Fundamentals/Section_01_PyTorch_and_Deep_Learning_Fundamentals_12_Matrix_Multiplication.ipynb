{
 "cells": [
  {
   "cell_type": "markdown",
   "metadata": {},
   "source": [
    "# Matrix Multiplication"
   ]
  },
  {
   "attachments": {},
   "cell_type": "markdown",
   "metadata": {},
   "source": [
    "În secțiunea precedentă am văzut cum putem să realizăm anumite operații aritmetice de bază cu un anumit tensor. Să facem o scurtă recapitulare"
   ]
  },
  {
   "cell_type": "code",
   "execution_count": 2,
   "metadata": {},
   "outputs": [
    {
     "name": "stdout",
     "output_type": "stream",
     "text": [
      "tensor([1, 2, 3])\n",
      "--------------------------ADDITION--------------------------\n",
      "Addition of a tensor using '+' sign\n",
      "tensor + 10: tensor([11, 12, 13])\n",
      "Addition of a tensor using 'torch.add()' function\n",
      "torch.add(tensor, 10): tensor([11, 12, 13])\n",
      "--------------------------SUBSTRACTION--------------------------\n",
      "Substraction of a tensor using '-' sign\n",
      "tensor - 10: tensor([-9, -8, -7])\n",
      "Substraction of a tensor using 'torch.sub()' function\n",
      "torch.sub(tensor, 10): tensor([-9, -8, -7])\n",
      "--------------------------MULTIPLICATION--------------------------\n",
      "Multiplication of a tensor using '*' sign\n",
      "tensor * 10: tensor([10, 20, 30])\n",
      "Multiplication of a tensor using 'torch.mul()' function\n",
      "torch.mul(tensor, 10): tensor([10, 20, 30])\n",
      "--------------------------DIVISION--------------------------\n",
      "Division of a tensor using '/' sign\n",
      "tensor / 10: tensor([0.1000, 0.2000, 0.3000])\n",
      "Division of a tensor using 'torch.div()' function\n",
      "torch.div(tensor, 10): tensor([0.1000, 0.2000, 0.3000])\n"
     ]
    }
   ],
   "source": [
    "# importing PyTorch\n",
    "import torch\n",
    "\n",
    "# creating a tensor\n",
    "tensor = torch.tensor([1, 2, 3])\n",
    "\n",
    "# printing the tensor\n",
    "print(tensor)\n",
    "print('--------------------------ADDITION--------------------------')\n",
    "\n",
    "# Addition\n",
    "print(f\"Addition of a tensor using '+' sign\")\n",
    "print(f\"tensor + 10: {tensor + 10}\")\n",
    "\n",
    "print(f\"Addition of a tensor using 'torch.add()' function\")\n",
    "print(f\"torch.add(tensor, 10): {torch.add(tensor, 10)}\")\n",
    "\n",
    "print('--------------------------SUBSTRACTION--------------------------')\n",
    "# Substraction\n",
    "print(f\"Substraction of a tensor using '-' sign\")\n",
    "print(f\"tensor - 10: {tensor - 10}\")\n",
    "\n",
    "print(f\"Substraction of a tensor using 'torch.sub()' function\")\n",
    "print(f\"torch.sub(tensor, 10): {torch.sub(tensor, 10)}\")\n",
    "\n",
    "print('--------------------------MULTIPLICATION--------------------------')\n",
    "# Multiplication\n",
    "print(f\"Multiplication of a tensor using '*' sign\")\n",
    "print(f\"tensor * 10: {tensor * 10}\")\n",
    "\n",
    "print(f\"Multiplication of a tensor using 'torch.mul()' function\")\n",
    "print(f\"torch.mul(tensor, 10): {torch.mul(tensor, 10)}\")\n",
    "\n",
    "print('--------------------------DIVISION--------------------------')\n",
    "# Division\n",
    "print(f\"Division of a tensor using '/' sign\")\n",
    "print(f\"tensor / 10: {tensor / 10}\")\n",
    "\n",
    "print(f\"Division of a tensor using 'torch.div()' function\")\n",
    "print(f\"torch.div(tensor, 10): {torch.div(tensor, 10)}\")\n",
    "\n"
   ]
  },
  {
   "attachments": {},
   "cell_type": "markdown",
   "metadata": {},
   "source": [
    "Un lucru pe care nu l-am parcurs în lecția precedentă este cum facem operații de doi tensori care au mai multe valori (același număr de valori), care este conceptul care se aplică în acest caz. Ei bine, să luăm exemplul de înmulțire, aici se aplică conceptul de 'element-wise multiplication' unde prima valoare din primul tensor este înmulțit cu prima valoare din al doilea tensor, a doua valoare din primul tensor este înmulțită cu a doua valoare din al doilea tensor și tot așa"
   ]
  },
  {
   "cell_type": "code",
   "execution_count": 7,
   "metadata": {},
   "outputs": [
    {
     "name": "stdout",
     "output_type": "stream",
     "text": [
      "Working with tensor tensor([1, 2, 3])\n",
      "tensor * tensor\n",
      "Equals: tensor([1, 4, 9])\n"
     ]
    }
   ],
   "source": [
    "# Multiplication of tensors with multiple values (the same length)\n",
    "print(f'Working with tensor {tensor}')\n",
    "print(f'tensor * tensor')\n",
    "print(f'Equals: {tensor * tensor}')"
   ]
  },
  {
   "attachments": {},
   "cell_type": "markdown",
   "metadata": {},
   "source": [
    "După cum spuneam, fiecare valoare se înmulțește cu valoare de pe același index din ambii tensori."
   ]
  },
  {
   "attachments": {},
   "cell_type": "markdown",
   "metadata": {},
   "source": [
    "Cea mai comună operație între tensori care se găsește poartă denumirea de `Matrix Multiplication` (mai poartă denumirea și de 'dot product'). Atunci când am făcut operația de multiplicare pentru un tensor cu o singură valoare, conceptul este destul de ușor, se ia valoarea respectivă și se înmulțește cu fiecare element din tensor. Am verificat acest lucru cu un tensor de tip vector, dar din moment ce suntem la capitolul 'Matrix Multiplication' putem să încercă să realizăm această operație și cu un tensor de tip matrice (o să vedem că este același concept)"
   ]
  },
  {
   "cell_type": "code",
   "execution_count": 4,
   "metadata": {},
   "outputs": [
    {
     "data": {
      "text/plain": [
       "tensor([[1, 2, 3],\n",
       "        [4, 5, 6]])"
      ]
     },
     "execution_count": 4,
     "metadata": {},
     "output_type": "execute_result"
    }
   ],
   "source": [
    "# creating a matrix tensor\n",
    "matrix = torch.tensor([[1, 2, 3], [4, 5, 6]])\n",
    "matrix"
   ]
  },
  {
   "cell_type": "code",
   "execution_count": 5,
   "metadata": {},
   "outputs": [
    {
     "data": {
      "text/plain": [
       "tensor([[10, 20, 30],\n",
       "        [40, 50, 60]])"
      ]
     },
     "execution_count": 5,
     "metadata": {},
     "output_type": "execute_result"
    }
   ],
   "source": [
    "# multiplying a matrix tensor by a single value\n",
    "matrix * 10"
   ]
  },
  {
   "attachments": {},
   "cell_type": "markdown",
   "metadata": {},
   "source": [
    "După cum spuneam, conceptul este același, se înmulțește fiecare elemement din matrice cu valoare 10. Complexitatea apare atunci când dorim să multiplicăm două matrici (Matrix Multiplication). Pentru asta trebuie să facem cum am spus ceea ce poartă denumirea de `dot-product`. Acest concept arată așa:"
   ]
  },
  {
   "attachments": {},
   "cell_type": "markdown",
   "metadata": {},
   "source": [
    "<img src='../SS/05.png' width=700>"
   ]
  },
  {
   "attachments": {},
   "cell_type": "markdown",
   "metadata": {},
   "source": [
    "Deși poartă denumirea de 'Matrix Multiplication' putem să facem acest procedeu și pentru tensori de tip vector. Să facem această operație de 'Matrix Multiplication' pentru tensor-ul cu care am lucrat mai sus (în care am înmulțit un tensor cu el însuși)"
   ]
  },
  {
   "cell_type": "code",
   "execution_count": 8,
   "metadata": {},
   "outputs": [
    {
     "data": {
      "text/plain": [
       "tensor([1, 4, 9])"
      ]
     },
     "execution_count": 8,
     "metadata": {},
     "output_type": "execute_result"
    }
   ],
   "source": [
    "tensor * tensor"
   ]
  },
  {
   "attachments": {},
   "cell_type": "markdown",
   "metadata": {},
   "source": [
    "Operația de mai sus este 'element-wise'. Pentru a face 'Matrix Multiplication' o să folosim comanda din PyTorch `torch.matmul()`. Să vedem ce rezultat obținem"
   ]
  },
  {
   "cell_type": "code",
   "execution_count": 9,
   "metadata": {},
   "outputs": [
    {
     "data": {
      "text/plain": [
       "tensor(14)"
      ]
     },
     "execution_count": 9,
     "metadata": {},
     "output_type": "execute_result"
    }
   ],
   "source": [
    "torch.matmul(tensor, tensor)"
   ]
  },
  {
   "attachments": {},
   "cell_type": "markdown",
   "metadata": {},
   "source": [
    "Rezultatul de la 'torch.matmul()' dintre același tensor este 14. Cum anume se ajunge la acest rezultat? Pentru partea de element-wise am zis că se înmulțește prima valoare din primul tensor cu prima valoare din al doilea tensor și accea este trecută ca și primă valoare din tensorul care rezultă. Pentru partea de matrix multiplication se procedează în mare măsură la fel, se înmulțește prima valoare din primul tensor cu prima valoare din al doilea matrix, iar acea valoare se adună cu rezultatul înmulțirii dintre a doua valoare din primul tensor și a doua valoare din al doilea tensor, și tot așa până ce se ajunge la finalul operațiilor de înmulțire cu fiecare valoare din tensori."
   ]
  },
  {
   "attachments": {},
   "cell_type": "markdown",
   "metadata": {},
   "source": [
    "Pentru explicația matematică:\n",
    "\n",
    "tensor1 = [1, 2, 3]\n",
    "\n",
    "tensor2 = [1, 2, 3]\n",
    "\n",
    "1 * 1 = 1 (primul element din primul tensor înmulțit cu primul element din al doilea tensor)\n",
    "\n",
    "2 * 2 = 4 (al doilea element din primul tensor înmulțit cu al doilea element din al doilea tensor)\n",
    "\n",
    "3 * 3 = 9 (al treilea element din primul tensor înmulțit cu al treilea element din al doilea tensor)\n",
    "\n",
    "1 + 4 + 9 = 14 - de aici a rezultat valoarea 14 din 'torch.matmul(tensor, tensor)'\n"
   ]
  },
  {
   "cell_type": "code",
   "execution_count": 10,
   "metadata": {},
   "outputs": [
    {
     "data": {
      "text/plain": [
       "14"
      ]
     },
     "execution_count": 10,
     "metadata": {},
     "output_type": "execute_result"
    }
   ],
   "source": [
    "(1 * 1) + (2 * 2) + (3 * 3)"
   ]
  },
  {
   "attachments": {},
   "cell_type": "markdown",
   "metadata": {},
   "source": [
    "Pentru exemplul din imagine unde avem cele două matrici și rezultatul pentru primul calcul, acesta este reprezentat matematic astfel"
   ]
  },
  {
   "cell_type": "code",
   "execution_count": 11,
   "metadata": {},
   "outputs": [
    {
     "data": {
      "text/plain": [
       "58"
      ]
     },
     "execution_count": 11,
     "metadata": {},
     "output_type": "execute_result"
    }
   ],
   "source": [
    "(1 * 7) + (2 * 9) + (3 * 11)"
   ]
  },
  {
   "attachments": {},
   "cell_type": "markdown",
   "metadata": {},
   "source": [
    "Pentru mai multe informații referitor la cum funcționează partea de Matrix Multiplication putem să accesăm link-ul https://www.mathsisfun.com/algebra/matrix-multiplying.html"
   ]
  },
  {
   "attachments": {},
   "cell_type": "markdown",
   "metadata": {},
   "source": [
    "Exemplul de mai sus este realizat cu înmulțirea unui tensor cu el însuși, un tensor extrem de mic, de asemenea. În momentul în care lucrăm cu o rețea neuronală, acești tensori sunt de mărimi considerabile, iar apariția erorilor când facem operația de matrix multiplication este una extrem de des întâlnită. Din acest motiv există două reguli importante în ceea ce privește Matrix Multiplication\n",
    "\n",
    "1. **inner dimesions** de la cei doi tensor trebuie să fie la fel\n",
    "\n",
    "    - tensor([3, 2]) @ tensor([3, 2]) # o să rezulte într-o eroare\n",
    "\n",
    "    - tensor([3, 2]) @ tensor([2, 3]) # o să funcționeze\n",
    "\n",
    "2. Tensorul de tip matrice ce rezultă o să aibă forma de  la **outer dimensions**"
   ]
  },
  {
   "attachments": {},
   "cell_type": "markdown",
   "metadata": {},
   "source": [
    "Ce înseamnă prima regulă? Atunci când facem **Matrix Multiplication** pentru doi tensori, valorile cele mai apropiate (inner), adică a doua valoare de la primul tensor și prima valoarea de la al doilea tensor trebuie să fie identice pentru a putea să multiplicăm aceste matrici"
   ]
  },
  {
   "cell_type": "code",
   "execution_count": 12,
   "metadata": {},
   "outputs": [
    {
     "ename": "RuntimeError",
     "evalue": "mat1 and mat2 shapes cannot be multiplied (3x2 and 3x2)",
     "output_type": "error",
     "traceback": [
      "\u001b[0;31m---------------------------------------------------------------------------\u001b[0m",
      "\u001b[0;31mRuntimeError\u001b[0m                              Traceback (most recent call last)",
      "Cell \u001b[0;32mIn[12], line 1\u001b[0m\n\u001b[0;32m----> 1\u001b[0m torch\u001b[39m.\u001b[39;49mmatmul(torch\u001b[39m.\u001b[39;49mrand(size\u001b[39m=\u001b[39;49m(\u001b[39m3\u001b[39;49m, \u001b[39m2\u001b[39;49m)), torch\u001b[39m.\u001b[39;49mrand(size\u001b[39m=\u001b[39;49m(\u001b[39m3\u001b[39;49m, \u001b[39m2\u001b[39;49m)))\n",
      "\u001b[0;31mRuntimeError\u001b[0m: mat1 and mat2 shapes cannot be multiplied (3x2 and 3x2)"
     ]
    }
   ],
   "source": [
    "torch.matmul(torch.rand(size=(3, 2)), torch.rand(size=(3, 2)))"
   ]
  },
  {
   "attachments": {},
   "cell_type": "markdown",
   "metadata": {},
   "source": [
    "Din moment ce cele două valori de la inner dimensions nu sunt la fel, atunci codul rezultă într-o eroare"
   ]
  },
  {
   "cell_type": "code",
   "execution_count": 13,
   "metadata": {},
   "outputs": [
    {
     "data": {
      "text/plain": [
       "tensor([[0.2816, 0.2249, 0.2578],\n",
       "        [0.3008, 0.4791, 0.1950],\n",
       "        [0.4320, 0.5140, 0.3385]])"
      ]
     },
     "execution_count": 13,
     "metadata": {},
     "output_type": "execute_result"
    }
   ],
   "source": [
    "torch.matmul(torch.rand(size=(3, 2)), torch.rand(size=(2, 3)))"
   ]
  },
  {
   "attachments": {},
   "cell_type": "markdown",
   "metadata": {},
   "source": [
    "Atunci când cele două valori de la inner dimensions sunt aceleași (ambele au valoare 2), atunci putem să realizăm procesul acesta de multplicare de matrici. După cum se observă, tensorul de tip matrice ce a rezultat are forma de la **outer dimesions**, adică prima valoare din shape de la primul tensor și utlima valoare din shape de la al doilea tensor (valorile cele mai depărtate)"
   ]
  },
  {
   "attachments": {},
   "cell_type": "markdown",
   "metadata": {},
   "source": [
    "O altă modalitae de a executa operația de multiplicare de matrici este prin utilizarea semnului `@` între cei doi tensor (**tensor1 @ tensor2**)"
   ]
  },
  {
   "cell_type": "code",
   "execution_count": 14,
   "metadata": {},
   "outputs": [],
   "source": [
    "tensor_A = torch.tensor([[1, 2],\n",
    "                         [3, 4],\n",
    "                         [5, 6]])\n",
    "\n",
    "tensor_B = torch.tensor([[7, 10],\n",
    "                         [8, 11],\n",
    "                         [9, 12]])"
   ]
  },
  {
   "attachments": {},
   "cell_type": "markdown",
   "metadata": {},
   "source": [
    "În exemplele de **Matrix Multiplication** peste care ne-am uitat mai sus am oferit ca și valori doi tensori pe care i-am creat utilizând 'torch.rand()' la care am putut specifica forma pe care să o aibă astfel încât să putem fie să reproducem eroarea, fie să avem un rezultat corect. Ce facem însă în situația în care deja avem doi tensor?"
   ]
  },
  {
   "cell_type": "code",
   "execution_count": 15,
   "metadata": {},
   "outputs": [
    {
     "ename": "RuntimeError",
     "evalue": "mat1 and mat2 shapes cannot be multiplied (3x2 and 3x2)",
     "output_type": "error",
     "traceback": [
      "\u001b[0;31m---------------------------------------------------------------------------\u001b[0m",
      "\u001b[0;31mRuntimeError\u001b[0m                              Traceback (most recent call last)",
      "Cell \u001b[0;32mIn[15], line 1\u001b[0m\n\u001b[0;32m----> 1\u001b[0m torch\u001b[39m.\u001b[39;49mmatmul(tensor_A, tensor_B)\n",
      "\u001b[0;31mRuntimeError\u001b[0m: mat1 and mat2 shapes cannot be multiplied (3x2 and 3x2)"
     ]
    }
   ],
   "source": [
    "torch.matmul(tensor_A, tensor_B)"
   ]
  },
  {
   "attachments": {},
   "cell_type": "markdown",
   "metadata": {},
   "source": [
    "Cei doi tensori sunt deja creați și dorim să îi multiplicăm, dar valorile de la **inner dimensions** nu corespund. Pentru a rezolva această problemă există conceptul de `transpose`. Prin acest concept putem să modificăm axele (forma) unui tensor. Dintr-un tensor ce are forma (3, 2), dacă utilizâm conceptul de **transpose** putem să îl transformăm într-un tensor de forma (2, 3). Pentru a realiza asta, trebuie doar să apelăm atributul `.T` pentru tensor-ul asupra căruia dorim să facem transpose"
   ]
  },
  {
   "cell_type": "code",
   "execution_count": 16,
   "metadata": {},
   "outputs": [
    {
     "data": {
      "text/plain": [
       "tensor([[ 7,  8,  9],\n",
       "        [10, 11, 12]])"
      ]
     },
     "execution_count": 16,
     "metadata": {},
     "output_type": "execute_result"
    }
   ],
   "source": [
    "tensor_B.T"
   ]
  },
  {
   "attachments": {},
   "cell_type": "markdown",
   "metadata": {},
   "source": [
    "Atunci când facem transpose la un tensor, acesta nu își pierde din date, ci doar pur și simplu datele sunt rearanjate în altă formă. Acum la comanda de **torch.matmul()** să îi oferim ca și al doilea parametru acest tensor pe care l-am transpus"
   ]
  },
  {
   "cell_type": "code",
   "execution_count": 18,
   "metadata": {},
   "outputs": [
    {
     "data": {
      "text/plain": [
       "tensor([[ 27,  30,  33],\n",
       "        [ 61,  68,  75],\n",
       "        [ 95, 106, 117]])"
      ]
     },
     "execution_count": 18,
     "metadata": {},
     "output_type": "execute_result"
    }
   ],
   "source": [
    "torch.matmul(tensor_A, tensor_B.T)"
   ]
  },
  {
   "attachments": {},
   "cell_type": "markdown",
   "metadata": {},
   "source": [
    "Ca să vedem și mai bine de ce o comandă a mers și una nu, o să accesăm shape-ul acestor tensori"
   ]
  },
  {
   "cell_type": "code",
   "execution_count": 20,
   "metadata": {},
   "outputs": [
    {
     "name": "stdout",
     "output_type": "stream",
     "text": [
      "Shape of tensor_A: torch.Size([3, 2])\n",
      "Shape of tensor_B: torch.Size([3, 2])\n",
      "torch.Size([3, 2]) torch.Size([3, 2])\n"
     ]
    }
   ],
   "source": [
    "print(f'Shape of tensor_A: {tensor_A.shape}')\n",
    "print(f'Shape of tensor_B: {tensor_B.shape}')\n",
    "print(tensor_A.shape, tensor_B.shape)"
   ]
  },
  {
   "attachments": {},
   "cell_type": "markdown",
   "metadata": {},
   "source": [
    "Deoarece acești doi tensori nu au acceași valoare la **inner dimension** nu putem să îi multiplicăm"
   ]
  },
  {
   "cell_type": "code",
   "execution_count": 21,
   "metadata": {},
   "outputs": [
    {
     "name": "stdout",
     "output_type": "stream",
     "text": [
      "Shape of tensor_A: torch.Size([3, 2])\n",
      "Shape of tensor_B.T: torch.Size([2, 3])\n",
      "torch.Size([3, 2]) torch.Size([2, 3])\n"
     ]
    }
   ],
   "source": [
    "print(f'Shape of tensor_A: {tensor_A.shape}')\n",
    "print(f'Shape of tensor_B.T: {tensor_B.T.shape}')\n",
    "print(tensor_A.shape, tensor_B.T.shape)"
   ]
  },
  {
   "attachments": {},
   "cell_type": "markdown",
   "metadata": {},
   "source": [
    "Acum că am făcut transpose la tensor_B, valorile de la **inner dimensions** corespund, prin urmare putem realizăm multiplicarea între acești doi tensori"
   ]
  },
  {
   "attachments": {},
   "cell_type": "markdown",
   "metadata": {},
   "source": [
    "## Recapitulare"
   ]
  },
  {
   "attachments": {},
   "cell_type": "markdown",
   "metadata": {},
   "source": [
    "În cadrul acestei secțiuni am învățat:\n",
    "\n",
    "1. Ce se întâmplă atunci când realizăm multiplicare între doi tensori de tip vector cu aceeași dimensiune\n",
    "\n",
    "    Valorile sunt multiplicate sub forma 'element-wise'\n",
    "\n",
    "    tensor1 = [1, 2, 3], tensor2 = [2, 3, 4]\n",
    "\n",
    "    - 1 * 2 = 2\n",
    "\n",
    "    - 2 * 3 = 6\n",
    "\n",
    "    - 3 * 4 = 12\n",
    "\n",
    "    tensor_final = ([2, 6, 12])\n",
    "\n",
    "2. Cum putem să folosim Matrix Multiplication cu PyTorch\n",
    "\n",
    "    ```python\n",
    "    import torch\n",
    "\n",
    "    tensor1 = torch.tensor([1, 2, 3])\n",
    "    tensor2 = torch.tensor([2, 3, 4])\n",
    "\n",
    "    tensor_final = torch.matmul(tensor1, tensor2)\n",
    "    ```\n",
    "\n",
    "3. Cum funcționează conceptul de Matrix Multiplication\n",
    "\n",
    "    - 1 * 2 = 2\n",
    "\n",
    "    - 2 * 3 = 6\n",
    "\n",
    "    - 3 * 4 = 12\n",
    "\n",
    "    2 + 6 + 12 = 20\n",
    "\n",
    "    tensor_final = ([20])\n",
    "\n",
    "4. Care sunt cele două reguli pentru Matrix Multiplication\n",
    "\n",
    "    a. **inner dimesions** de la cei doi tensor trebuie să fie la fel\n",
    "\n",
    "    - tensor([3, 2]) @ tensor([3, 2]) # o să rezulte într-o eroare\n",
    "\n",
    "    - tensor([3, 2]) @ tensor([2, 3]) # o să funcționeze\n",
    "\n",
    "    b. Tensorul de tip matrice ce rezultă o să aibă forma de  la **outer dimensions**\n",
    "\n",
    "5. Cum putem să facem transpose la un tensor pentru a îi modifica shape-ul\n",
    "\n",
    "    ```python\n",
    "    import torch\n",
    "\n",
    "    tensor = torch.rand(size=3, 2)\n",
    "    # tensor has the shape (3, 2)\n",
    "\n",
    "    tranpose_tensor = tensor.T\n",
    "    # transpose_tensor has the shape (2, 3) and the same values\n",
    "    ```"
   ]
  }
 ],
 "metadata": {
  "kernelspec": {
   "display_name": "venv",
   "language": "python",
   "name": "python3"
  },
  "language_info": {
   "codemirror_mode": {
    "name": "ipython",
    "version": 3
   },
   "file_extension": ".py",
   "mimetype": "text/x-python",
   "name": "python",
   "nbconvert_exporter": "python",
   "pygments_lexer": "ipython3",
   "version": "3.9.12"
  },
  "orig_nbformat": 4
 },
 "nbformat": 4,
 "nbformat_minor": 2
}
