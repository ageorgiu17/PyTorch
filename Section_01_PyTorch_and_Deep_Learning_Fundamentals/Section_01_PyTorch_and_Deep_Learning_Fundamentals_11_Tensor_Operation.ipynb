{
 "cells": [
  {
   "attachments": {},
   "cell_type": "markdown",
   "metadata": {},
   "source": [
    "# Tensors Operations"
   ]
  },
  {
   "attachments": {},
   "cell_type": "markdown",
   "metadata": {},
   "source": [
    "În lecția precedentă am învățat cum amune putem să specificăm tipul de date atunic când creem un tensor, cum să modificăm tipul de date dintr-un tensor existent, care este metoda (parametrii utilizați) cea mai des utilizată de a crea tensori și care sunt atributele care ne ajutăm să aflăm informații utile despre tensor (informații care pot să ne ajute la depistarea erorilor). O să facem o scurtă recapitulare a acestor noțiuni."
   ]
  },
  {
   "cell_type": "code",
   "execution_count": 5,
   "metadata": {},
   "outputs": [
    {
     "name": "stdout",
     "output_type": "stream",
     "text": [
      "tensor([[0.1050, 0.4912, 0.4097, 0.7607, 0.4731],\n",
      "        [0.2891, 0.7427, 0.8770, 0.7612, 0.4912],\n",
      "        [0.5508, 0.0771, 0.6006, 0.6616, 0.4951]], dtype=torch.float16)\n",
      "random_tensor datatype: torch.float16\n",
      "random_tensor_32 datatype: torch.float32\n",
      "random_tensor: \n",
      "tensor([[0.1050, 0.4912, 0.4097, 0.7607, 0.4731],\n",
      "        [0.2891, 0.7427, 0.8770, 0.7612, 0.4912],\n",
      "        [0.5508, 0.0771, 0.6006, 0.6616, 0.4951]], dtype=torch.float16)\n",
      "random_tensor_32: \n",
      "tensor([[0.1050, 0.4912, 0.4097, 0.7607, 0.4731],\n",
      "        [0.2891, 0.7427, 0.8770, 0.7612, 0.4912],\n",
      "        [0.5508, 0.0771, 0.6006, 0.6616, 0.4951]])\n"
     ]
    }
   ],
   "source": [
    "# import PyTorch\n",
    "import torch\n",
    "\n",
    "# creating a random tensor with float16 as datatype\n",
    "random_tensor = torch.rand(size=(3, 5), dtype=torch.float16)\n",
    "print(random_tensor)\n",
    "\n",
    "# printing the datatype stored by the tensor\n",
    "print(f'random_tensor datatype: {random_tensor.dtype}')\n",
    "\n",
    "# converting the datatype from float16 to float32\n",
    "random_tensor_32 = random_tensor.type(torch.float32)\n",
    "\n",
    "# printing the datatype stored by the new tensor\n",
    "print(f'random_tensor_32 datatype: {random_tensor_32.dtype}')\n",
    "\n",
    "# printing the tensor to see if they have the same values\n",
    "print(f'random_tensor: \\n{random_tensor}')\n",
    "print(f'random_tensor_32: \\n{random_tensor_32}')\n",
    "\n",
    "# the most used way to create tensor\n",
    "new_tensor = torch.tensor([3.0, 6.0, 9.0], dtype=torch.float16, device=None, requires_grad=False)\n"
   ]
  },
  {
   "attachments": {},
   "cell_type": "markdown",
   "metadata": {},
   "source": [
    "În lecția curentă o să vedem cum putem să facem anumite operații cu tensor, iar operațiile care pot fi realizate cu tensori sunt următoarele:\n",
    "\n",
    "1. Adunare (Addition)\n",
    "\n",
    "2. Scădere (Substraction)\n",
    "\n",
    "3. Înmulțire per element (Multiplication element-wise)\n",
    "\n",
    "4. Împărțire (Division)\n",
    "\n",
    "5. Înmulțire de matrici (Matrix Multiplication)"
   ]
  },
  {
   "attachments": {},
   "cell_type": "markdown",
   "metadata": {},
   "source": [
    "O să trecem pe rând prin fiecare ca să observăm comportamentul. Putem să utilizăm semnele aritmetice pentru astfel de operații, dar PyTorch ne pune la dispoziție și o serie de funcții speciale prin care putem să facem asta. Pentru început să creem un tensor și să folosim operațiile simple cu semnele aritmetice"
   ]
  },
  {
   "cell_type": "code",
   "execution_count": 6,
   "metadata": {},
   "outputs": [],
   "source": [
    "# creating a tensor\n",
    "tensor = torch.tensor([1, 2, 3])"
   ]
  },
  {
   "cell_type": "code",
   "execution_count": 7,
   "metadata": {},
   "outputs": [
    {
     "data": {
      "text/plain": [
       "tensor([11, 12, 13])"
      ]
     },
     "execution_count": 7,
     "metadata": {},
     "output_type": "execute_result"
    }
   ],
   "source": [
    "# addition of a tensor\n",
    "tensor + 10"
   ]
  },
  {
   "attachments": {},
   "cell_type": "markdown",
   "metadata": {},
   "source": [
    "Dacă avem un tensor (care conține mai multe elemente) și se realizează o operație aritmetică cu o singură valoare cu acel tensor, atunci fiecare element din cadrul acelui tensor o să treacă prin operație aritmetică cu valoarea respectivă. Inițial am avut un tensor cu valorile 1, 2 și 3, iar după ce am adunat valoarea 10 pentru acest tensor, fiecare element din acesta a fost adunat cu 10, prin urmare la final avem valorile 11, 12 și 12. La fel se întâmplă cu fiecare operație aritmetică"
   ]
  },
  {
   "cell_type": "code",
   "execution_count": 8,
   "metadata": {},
   "outputs": [
    {
     "data": {
      "text/plain": [
       "tensor([-9, -8, -7])"
      ]
     },
     "execution_count": 8,
     "metadata": {},
     "output_type": "execute_result"
    }
   ],
   "source": [
    "# substraction of a tensor\n",
    "tensor - 10"
   ]
  },
  {
   "cell_type": "code",
   "execution_count": 9,
   "metadata": {},
   "outputs": [
    {
     "data": {
      "text/plain": [
       "tensor([10, 20, 30])"
      ]
     },
     "execution_count": 9,
     "metadata": {},
     "output_type": "execute_result"
    }
   ],
   "source": [
    "# multiplication of a tensor\n",
    "tensor * 10"
   ]
  },
  {
   "cell_type": "code",
   "execution_count": 10,
   "metadata": {},
   "outputs": [
    {
     "data": {
      "text/plain": [
       "tensor([0.1000, 0.2000, 0.3000])"
      ]
     },
     "execution_count": 10,
     "metadata": {},
     "output_type": "execute_result"
    }
   ],
   "source": [
    "# division of a tensor\n",
    "tensor / 10"
   ]
  },
  {
   "attachments": {},
   "cell_type": "markdown",
   "metadata": {},
   "source": [
    "După cum spuneam, PyTorch ne pune la dispoziție și o serie de metode speciale prin care putem să facem aceste operații.\n",
    "\n",
    "- Addition = `torch.add()`\n",
    "\n",
    "- Substraction = `torch.sub()`\n",
    "\n",
    "- Multiplication = `torch.mul()`\n",
    "\n",
    "- Division = `torch.div()`"
   ]
  },
  {
   "attachments": {},
   "cell_type": "markdown",
   "metadata": {},
   "source": [
    "Aceste metode iau ca și prim parametru tensor-ul asupra căruia dorim să facem aceste operații, iar ca și a doua valoare o să ia valoarea cu care dorim să realizăm această operație aritmetică"
   ]
  },
  {
   "cell_type": "code",
   "execution_count": 16,
   "metadata": {},
   "outputs": [
    {
     "name": "stdout",
     "output_type": "stream",
     "text": [
      "Addition using torch.add(): tensor([11, 12, 13])\n",
      "Substraction using torch.sub(): tensor([-9, -8, -7])\n",
      "Multiplication using torch.mul(): tensor([10, 20, 30])\n",
      "Division using torch.div(): tensor([0.1000, 0.2000, 0.3000])\n"
     ]
    }
   ],
   "source": [
    "# addition\n",
    "print(f'Addition using torch.add(): {torch.add(tensor, 10)}')\n",
    "\n",
    "# substraction\n",
    "print(f'Substraction using torch.sub(): {torch.sub(tensor, 10)}')\n",
    "\n",
    "# Multiplication\n",
    "print(f'Multiplication using torch.mul(): {torch.mul(tensor, 10)}')\n",
    "\n",
    "# Division\n",
    "print(f'Division using torch.div(): {torch.div(tensor, 10)}')"
   ]
  },
  {
   "attachments": {},
   "cell_type": "markdown",
   "metadata": {},
   "source": [
    "Atunci când creem o rețea neuronală, aceste tipuri de operații apar destul de des între tensorii cu care se lucrează, de aceea este bine să știm cum funcționează. Cea mai comună operație însă între tensori este cea de 'Matrix Multiplication', care reprezintă și un complex puțin mai complicat și o să ne ocupăm de el în următoarea parte"
   ]
  },
  {
   "attachments": {},
   "cell_type": "markdown",
   "metadata": {},
   "source": [
    "## Recapitulare"
   ]
  },
  {
   "attachments": {},
   "cell_type": "markdown",
   "metadata": {},
   "source": [
    "În cadrul acestei secțiuni am învățat următoarele:\n",
    "\n",
    "1. Cum funcționează partea de operații matematice cu tensori și cum putem să le realizăm\n",
    "\n",
    "    - Addition\n",
    "\n",
    "    ```python\n",
    "    import torch\n",
    "\n",
    "    tensor = torch.tensor(1, 2, 3)\n",
    "    tensor + 10\n",
    "    torch.add(tensor, 10)\n",
    "    ```\n",
    "\n",
    "    - Substraction\n",
    "    ```python\n",
    "    import torch\n",
    "\n",
    "    tensor = torch.tensor(1, 2, 3)\n",
    "    tensor - 10\n",
    "    torch.sub(tensor, 10)\n",
    "    ```\n",
    "\n",
    "    - Multiplication\n",
    "    ```python\n",
    "    import torch\n",
    "\n",
    "    tensor = torch.tensor(1, 2, 3)\n",
    "    tensor * 10\n",
    "    torch.mul(tensor, 10)\n",
    "    ```\n",
    "\n",
    "    - Division\n",
    "    ```python\n",
    "    import torch\n",
    "\n",
    "    tensor = torch.tensor(1, 2, 3)\n",
    "    tensor / 10\n",
    "    torch.div(tensor, 10)\n",
    "    ```"
   ]
  },
  {
   "cell_type": "markdown",
   "metadata": {},
   "source": []
  }
 ],
 "metadata": {
  "kernelspec": {
   "display_name": "venv",
   "language": "python",
   "name": "python3"
  },
  "language_info": {
   "codemirror_mode": {
    "name": "ipython",
    "version": 3
   },
   "file_extension": ".py",
   "mimetype": "text/x-python",
   "name": "python",
   "nbconvert_exporter": "python",
   "pygments_lexer": "ipython3",
   "version": "3.9.12"
  },
  "orig_nbformat": 4
 },
 "nbformat": 4,
 "nbformat_minor": 2
}
