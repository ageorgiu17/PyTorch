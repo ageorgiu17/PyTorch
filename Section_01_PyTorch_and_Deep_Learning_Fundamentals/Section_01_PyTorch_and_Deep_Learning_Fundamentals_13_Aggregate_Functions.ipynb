{
 "cells": [
  {
   "attachments": {},
   "cell_type": "markdown",
   "metadata": {},
   "source": [
    "# Aggregate Functions"
   ]
  },
  {
   "attachments": {},
   "cell_type": "markdown",
   "metadata": {},
   "source": [
    "În partea precedentă am învățat cum să realizăm una dintre cele mai comune operații din Deep Learning, și anume **Matrix Multiplicatio**. O să facem o scurtă recapitulare să vedem cum anumte putem să facem acestă operație"
   ]
  },
  {
   "cell_type": "code",
   "execution_count": 2,
   "metadata": {},
   "outputs": [
    {
     "name": "stdout",
     "output_type": "stream",
     "text": [
      "tensor1 @ tensor2\n",
      "tensor([[0.9800, 0.9051, 0.7673],\n",
      "        [0.6939, 0.5845, 0.5541],\n",
      "        [0.9509, 0.8160, 0.7564]])\n",
      "tensor1 @ tensor3 will raise an error. We need to transpose one of the tensors\n",
      "Shape of tensor3 = torch.Size([3, 2])\n",
      "Shape of tensor3 transposed = torch.Size([2, 3])\n"
     ]
    }
   ],
   "source": [
    "# importing PyTorch\n",
    "import torch\n",
    "\n",
    "# creating two tensors\n",
    "tensor1 = torch.rand(size=(3, 2))\n",
    "tensor2 = torch.rand(size=(2, 3))\n",
    "\n",
    "# matrix multiplication\n",
    "print(f'tensor1 @ tensor2')\n",
    "print(torch.matmul(tensor1, tensor2))\n",
    "\n",
    "# Rules of Matrix Multiplication\n",
    "# inner dimensions must be the same for Matrix Multiplication\n",
    "# the result tensor will have the shape of the outer dimensions\n",
    "\n",
    "# transpose a tensor\n",
    "tensor3 = torch.rand(size=(3, 2))\n",
    "print('tensor1 @ tensor3 will raise an error. We need to transpose one of the tensors')\n",
    "\n",
    "# transposing tensor3\n",
    "print(f'Shape of tensor3 = {tensor3.shape}')\n",
    "print(f'Shape of tensor3 transposed = {tensor3.T.shape}')"
   ]
  },
  {
   "attachments": {},
   "cell_type": "markdown",
   "metadata": {},
   "source": [
    "În continuare o să aruncăm o privire peste `Aggregate Function`, iar aici ne referim la metodele prin care putem să extragem dintr-un tensor valoarea cea mai mare, cea mai mică, media valorilor, suma valorilor din tensori sau index-ul pe care se găsește cea mai mare și cea mai mică valoare. Funcțiile respecive sunt sugestive cu numele pe care le au (max, găsește valoarea cea mai mare, mean ne face media valorilor, sum ne calculează suma valorilor din tensor) și există două modalități de a le apela, fie utilizând tensor-ul, fie utilizând librăria torch, iar sintaxa este:\n",
    "\n",
    "- `torch.max(tensor)`\n",
    "\n",
    "- `tensor.max()`"
   ]
  },
  {
   "attachments": {},
   "cell_type": "markdown",
   "metadata": {},
   "source": [
    "În continuare o să creem un tensor și o să apelăm toate aceste funcții"
   ]
  },
  {
   "cell_type": "code",
   "execution_count": 7,
   "metadata": {},
   "outputs": [],
   "source": [
    "# creating a range tensor\n",
    "tensor = torch.arange(1, 100, 10)"
   ]
  },
  {
   "cell_type": "code",
   "execution_count": 8,
   "metadata": {},
   "outputs": [
    {
     "data": {
      "text/plain": [
       "tensor([ 1, 11, 21, 31, 41, 51, 61, 71, 81, 91])"
      ]
     },
     "execution_count": 8,
     "metadata": {},
     "output_type": "execute_result"
    }
   ],
   "source": [
    "tensor"
   ]
  },
  {
   "cell_type": "code",
   "execution_count": 9,
   "metadata": {},
   "outputs": [
    {
     "name": "stdout",
     "output_type": "stream",
     "text": [
      "tensor(91)\n",
      "tensor(91)\n"
     ]
    }
   ],
   "source": [
    "# Finding the max value from a tensor\n",
    "print(torch.max(tensor))\n",
    "print(tensor.max())"
   ]
  },
  {
   "attachments": {},
   "cell_type": "markdown",
   "metadata": {},
   "source": [
    "Deși am folosit metodele apelate diferti, ambele returnează aceeași valoare. Varianta pe care o alegem este la latitudinea noastră"
   ]
  },
  {
   "cell_type": "code",
   "execution_count": 10,
   "metadata": {},
   "outputs": [
    {
     "name": "stdout",
     "output_type": "stream",
     "text": [
      "tensor(1)\n",
      "tensor(1)\n"
     ]
    }
   ],
   "source": [
    "# Finding the smallest value from a tensor\n",
    "print(torch.min(tensor))\n",
    "print(tensor.min())"
   ]
  },
  {
   "cell_type": "code",
   "execution_count": 11,
   "metadata": {},
   "outputs": [
    {
     "ename": "RuntimeError",
     "evalue": "mean(): could not infer output dtype. Input dtype must be either a floating point or complex dtype. Got: Long",
     "output_type": "error",
     "traceback": [
      "\u001b[0;31m---------------------------------------------------------------------------\u001b[0m",
      "\u001b[0;31mRuntimeError\u001b[0m                              Traceback (most recent call last)",
      "Cell \u001b[0;32mIn[11], line 2\u001b[0m\n\u001b[1;32m      1\u001b[0m \u001b[39m# Finding the mean value from a tensor\u001b[39;00m\n\u001b[0;32m----> 2\u001b[0m \u001b[39mprint\u001b[39m(torch\u001b[39m.\u001b[39;49mmean(tensor))\n\u001b[1;32m      3\u001b[0m \u001b[39mprint\u001b[39m(tensor\u001b[39m.\u001b[39mmean())\n",
      "\u001b[0;31mRuntimeError\u001b[0m: mean(): could not infer output dtype. Input dtype must be either a floating point or complex dtype. Got: Long"
     ]
    }
   ],
   "source": [
    "# Finding the mean value from a tensor\n",
    "print(torch.mean(tensor))\n",
    "print(tensor.mean())"
   ]
  },
  {
   "attachments": {},
   "cell_type": "markdown",
   "metadata": {},
   "source": [
    "Într-o anumită lecție spuneam că una dintre cele mai dese erori din PyTorch și Deep Learning ține de tipul de date pe care îl are un tensor, eroarea de mai sus la asta se referă. Metoda **mean()** are nevoie de un tip de date 'floating' sau 'complex' pentru a putea realiza această operațiune"
   ]
  },
  {
   "cell_type": "code",
   "execution_count": 12,
   "metadata": {},
   "outputs": [
    {
     "data": {
      "text/plain": [
       "torch.int64"
      ]
     },
     "execution_count": 12,
     "metadata": {},
     "output_type": "execute_result"
    }
   ],
   "source": [
    "tensor.dtype"
   ]
  },
  {
   "attachments": {},
   "cell_type": "markdown",
   "metadata": {},
   "source": [
    "Tipul de date care este prezent în tensor este 'torch.int64'. Acest tip de date trebuie să îl convertim în float32 pentru a putea apela metoda mean pe acest tensor"
   ]
  },
  {
   "cell_type": "code",
   "execution_count": 14,
   "metadata": {},
   "outputs": [
    {
     "name": "stdout",
     "output_type": "stream",
     "text": [
      "tensor(46.)\n",
      "tensor(46.)\n"
     ]
    }
   ],
   "source": [
    "# finding the mean value from a tensor using the correct datatype\n",
    "print(torch.mean(tensor.type(torch.float32)))\n",
    "print(tensor.type(torch.float32).mean())"
   ]
  },
  {
   "cell_type": "code",
   "execution_count": 15,
   "metadata": {},
   "outputs": [
    {
     "name": "stdout",
     "output_type": "stream",
     "text": [
      "tensor(460)\n",
      "tensor(460)\n"
     ]
    }
   ],
   "source": [
    "# finding the sum of a tensor values\n",
    "print(torch.sum(tensor))\n",
    "print(tensor.sum())"
   ]
  },
  {
   "attachments": {},
   "cell_type": "markdown",
   "metadata": {},
   "source": [
    "Alte funcții de agregare ce ne-ar putea ajuta reprezintă cele prin care afișăm index-ul pe care see găsește cea mai mică sau cea mai mare valoare dintr-un tensor. Metodele respective poartă aceeași denumire precum în NumPy, și anumea cea pentru a afla index-ul valorii celei mai mari se numește `argmax()`, iar pentru valoarea cea mai mică, `argmin()`"
   ]
  },
  {
   "cell_type": "code",
   "execution_count": 16,
   "metadata": {},
   "outputs": [
    {
     "name": "stdout",
     "output_type": "stream",
     "text": [
      "tensor(9)\n",
      "tensor(9)\n"
     ]
    }
   ],
   "source": [
    "# finding the index of the max value from a tensor\n",
    "print(torch.argmax(tensor))\n",
    "print(tensor.argmax())"
   ]
  },
  {
   "cell_type": "code",
   "execution_count": 17,
   "metadata": {},
   "outputs": [
    {
     "name": "stdout",
     "output_type": "stream",
     "text": [
      "tensor(0)\n",
      "tensor(0)\n"
     ]
    }
   ],
   "source": [
    "# finding the index of the smallest value from a tensor\n",
    "print(torch.argmin(tensor))\n",
    "print(tensor.argmin())"
   ]
  },
  {
   "cell_type": "markdown",
   "metadata": {},
   "source": [
    "# Recapitulare"
   ]
  },
  {
   "attachments": {},
   "cell_type": "markdown",
   "metadata": {},
   "source": [
    "În cadrul acestei lecții am învățat:\n",
    "\n",
    "1.  Cum să apelăm metodele de agregare\n",
    "```python\n",
    "import torch\n",
    "\n",
    "tensor = torch.arange(0, 100, 10)\n",
    "\n",
    "# finding the max\n",
    "torch.max(tensor)\n",
    "tensor.max()\n",
    "\n",
    "# finding the index of max\n",
    "torch.argmax(tensor)\n",
    "tensor.argmax()\n",
    "\n",
    "# finding the min\n",
    "torch.min(tensor)\n",
    "tensor.min()\n",
    "\n",
    "# finding the index of min\n",
    "torch.argmin(tensor)\n",
    "tensor.argmin()\n",
    "\n",
    "# finding the sum of a tensor\n",
    "torch.sum(tensor)\n",
    "tensor.sum()\n",
    "\n",
    "```\n",
    "\n",
    "2. Metoda  **mean()** are nevoie să i se ofere ca și input un tensor cu datatype de tipul float32\n",
    "\n",
    "```python\n",
    "import torch\n",
    "\n",
    "# creating a tensor with torch.int64 datatype\n",
    "tensor = torch.arange(0, 100, 10)\n",
    "\n",
    "# finding the mean of tensor\n",
    "torch.mean(tensor.type(torch.float32))\n",
    "tensor.type(torch.float32).mean()\n",
    "```\n",
    "\n"
   ]
  },
  {
   "cell_type": "markdown",
   "metadata": {},
   "source": []
  }
 ],
 "metadata": {
  "kernelspec": {
   "display_name": "venv",
   "language": "python",
   "name": "python3"
  },
  "language_info": {
   "codemirror_mode": {
    "name": "ipython",
    "version": 3
   },
   "file_extension": ".py",
   "mimetype": "text/x-python",
   "name": "python",
   "nbconvert_exporter": "python",
   "pygments_lexer": "ipython3",
   "version": "3.9.12"
  },
  "orig_nbformat": 4
 },
 "nbformat": 4,
 "nbformat_minor": 2
}
