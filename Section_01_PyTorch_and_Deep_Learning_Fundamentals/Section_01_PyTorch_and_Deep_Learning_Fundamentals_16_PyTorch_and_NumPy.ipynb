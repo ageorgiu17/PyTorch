{
 "cells": [
  {
   "attachments": {},
   "cell_type": "markdown",
   "metadata": {},
   "source": [
    "# PyTorch and NumPy"
   ]
  },
  {
   "attachments": {},
   "cell_type": "markdown",
   "metadata": {},
   "source": [
    "În lecția precedentă am parcurs procedeul de indexare din tensori. Acest procedeu este asemănător ca și cel cu indexare din NumPy pentru un array de mai multe dimensiuni. Recapitulare:"
   ]
  },
  {
   "cell_type": "code",
   "execution_count": 3,
   "metadata": {},
   "outputs": [
    {
     "name": "stdout",
     "output_type": "stream",
     "text": [
      "tensor([[[1, 2, 3],\n",
      "         [4, 5, 6],\n",
      "         [7, 8, 9]]])\n",
      "----------Python Style---------\n",
      "\n",
      "Indexing the 0th dimension: tensor[0]\n",
      "tensor([[1, 2, 3],\n",
      "        [4, 5, 6],\n",
      "        [7, 8, 9]])\n",
      "\n",
      "Indexing the 1st dimension: tensor[0][0]\n",
      "tensor([1, 2, 3])\n",
      "\n",
      "Indexing the 2nd dimension: tensor[0][0][2]\n",
      "tensor(3)\n",
      "---------NumPy Style----------\n",
      "\n",
      "Indexing the 0th dimension: tensor[0]\n",
      "tensor([[1, 2, 3],\n",
      "        [4, 5, 6],\n",
      "        [7, 8, 9]])\n",
      "\n",
      "Indexing the 1st dimension: tensor[0, 0]\n",
      "tensor([1, 2, 3])\n",
      "\n",
      "Indexing the 2nd dimension: tensor[0, 0, 2]\n",
      "tensor(3)\n",
      "---------Using Slicing----------\n",
      "\n",
      "Indexing: tensor[:, : 2]\n",
      "tensor([[3, 6, 9]])\n"
     ]
    }
   ],
   "source": [
    "# importing the library\n",
    "import torch\n",
    "\n",
    "# creating a tensor\n",
    "tensor = torch.arange(1, 10).reshape(1, 3, 3)\n",
    "print(tensor)\n",
    "\n",
    "print('----------Python Style---------')\n",
    "# indedxing on the 0th dimension\n",
    "print(f'\\nIndexing the 0th dimension: tensor[0]')\n",
    "print(tensor[0])\n",
    "\n",
    "# indedxing on the 1st dimension\n",
    "print(f'\\nIndexing the 1st dimension: tensor[0][0]')\n",
    "print(tensor[0][0])\n",
    "\n",
    "# indedxing on the 2nd dimension\n",
    "print(f'\\nIndexing the 2nd dimension: tensor[0][0][2]')\n",
    "print(tensor[0][0][2])\n",
    "\n",
    "print('---------NumPy Style----------')\n",
    "# indedxing on the 0th dimension\n",
    "print(f'\\nIndexing the 0th dimension: tensor[0]')\n",
    "print(tensor[0])\n",
    "\n",
    "# indedxing on the 1st dimension\n",
    "print(f'\\nIndexing the 1st dimension: tensor[0, 0]')\n",
    "print(tensor[0, 0])\n",
    "\n",
    "# indedxing on the 2nd dimension\n",
    "print(f'\\nIndexing the 2nd dimension: tensor[0, 0, 2]')\n",
    "print(tensor[0, 0, 2])\n",
    "\n",
    "print('---------Using Slicing----------')\n",
    "# indedxing on the 0th dimension\n",
    "print(f'\\nIndexing: tensor[:, : 2]')\n",
    "print(tensor[:, :, 2])\n",
    "\n"
   ]
  },
  {
   "attachments": {},
   "cell_type": "markdown",
   "metadata": {},
   "source": [
    "În cadrul lecției curente o să ne utiăm peste modul cum funcționează PyTorch cu NumPy. NumPy este o librărie extrem de populară din Python care se ocupă cu operații numerice extrem de rapid. Din moment ce este o librărie super populară și are o mulțime de funcționabilități, PyTorch are anumite funcționalități prin care să interacționeze cu această librărie. De foarte multe ori este posibil să avem un set de date în formatul `numpy.ndarray` și să avem nevoie să îl transoformăm în `torch.tensor`. Există și situația inversă, unde dorim să transformăm dintr-un tensor în array un anumit set de date. Pentru fiecare dintre aceste situații există câte o rezolvare"
   ]
  },
  {
   "attachments": {},
   "cell_type": "markdown",
   "metadata": {},
   "source": [
    "În prima situație, cea în care dorim să transformăm din **numpy.ndarray** în **torch.tensor** avem la dispoziție metoda `torch.from_numpy()`, metodă care ia ca și argument un array de tip ndarray din NumPy. O să creem un array în NumPy și o să îl convertim într-un tensor"
   ]
  },
  {
   "cell_type": "code",
   "execution_count": 11,
   "metadata": {},
   "outputs": [],
   "source": [
    "# importing the libraries\n",
    "import torch\n",
    "import numpy as np\n",
    "\n",
    "# creating a NumPy ndarray\n",
    "arr = np.arange(0., 10.)"
   ]
  },
  {
   "cell_type": "code",
   "execution_count": 12,
   "metadata": {},
   "outputs": [
    {
     "data": {
      "text/plain": [
       "array([0., 1., 2., 3., 4., 5., 6., 7., 8., 9.])"
      ]
     },
     "execution_count": 12,
     "metadata": {},
     "output_type": "execute_result"
    }
   ],
   "source": [
    "arr"
   ]
  },
  {
   "cell_type": "code",
   "execution_count": 13,
   "metadata": {},
   "outputs": [
    {
     "data": {
      "text/plain": [
       "numpy.ndarray"
      ]
     },
     "execution_count": 13,
     "metadata": {},
     "output_type": "execute_result"
    }
   ],
   "source": [
    "type(arr)"
   ]
  },
  {
   "attachments": {},
   "cell_type": "markdown",
   "metadata": {},
   "source": [
    "Mai sus avem un array din NumPy pe care dorim să îl convertim într-un tensor din PyTorch. Pentru asta, după cum spuneam putem să folosim metoda **torch.from_numpy()**"
   ]
  },
  {
   "cell_type": "code",
   "execution_count": 14,
   "metadata": {},
   "outputs": [],
   "source": [
    "tensor = torch.from_numpy(arr)"
   ]
  },
  {
   "cell_type": "code",
   "execution_count": 15,
   "metadata": {},
   "outputs": [
    {
     "data": {
      "text/plain": [
       "tensor([0., 1., 2., 3., 4., 5., 6., 7., 8., 9.], dtype=torch.float64)"
      ]
     },
     "execution_count": 15,
     "metadata": {},
     "output_type": "execute_result"
    }
   ],
   "source": [
    "tensor"
   ]
  },
  {
   "cell_type": "code",
   "execution_count": 16,
   "metadata": {},
   "outputs": [
    {
     "data": {
      "text/plain": [
       "torch.Tensor"
      ]
     },
     "execution_count": 16,
     "metadata": {},
     "output_type": "execute_result"
    }
   ],
   "source": [
    "type(tensor)"
   ]
  },
  {
   "cell_type": "code",
   "execution_count": 18,
   "metadata": {},
   "outputs": [
    {
     "data": {
      "text/plain": [
       "(array([0., 1., 2., 3., 4., 5., 6., 7., 8., 9.]),\n",
       " tensor([0., 1., 2., 3., 4., 5., 6., 7., 8., 9.], dtype=torch.float64))"
      ]
     },
     "execution_count": 18,
     "metadata": {},
     "output_type": "execute_result"
    }
   ],
   "source": [
    "arr, tensor"
   ]
  },
  {
   "attachments": {},
   "cell_type": "markdown",
   "metadata": {},
   "source": [
    "Ceea ce putem observa după această transformare, întradevăr, datele s-au păstrat, dar tipul de date din tensor-ul creat este **float64**, tip de date care nu este ce default din PyTorch, deoarece știm că tipul de date default pentru un tensor este **float32**. Acest lucru apare deoarece tipul de date default stocat într-un array NumPy este **float64**, iar atunci când se convertește din NumPy ndarray în PyTorch tensor se preia și tipul de date din acel array. Dacă dorim putem să modificăm acest tip de date ca să fie cel standard în momentul în care facem transformarea"
   ]
  },
  {
   "cell_type": "code",
   "execution_count": 20,
   "metadata": {},
   "outputs": [
    {
     "name": "stdout",
     "output_type": "stream",
     "text": [
      "tensor([0., 1., 2., 3., 4., 5., 6., 7., 8., 9.]) torch.float32\n"
     ]
    }
   ],
   "source": [
    "print(torch.from_numpy(arr).type(torch.float32), torch.from_numpy(arr).type(torch.float32).dtype)"
   ]
  },
  {
   "attachments": {},
   "cell_type": "markdown",
   "metadata": {},
   "source": [
    "Acum o să ne uităm peste al doilea caz, atunci când dorim să transformăm un tensor în array din NumPy. Pentru acest caz asupra tensor-ului pe care dorim să îl transformăm o să aplicăm metoda '.numpy()' (`tensor.numpy()`). Această metodă o să returneze un array de tip **numpy.ndarray** cu aceleași date pe care le are tensor-ul respectiv"
   ]
  },
  {
   "cell_type": "code",
   "execution_count": 21,
   "metadata": {},
   "outputs": [
    {
     "data": {
      "text/plain": [
       "tensor([[1., 1., 1., 1., 1., 1., 1.]])"
      ]
     },
     "execution_count": 21,
     "metadata": {},
     "output_type": "execute_result"
    }
   ],
   "source": [
    "# creating a tensor\n",
    "tensor = torch.ones(1, 7)\n",
    "tensor"
   ]
  },
  {
   "cell_type": "code",
   "execution_count": 22,
   "metadata": {},
   "outputs": [
    {
     "data": {
      "text/plain": [
       "array([[1., 1., 1., 1., 1., 1., 1.]], dtype=float32)"
      ]
     },
     "execution_count": 22,
     "metadata": {},
     "output_type": "execute_result"
    }
   ],
   "source": [
    "arr = tensor.numpy()\n",
    "arr"
   ]
  },
  {
   "cell_type": "code",
   "execution_count": 23,
   "metadata": {},
   "outputs": [
    {
     "data": {
      "text/plain": [
       "(tensor([[1., 1., 1., 1., 1., 1., 1.]]),\n",
       " array([[1., 1., 1., 1., 1., 1., 1.]], dtype=float32))"
      ]
     },
     "execution_count": 23,
     "metadata": {},
     "output_type": "execute_result"
    }
   ],
   "source": [
    "tensor, arr"
   ]
  },
  {
   "attachments": {},
   "cell_type": "markdown",
   "metadata": {},
   "source": [
    "Din nou, putem observa că array-ul a preluat tipul de date standard din tensor. De asemenea, putem să convertim tipul de date pentru a fi standard cu cel din NumPy"
   ]
  },
  {
   "cell_type": "code",
   "execution_count": 24,
   "metadata": {},
   "outputs": [
    {
     "data": {
      "text/plain": [
       "array([[1., 1., 1., 1., 1., 1., 1.]])"
      ]
     },
     "execution_count": 24,
     "metadata": {},
     "output_type": "execute_result"
    }
   ],
   "source": [
    "tensor.type(torch.float64).numpy()"
   ]
  },
  {
   "attachments": {},
   "cell_type": "markdown",
   "metadata": {},
   "source": [
    "Aceste metode returnează noile tipuri de date, prin urmare acest rezultat ar trebui salvat într-o nouă variabilă. Variabilele respective nu împart același loc de memorie, prin urmare sunt independente una de alta, modificările făcute într-o vairabilă nu o să apară în alta."
   ]
  },
  {
   "attachments": {},
   "cell_type": "markdown",
   "metadata": {},
   "source": [
    "## Recapitualre"
   ]
  },
  {
   "attachments": {},
   "cell_type": "markdown",
   "metadata": {},
   "source": [
    "în lecția prezentă am învățat următoarele:\n",
    "\n",
    "1. Cum putem să transformăm un numpy.ndarray în torch.tensor\n",
    "\n",
    "```python\n",
    "\n",
    "import torch\n",
    "import numpy as np\n",
    "\n",
    "arr = np.arange(1., 10.)\n",
    "tensor = torch.from_numpy(arr)\n",
    "```\n",
    "\n",
    "2. Atunci când convertim din numpy.ndarray în torch.tensor se preia și tipul de date standard din array (float64 este tipul de date standard din NumPy)\n",
    "\n",
    "```python\n",
    "\n",
    "arr = np.arange(1., 10.)\n",
    "\n",
    "# changing the tensor type from float64 to float32\n",
    "tensor = torch.from_numpy(arr).type(torch.float32)\n",
    "```\n",
    "\n",
    "3. Cum putem să transformăm un torch.tensor în numpy.ndarray\n",
    "\n",
    "```python\n",
    "\n",
    "import torch\n",
    "import numpy as np\n",
    "\n",
    "tensor = torch.ones(1, 7)\n",
    "arr = tensor.numpy()\n",
    "```\n",
    "\n",
    "4. Atunci când convertim din torch.tensor în numpy.ndarray se preia și tipul de date standard din tensor (float32 este tipul de date standard din PyTorch)\n",
    "\n",
    "```python\n",
    "\n",
    "tensor = torch.ones(1, 7)\n",
    "\n",
    "# changing the ndarray type from float32 to float64\n",
    "arr = tensor.type(torch.float64).numpy()\n",
    "```"
   ]
  },
  {
   "cell_type": "markdown",
   "metadata": {},
   "source": []
  }
 ],
 "metadata": {
  "kernelspec": {
   "display_name": "venv",
   "language": "python",
   "name": "python3"
  },
  "language_info": {
   "codemirror_mode": {
    "name": "ipython",
    "version": 3
   },
   "file_extension": ".py",
   "mimetype": "text/x-python",
   "name": "python",
   "nbconvert_exporter": "python",
   "pygments_lexer": "ipython3",
   "version": "3.9.12"
  },
  "orig_nbformat": 4
 },
 "nbformat": 4,
 "nbformat_minor": 2
}
