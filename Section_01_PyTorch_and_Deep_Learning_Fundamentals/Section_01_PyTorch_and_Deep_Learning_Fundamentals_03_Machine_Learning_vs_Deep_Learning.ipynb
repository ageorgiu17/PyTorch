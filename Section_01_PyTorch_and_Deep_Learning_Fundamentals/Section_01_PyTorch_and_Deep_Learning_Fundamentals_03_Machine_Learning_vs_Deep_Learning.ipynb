{
 "cells": [
  {
   "attachments": {},
   "cell_type": "markdown",
   "metadata": {},
   "source": [
    "# Machine Learning vs Deep Learning"
   ]
  },
  {
   "attachments": {},
   "cell_type": "markdown",
   "metadata": {},
   "source": [
    "În mod normal, pentru Machine Learning (în stilul tradițional) dorim să folosim date structurate în rânduri și coloane. Aceasta este în mod tipic, nu este ceva sigur, putem să folosim și un model de Deep Learning pentru date structurate, trebuie să ne dăm seama dacă ar fi util sau nu (aici vedem faptul că Machine Learning și Deep Learning reprezintă mai mult o artă și o știință). Ca și idee de bază, un model de Deep Learning este mai potrivit pentru datele care nu sunt structurate, cum ar fi anumte texte, imagini sau fișiere audio, care nu au o structură (dar o să vedem că aceste date o să putem să le facem structurate folosind tensori). Din acest motiv, din faptul că aceste tipuri de date nu sunt structurate ar fi ideal să folosim o rețea neuronală"
   ]
  },
  {
   "attachments": {},
   "cell_type": "markdown",
   "metadata": {},
   "source": [
    "Care sunt diferitele tipuri de algoritmi din Machine Learning?\n",
    "\n",
    "- Random Forest\n",
    "\n",
    "- Gradient Boosted models\n",
    "\n",
    "- Naive Bayes\n",
    "\n",
    "- Nearest Neighbors\n",
    "\n",
    "- Support Vector Machines"
   ]
  },
  {
   "attachments": {},
   "cell_type": "markdown",
   "metadata": {},
   "source": [
    "Care sunt diferitele tipuri de algoritmi din Deep Learning?\n",
    "\n",
    "- Neural Network\n",
    "\n",
    "- Fully Connected Neural Network\n",
    "\n",
    "- Convolutional Neural Network\n",
    "\n",
    "- Recurrent Neural Network\n",
    "\n",
    "- Transformers\n",
    "\n",
    "- ... plus multe altele"
   ]
  },
  {
   "attachments": {},
   "cell_type": "markdown",
   "metadata": {},
   "source": [
    "De ce poartă deumirea de Deep Learning? Un astfel de model poate avea mult mai multe layere în algoritm, putem avea un layer pentru input, alte 100 de layere în mijloc și după care un layer la final. O să ne concetrăm pe primele tipuri de algoritmi, dar din moment ce le învățăm pe acestea, aceste tehnici putem să le aplicăm în oricare dintre noile modele pe care le creem."
   ]
  }
 ],
 "metadata": {
  "language_info": {
   "name": "python"
  },
  "orig_nbformat": 4
 },
 "nbformat": 4,
 "nbformat_minor": 2
}
