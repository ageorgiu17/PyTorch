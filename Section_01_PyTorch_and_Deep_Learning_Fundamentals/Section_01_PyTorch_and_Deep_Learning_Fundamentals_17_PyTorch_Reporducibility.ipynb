{
 "cells": [
  {
   "attachments": {},
   "cell_type": "markdown",
   "metadata": {},
   "source": [
    "# PyTorch Repoducibility"
   ]
  },
  {
   "attachments": {},
   "cell_type": "markdown",
   "metadata": {},
   "source": [
    "Deoarece NumPy este o librărie atâta de importantă în ceea ce privește partea de computație de numere, de multe ori este necesar să transformăm date dintr-un array de NumPy într-un tensor, sau inver. Asta am învățat lecția trecută"
   ]
  },
  {
   "cell_type": "code",
   "execution_count": 5,
   "metadata": {},
   "outputs": [
    {
     "name": "stdout",
     "output_type": "stream",
     "text": [
      "[1. 2. 3. 4. 5. 6. 7. 8. 9.] <class 'numpy.ndarray'>\n",
      "tensor([1., 2., 3., 4., 5., 6., 7., 8., 9.]) <class 'torch.Tensor'>\n",
      "tensor([[1., 1., 1., 1., 1., 1., 1.]]) <class 'torch.Tensor'>\n",
      "[[1. 1. 1. 1. 1. 1. 1.]] <class 'numpy.ndarray'>\n"
     ]
    }
   ],
   "source": [
    "# importing the libraries\n",
    "import torch\n",
    "import numpy as np\n",
    "\n",
    "# creating a numpy array and converting it to torch.tensor\n",
    "arr1 = np.arange(1., 10.)\n",
    "tensor1 = torch.from_numpy(arr1).type(torch.float32)\n",
    "print(arr1, type(arr1))\n",
    "print(tensor1, type(tensor1))\n",
    "\n",
    "# creating a tensor and converting it to numpy.ndarray\n",
    "tensor2 = torch.ones(1, 7)\n",
    "arr2 = tensor2.type(torch.float64).numpy()\n",
    "print(tensor2, type(tensor2))\n",
    "print(arr2, type(arr2))"
   ]
  },
  {
   "attachments": {},
   "cell_type": "markdown",
   "metadata": {},
   "source": [
    "Am aflat faptul că o rețea neuronală se folosește de conceptul de 'random' pentru a crea tensor în rețeaua neuronală. Știm că o rețea neuronală începe nu numere random, face computații și calcule pentru acele date, updatează acele numere random pentru a putea reprezenta mai bine datele și continuă cu acest workflow de un anumit număr de ori. Dacă am dori să reproducem un experiment, poate de multe ori nu dorim să avem de a face de fiecare dată cu numere generate random deoarece dorim ca cineva să reproducă un anumit experiment. Noi de exemplu creem o rețea neuronală cu  un anumit tensor cu valori random și obținem un rezultat. Îi spunem după cuiva să încerce acest cod, dar deoarece se folosesc numere random o să ajungă la alte rezultate, alte valori, ceea ce nu ete tocmai bine. Pentru a reduce acest crearea de numere random în tensori se va folosi conceptul de `random seed` pentru rețelele neuronale din PyTorch (asemănător cu **random_seed** din scikit-learn)"
   ]
  },
  {
   "attachments": {},
   "cell_type": "markdown",
   "metadata": {},
   "source": [
    "O să creem doi tensor folosind **torch.rand()** și o să vedem că aceștia o să fie diferiți (de fiecare dată când se creează un tensor random, teoretic acesta conține valori random, diferite de valorile altui tensor creat tot prin aceeași metodă)."
   ]
  },
  {
   "cell_type": "code",
   "execution_count": 6,
   "metadata": {},
   "outputs": [
    {
     "name": "stdout",
     "output_type": "stream",
     "text": [
      "tensor([[0.2301, 0.8698, 0.8963, 0.0794],\n",
      "        [0.6049, 0.6000, 0.4100, 0.7845],\n",
      "        [0.4655, 0.0651, 0.4787, 0.4174]])\n",
      "tensor([[0.0448, 0.3523, 0.4317, 0.7283],\n",
      "        [0.8461, 0.2626, 0.3909, 0.9386],\n",
      "        [0.4326, 0.6846, 0.2328, 0.1599]])\n",
      "tensor([[False, False, False, False],\n",
      "        [False, False, False, False],\n",
      "        [False, False, False, False]])\n"
     ]
    }
   ],
   "source": [
    "# importing the library\n",
    "import torch\n",
    "\n",
    "# creating 2 random tensors\n",
    "tensor_1 = torch.rand(3, 4)\n",
    "tensor_2 = torch.rand(3, 4)\n",
    "\n",
    "print(tensor_1)\n",
    "print(tensor_2)\n",
    "print(tensor_1 == tensor_2)"
   ]
  },
  {
   "attachments": {},
   "cell_type": "markdown",
   "metadata": {},
   "source": [
    "Am creat acei doi tensori, iar la final i-am și comparat. Evident, din moment ce i-am creat cu random, aceștia sunt diferiți și au valori diferite, prin urmare se retunrează False la comparația dintre cei doi. În continuare o să ne folosim de conceptul de `random seed` pentru a crea doi tensori random, dar pe care putem să îi reproducem. Pentru a folosi acest concept o să ne creem o varaibilă căreia o să îi atribuim ca și valoare un număr (această variabilă o să fie o variabilă constantă și o să poarte denumirea de **RANDOM_SEED**), iar acea valoare o să o oferim ca și parametru pentru metoda `torch.manual_seed()`"
   ]
  },
  {
   "cell_type": "code",
   "execution_count": 7,
   "metadata": {},
   "outputs": [
    {
     "data": {
      "text/plain": [
       "<torch._C.Generator at 0x7fa04d419890>"
      ]
     },
     "execution_count": 7,
     "metadata": {},
     "output_type": "execute_result"
    }
   ],
   "source": [
    "# creating a constant variable\n",
    "RANDOM_SEED = 42\n",
    "\n",
    "# setting the seed for PyTorch\n",
    "torch.manual_seed(RANDOM_SEED)"
   ]
  },
  {
   "attachments": {},
   "cell_type": "markdown",
   "metadata": {},
   "source": [
    "Din moment ce am stabilit acest seed, o să creem acuma alți doi tensori pentru a vedea cum sunt creați acuma și dacă sunt la fel sau nu\n",
    "\n",
    "**NOTE** - pentru ca acest seed să funcționeze trebuie să fie în aceeași celulă unde se creează și tensorii"
   ]
  },
  {
   "cell_type": "code",
   "execution_count": 11,
   "metadata": {},
   "outputs": [
    {
     "name": "stdout",
     "output_type": "stream",
     "text": [
      "tensor([[0.8823, 0.9150, 0.3829, 0.9593],\n",
      "        [0.3904, 0.6009, 0.2566, 0.7936],\n",
      "        [0.9408, 0.1332, 0.9346, 0.5936]])\n",
      "tensor([[0.8694, 0.5677, 0.7411, 0.4294],\n",
      "        [0.8854, 0.5739, 0.2666, 0.6274],\n",
      "        [0.2696, 0.4414, 0.2969, 0.8317]])\n",
      "tensor([[False, False, False, False],\n",
      "        [False, False, False, False],\n",
      "        [False, False, False, False]])\n"
     ]
    }
   ],
   "source": [
    "RANDOM_SEED = 42\n",
    "torch.manual_seed(RANDOM_SEED)\n",
    "\n",
    "tensor_3 = torch.rand(3, 4)\n",
    "tensor_4 = torch.rand(3, 4)\n",
    "\n",
    "print(tensor_3)\n",
    "print(tensor_4)\n",
    "print(tensor_3 == tensor_4)"
   ]
  },
  {
   "attachments": {},
   "cell_type": "markdown",
   "metadata": {},
   "source": [
    "**Upps!!** Spuneam că atunci când utilizăm acest seed, ar trebui să avem aceleași date când se creează un tensor folosind **torch.rand()**. Motivul pentru care acești doi tensori nu sunt identici este faptul că acest seed funcționează doar pentru o utilizare a metodei random. Dacă dorim să avem mai mulți tensori identici creți cu 'torch.rand()' atunci trebuie să apelăm metoda de `torch.manual_seed()` înainte de fiecare utilizare a metode `torch.rand()`"
   ]
  },
  {
   "cell_type": "code",
   "execution_count": 13,
   "metadata": {},
   "outputs": [
    {
     "name": "stdout",
     "output_type": "stream",
     "text": [
      "tensor([[0.8823, 0.9150, 0.3829, 0.9593],\n",
      "        [0.3904, 0.6009, 0.2566, 0.7936],\n",
      "        [0.9408, 0.1332, 0.9346, 0.5936]])\n",
      "tensor([[0.8823, 0.9150, 0.3829, 0.9593],\n",
      "        [0.3904, 0.6009, 0.2566, 0.7936],\n",
      "        [0.9408, 0.1332, 0.9346, 0.5936]])\n",
      "tensor([[True, True, True, True],\n",
      "        [True, True, True, True],\n",
      "        [True, True, True, True]])\n"
     ]
    }
   ],
   "source": [
    "RANDOM_SEED = 42\n",
    "\n",
    "torch.manual_seed(RANDOM_SEED)\n",
    "tensor_5 = torch.rand(3, 4)\n",
    "\n",
    "torch.manual_seed(RANDOM_SEED)\n",
    "tensor_6 = torch.rand(3, 4)\n",
    "\n",
    "print(tensor_5)\n",
    "print(tensor_6)\n",
    "print(tensor_5 == tensor_6)"
   ]
  },
  {
   "attachments": {},
   "cell_type": "markdown",
   "metadata": {},
   "source": [
    "Acum că am utiliza metoda `torch.manual_seed(RANDOM_SEED` înainte de a crea fiecare tensor random, aceștia sunt identici deoarece s-a folosit același seed la algoritmul de generare de numere random"
   ]
  },
  {
   "attachments": {},
   "cell_type": "markdown",
   "metadata": {},
   "source": [
    "## Recapitulare"
   ]
  },
  {
   "attachments": {},
   "cell_type": "markdown",
   "metadata": {},
   "source": [
    "În această lecție am învățat:\n",
    "\n",
    "1. Cum să setăm un random seed în PyTorch (poartă denumirea de 'torch.manual_seed()'). Trebuie setat înainte de fiecare utilizare a metodei 'torch.rand()'\n",
    "\n",
    "```python\n",
    "\n",
    "import torch\n",
    "\n",
    "# creating the constant random seed variable\n",
    "RANDOM_SEED = 42\n",
    "\n",
    "# setting the seed to PyTorch\n",
    "torch.manual_seed(RANDOM_SEED)\n",
    "\n",
    "# creating a 'random' tensor\n",
    "tensor = torch.rand(3, 4)\n",
    "\n",
    "# we need to set the seed again to create another tensor identical\n",
    "torch.manual_seed(RANDOM_SEED)\n",
    "tensor1 = torch.rand(3, 4)\n",
    "```"
   ]
  },
  {
   "cell_type": "markdown",
   "metadata": {},
   "source": []
  }
 ],
 "metadata": {
  "kernelspec": {
   "display_name": "venv",
   "language": "python",
   "name": "python3"
  },
  "language_info": {
   "codemirror_mode": {
    "name": "ipython",
    "version": 3
   },
   "file_extension": ".py",
   "mimetype": "text/x-python",
   "name": "python",
   "nbconvert_exporter": "python",
   "pygments_lexer": "ipython3",
   "version": "3.9.12"
  },
  "orig_nbformat": 4
 },
 "nbformat": 4,
 "nbformat_minor": 2
}
