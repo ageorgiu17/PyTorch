{
 "cells": [
  {
   "attachments": {},
   "cell_type": "markdown",
   "metadata": {},
   "source": [
    "# Convolutional Neural Network"
   ]
  },
  {
   "attachments": {},
   "cell_type": "markdown",
   "metadata": {},
   "source": [
    "Convoluțiile sunt printre cele mai bune modele de Deep Leraning prin care un astfel de algoritm poate să afle anumite pattern-uri într-o imgaine."
   ]
  },
  {
   "attachments": {},
   "cell_type": "markdown",
   "metadata": {},
   "source": [
    "<img src='../SS/section_04_image_05.png' width=1200>"
   ]
  },
  {
   "attachments": {},
   "cell_type": "markdown",
   "metadata": {},
   "source": [
    "Arhitectura unui `Convolutional Neural Network` arată de cele mai multe ori ca și în imaginea de mai sus. Pentru început o să avem un layer de intrare prin care se specifică shape-ul pe care îl are datele de intrare în această convoluție. După asta urmează un **layer de Convoluție**. Ce anume este un astfel de layer? Acest layer este în mare parte ca și un alt hidden layer. Primește un input, iar pe baza acestui imput aplică o formulă matematică, adică se realizează partea de computație. După acest layer, din moment ce avem un set de date care reprezintă anumite imagini, aceste date nu sunt liniare, prin urmare trebuie să adăugăm și un layer non-liniar.\n",
    "\n",
    "În contiinuare, ceea ce este prezent în cadrul unei convoluții este un așa zis *Pooling layer* (o să vedem ce face acest layer mai încolo). La final o să avem partea de *Output Layer*, layer unde se specifică ce tip de date se returnează, adică shape-ul acestuia. Pentru acest layer de output trebuie să activăm o funcție de tipul **Output Layer** prin care putem să facem conversia de la *logits* la *prediction probabilities*"
   ]
  },
  {
   "attachments": {},
   "cell_type": "markdown",
   "metadata": {},
   "source": [
    "Arhitectura de mai sus este cea tipică, cea mai des întâlnită pentru un model de **COncolutional Neural Network**. Spunem tipică deoarece arhitectura o să fie diferită de la model la model, chiar dacă acestea se ocupă toate de o problemă de `Computer Vision`. Există un număr nelimitat de modalități prin care se poate crea un model de Deep Learning de convoluții"
   ]
  },
  {
   "attachments": {},
   "cell_type": "markdown",
   "metadata": {},
   "source": []
  }
 ],
 "metadata": {
  "language_info": {
   "name": "python"
  },
  "orig_nbformat": 4
 },
 "nbformat": 4,
 "nbformat_minor": 2
}
