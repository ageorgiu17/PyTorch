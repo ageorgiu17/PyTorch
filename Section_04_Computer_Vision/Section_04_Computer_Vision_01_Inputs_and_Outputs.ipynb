{
 "cells": [
  {
   "attachments": {},
   "cell_type": "markdown",
   "metadata": {},
   "source": [
    "# Inputs and Outputs"
   ]
  },
  {
   "attachments": {},
   "cell_type": "markdown",
   "metadata": {},
   "source": [
    "În lecția curentă o să vorbim despre partea de *inputs* și *outputs* pentru o problemă de **Computer Vision**."
   ]
  },
  {
   "attachments": {},
   "cell_type": "markdown",
   "metadata": {},
   "source": [
    "<img src='../SS/section_04_image_04.png' width=700>"
   ]
  },
  {
   "attachments": {},
   "cell_type": "markdown",
   "metadata": {},
   "source": [
    "Ca să înțelegem mai bine partea de *input* shapes și de *output* shapes o să ne folosim de imaginea de mai sus. După cum am spus, partea de **Computer vision** se ocupă cu procesarea datelor vizuale (imagini în cea mai mare parte). Un calculator nu poate înțelege conceptul de imagini, acesta vedea informația din imagini ca și date numerice. Cum anume se face această conversie din imagine în date numerice?\n",
    "\n",
    "Pentru început, fiecare imagine are o înălțime și o lățime. Acestea sunt reprezentate de către pixeli, prin urmare asta reprezintă două dintre informațiile pe care le ia din imaginea respectivă și le transformă în numere. Altă informație care este preluată este partea de color channels (câte canale de culori are imaginea respectivă). În imaginea de mai sus ca și exemplu avem un singur canal de culori, și anume gri. De foarte multe ori însă, o imagine este reprezentată prin trei canale de culori (Red, Green, Blue - RGB). Fiecărui pixel din imagine îi este atribuită o valoare care reprezintă intesitatea unei culori. Dacă avem o imagine cu un singur canal de culori, atunci o să avem un array de elemente unde fiecare valoare reprezintă intensitate de gri. Dacă avem trei canale de culori, atunci o să avem trei array-uri separate cu intensitate de culori, un array pentru fiecare dintre cele trei canale (RGB).\n",
    "\n",
    "Toate aceste informații (plus partea de *batch_size*) sunt inserate într-un tensor, tensor care mai departe o să fie oferit către un model de Deep Learning pentru a face anumite predicții. Shape-ul pe care o să îl aibă acest tensor care reprezintă datele de input este următorul:\n",
    "\n",
    "- [batch_size, height, width, color_channels]\n",
    "\n",
    "    - [None, 28, 28, 1]\n",
    "\n",
    "- [batch_size, color_channels, height, width]\n",
    "\n",
    "    - [None, 1, 28, 28]"
   ]
  },
  {
   "attachments": {},
   "cell_type": "markdown",
   "metadata": {},
   "source": [
    "Ca și parte de *output shape*, acesta o să aibă un număr de elemnte câte clase sunt în setul de date de antrenare. În cazul de mai sus (și pe parcursul acestei secțiuni), setul de date cu care se lucrează are un număr de 10 clase, prin urmare, ceea ce o să fie returnat o să fie un tensor care o să conțină 10 elemente (câte o probabilitate de apartenență pentru fiecare clasă în parte)"
   ]
  },
  {
   "attachments": {},
   "cell_type": "markdown",
   "metadata": {},
   "source": []
  }
 ],
 "metadata": {
  "language_info": {
   "name": "python"
  },
  "orig_nbformat": 4
 },
 "nbformat": 4,
 "nbformat_minor": 2
}
