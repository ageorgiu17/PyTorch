{
 "cells": [
  {
   "attachments": {},
   "cell_type": "markdown",
   "metadata": {},
   "source": [
    "# Computer Vision"
   ]
  },
  {
   "attachments": {},
   "cell_type": "markdown",
   "metadata": {},
   "source": [
    "În cadrul acestei secțiuni o să vorbim despre `Computer Vision`. Ce anume este **Computer Vision**? În mare parte conceptul de `Computer Vision` se referă la parte de procesare de imagini, cum anume vede un calculator o imagine și ce poate să învețe din anumite imagini pentru a căuta pattern-uri, a învăța din acestea și a face anumite predicții, detecții sau clasificări."
   ]
  },
  {
   "attachments": {},
   "cell_type": "markdown",
   "metadata": {},
   "source": [
    "<img src='../SS/section_04_image_01.png' width=600>"
   ]
  },
  {
   "attachments": {},
   "cell_type": "markdown",
   "metadata": {},
   "source": [
    "În ceea ce privește partea de Computer Vision și cam ce anume poate să se realizeze cu acest concept, o să luăm două exemple de mai sus. În primul exemplu avem partea de clasificare binară. Modelului o să i se ofere ca și input o imagine, iar acesta o să zică dacă în imaginea respectivă este o friptură sau o pizza. Cum anume face asta? Imaginear respectivă este transformată în numere, în tensori și este oferită ca și input unui model deja antrenat. Ca și antrenare se folosește un set de date care are ambele tipuri de imagini.\n",
    "\n",
    "Cum anume își dă seama un model care dintre cele două varinate de mai sus este? Păi pentru asta modelul ia aceste imagini din setul de date de antrenare (imagini care sunt transforamte în tensori) și caută anumite pattern-uri de care se poate folosi pentru a face diferența dintre cele două tipuri de clase."
   ]
  },
  {
   "attachments": {},
   "cell_type": "markdown",
   "metadata": {},
   "source": [
    "Exemplul 2 prezintă o problemă de multiclasificare în care avem prezente 3 clase. Conceptul de multiclasificare funcționează ca și cel de clasificare binară, în ideea în care se transformă iamginile în numere și se caută anumite pattern-uri în imagini în momentul în care se antrenează un model."
   ]
  },
  {
   "attachments": {},
   "cell_type": "markdown",
   "metadata": {},
   "source": [
    "Partead e Computer Vision poate să facă față la un numer super mare de clase, nu doar 2 sau 3. De exemplu, un model de clasificare utilizând **Computer Vision** dacă este antrenat pe un număr suficient de date poate să facă diferența dintre sute de clase distincte."
   ]
  },
  {
   "attachments": {},
   "cell_type": "markdown",
   "metadata": {},
   "source": [
    "O altă problemă care se poate rezolva prin partea de **Computer Vision** este cea de `Object Detection`. Prin asta, în cadrul unei imagini ni se arată unde anume în cadrul acelei imagini se găsește un anumit obiect (o mașină, o persoană, un semn de circulație, etc.)."
   ]
  },
  {
   "attachments": {},
   "cell_type": "markdown",
   "metadata": {},
   "source": [
    "<img src='../SS/section_04_image_02.png'>"
   ]
  },
  {
   "attachments": {},
   "cell_type": "markdown",
   "metadata": {},
   "source": [
    "Ca să ne facem o idee despre cum arată partea de **Object Detection**, aceasta poate să aparî ca și în imaginea de mai sus, unde subiectul de interes (mașina respectivă) este încadrată într-un chenra verde."
   ]
  },
  {
   "attachments": {},
   "cell_type": "markdown",
   "metadata": {},
   "source": [
    "Un alt procedeu ce se poate face cu ajutorul **Computer Vision** este partea de `Image Segmentation`. Prin acest procedeu se diferențiază anumite layere care pot fi considerate ca fiind separate din cadrul unei imagini."
   ]
  },
  {
   "attachments": {},
   "cell_type": "markdown",
   "metadata": {},
   "source": [
    "<img src='../SS/section_04_image_03.png'>"
   ]
  },
  {
   "attachments": {},
   "cell_type": "markdown",
   "metadata": {},
   "source": [
    "În cadrul imaginii de mai sus avem prezentată partea de **Image Segmentation**. Secționarea imaginii întregi se face prin împărțirea acelei imagini în mai multe layere specifice (o persoană separat, tenul feței, părul, cerul, etc)"
   ]
  },
  {
   "attachments": {},
   "cell_type": "markdown",
   "metadata": {},
   "source": [
    "Ce anume o să parcugem în cadrul acestei secțiuni?\n",
    "\n",
    "1. O să ne luăm un set de date cu care o să putem lucra folosind `torchvision.datasets`\n",
    "\n",
    "2. O să vedem arhitectura unuei Rețele Neuronale Convoluționale (CNN)\n",
    "\n",
    "3. O să creem un model de multi-clasificare de imagini\n",
    "\n",
    "4. Crearea unui CNN în PyTorch\n",
    "\n",
    "    - Crearea unui model de CNN\n",
    "\n",
    "    - Alegerea unui loss function și a unui optimizator\n",
    "\n",
    "    - Antrenarea unui model\n",
    "\n",
    "    - Evaluarea unui model"
   ]
  },
  {
   "attachments": {},
   "cell_type": "markdown",
   "metadata": {},
   "source": []
  }
 ],
 "metadata": {
  "language_info": {
   "name": "python"
  },
  "orig_nbformat": 4
 },
 "nbformat": 4,
 "nbformat_minor": 2
}
