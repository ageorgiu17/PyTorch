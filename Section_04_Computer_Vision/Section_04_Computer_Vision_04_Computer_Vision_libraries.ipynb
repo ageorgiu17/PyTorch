{
 "cells": [
  {
   "attachments": {},
   "cell_type": "markdown",
   "metadata": {},
   "source": [
    "# Computer Vision libraries"
   ]
  },
  {
   "attachments": {},
   "cell_type": "markdown",
   "metadata": {},
   "source": [
    "Partea de `Computer Vision` are anumite librării specifice prin care se realizează opearțiile necesare cu imagini din cauza faptului că este un proces foarte des întâlnit și s-a decis să se separe de către librăria mare de `torch`. În acestă lecție o să învățăm care sunt cele mai comune și mai utile librării de Computer Vision din PyTorch și la ce ne-ar putea ajuta\n",
    "\n",
    "1. `torchvision` - Librăria de bază pentru partea de Computer Vision utilizând PyTorch\n",
    "\n",
    "2. `torchvision.datasets` - Din acest modul putem să preluăm seturi de date pentru a experimenta, crea și învăța\n",
    "\n",
    "3. `torchvision.models` - Modul care conține modele antrenate de Computer Vision\n",
    "\n",
    "4. `torchvision.transforms` - Funcții prin care se manipulează datele pentru a putea fi folosite de către un model de Deep Learning\n",
    "\n",
    "5. `torch.utils.data.Dataset` - Clasa de bază pentru dataseturi din PyTorch\n",
    "\n",
    "6. `torch.utils.data.DataLoader` - creează un iterabil în Python pentru un Dataset"
   ]
  },
  {
   "attachments": {},
   "cell_type": "markdown",
   "metadata": {},
   "source": [
    "Acuma o să importăm unele din librăriile de mai sus și unele metode din cadrul acestor librării pentru a vedea exact de unde putem să le accesăm"
   ]
  },
  {
   "cell_type": "code",
   "execution_count": 1,
   "metadata": {},
   "outputs": [],
   "source": [
    "# PyTorch\n",
    "import torch\n",
    "from torch import nn\n",
    "\n",
    "# torchvision\n",
    "import torchvision\n",
    "from torchvision import datasets\n",
    "from torchvision import transforms\n",
    "from torchvision.transforms import ToTensor\n",
    "\n",
    "# Visualization\n",
    "import matplotlib.pyplot as plt\n",
    "import seaborn as sns"
   ]
  },
  {
   "cell_type": "code",
   "execution_count": null,
   "metadata": {},
   "outputs": [],
   "source": []
  }
 ],
 "metadata": {
  "kernelspec": {
   "display_name": "venv",
   "language": "python",
   "name": "python3"
  },
  "language_info": {
   "codemirror_mode": {
    "name": "ipython",
    "version": 3
   },
   "file_extension": ".py",
   "mimetype": "text/x-python",
   "name": "python",
   "nbconvert_exporter": "python",
   "pygments_lexer": "ipython3",
   "version": "3.9.12"
  },
  "orig_nbformat": 4
 },
 "nbformat": 4,
 "nbformat_minor": 2
}
